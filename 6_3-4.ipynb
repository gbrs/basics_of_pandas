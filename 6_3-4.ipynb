{
 "cells": [
  {
   "cell_type": "markdown",
   "id": "9f068d53-6f7b-49ce-a79e-2dfe73c2171d",
   "metadata": {},
   "source": [
    "main.csv - основная информация о предприятиях общественного питания (скачать)\n",
    "- ID - уникальный номер объекта\n",
    "- Name - наименование\n",
    "- Address - адрес\n",
    "---\n",
    "net_property.csv - является ли предприятие сетевым (скачать)\n",
    "- ID - уникальный номер объекта\n",
    "- IsNetObject - метка, которая указывает на то, является ли предприятие сетевым\n",
    "---\n",
    "seats_property.csv - количество посадочных мест (скачать)\n",
    "- ID - уникальный номер объекта\n",
    "- SeatsCount - количество посадочных мест\n",
    "- ver_ID - номер версии записи (чем выше, тем запись более актуальная)\n",
    "---\n",
    "type_property.csv - информация о специализации: столовая, закусочная, кафе, иное (скачать)\n",
    "- ID - уникальный номер объекта\n",
    "- TypeObject - специализация (тип) объекта\n",
    "- is_actual - является ли запись о специализации актуальной. 0 - не актуальная, 1 - актуальная"
   ]
  },
  {
   "cell_type": "code",
   "execution_count": null,
   "id": "e9fd57b2-3b35-43dd-86e0-23bbf7dfeeab",
   "metadata": {},
   "outputs": [],
   "source": []
  },
  {
   "cell_type": "code",
   "execution_count": 66,
   "id": "a9d40812-10c9-4382-b72a-201c85973dae",
   "metadata": {
    "tags": []
   },
   "outputs": [],
   "source": [
    "import pandas as pd\n",
    "import numpy as np"
   ]
  },
  {
   "cell_type": "code",
   "execution_count": 2,
   "id": "38b05881-a039-4eab-b750-0c699ee6dc39",
   "metadata": {},
   "outputs": [],
   "source": [
    "df_main = pd.read_csv('6_main.csv')"
   ]
  },
  {
   "cell_type": "code",
   "execution_count": 3,
   "id": "e7077dab-2720-4301-b07b-804206de063c",
   "metadata": {},
   "outputs": [],
   "source": [
    "df_net_property = pd.read_csv('6_net_property.csv')"
   ]
  },
  {
   "cell_type": "code",
   "execution_count": 4,
   "id": "3eed2aba-35b8-4f00-a155-043e1aadead1",
   "metadata": {},
   "outputs": [],
   "source": [
    "df_seats_property = pd.read_csv('6_seats_property.csv')"
   ]
  },
  {
   "cell_type": "code",
   "execution_count": 5,
   "id": "8bfcdded-607d-47c1-aa09-7bf73a9fd0c7",
   "metadata": {},
   "outputs": [],
   "source": [
    "df_type_property = pd.read_csv('6_type_property.csv')"
   ]
  },
  {
   "cell_type": "code",
   "execution_count": null,
   "id": "1ccafced-46bd-4449-9b2d-f35f120df63c",
   "metadata": {},
   "outputs": [],
   "source": []
  },
  {
   "cell_type": "markdown",
   "id": "12fe264a-de77-44d5-8a48-73b014e5bac3",
   "metadata": {},
   "source": [
    "## Урок 6.3"
   ]
  },
  {
   "cell_type": "code",
   "execution_count": null,
   "id": "3285aa49-6bc7-4d5f-82fa-36e54164078f",
   "metadata": {},
   "outputs": [],
   "source": []
  },
  {
   "cell_type": "markdown",
   "id": "c8027bb8-c8bf-4208-82f3-9676e5fbf80e",
   "metadata": {},
   "source": [
    "### Задание 1\n",
    "Определите процент объектов у которых запись о специализации отсутствует или не является актуальной. Получившийся процент округлите до целых."
   ]
  },
  {
   "cell_type": "code",
   "execution_count": 7,
   "id": "635a72f8-fc2e-43be-89a9-25933e9d896a",
   "metadata": {},
   "outputs": [
    {
     "data": {
      "text/html": [
       "<div>\n",
       "<style scoped>\n",
       "    .dataframe tbody tr th:only-of-type {\n",
       "        vertical-align: middle;\n",
       "    }\n",
       "\n",
       "    .dataframe tbody tr th {\n",
       "        vertical-align: top;\n",
       "    }\n",
       "\n",
       "    .dataframe thead th {\n",
       "        text-align: right;\n",
       "    }\n",
       "</style>\n",
       "<table border=\"1\" class=\"dataframe\">\n",
       "  <thead>\n",
       "    <tr style=\"text-align: right;\">\n",
       "      <th></th>\n",
       "      <th>ID</th>\n",
       "      <th>Name</th>\n",
       "      <th>Address</th>\n",
       "      <th>TypeObject</th>\n",
       "      <th>is_actual</th>\n",
       "    </tr>\n",
       "  </thead>\n",
       "  <tbody>\n",
       "    <tr>\n",
       "      <th>0</th>\n",
       "      <td>20988</td>\n",
       "      <td>ГУЗ</td>\n",
       "      <td>город Москва, улица Казакова, дом 15</td>\n",
       "      <td>столовая</td>\n",
       "      <td>True</td>\n",
       "    </tr>\n",
       "    <tr>\n",
       "      <th>1</th>\n",
       "      <td>24828</td>\n",
       "      <td>Кафе Халяль</td>\n",
       "      <td>город Москва, 8-я улица Текстильщиков, дом 5, ...</td>\n",
       "      <td>NaN</td>\n",
       "      <td>NaN</td>\n",
       "    </tr>\n",
       "    <tr>\n",
       "      <th>2</th>\n",
       "      <td>358126</td>\n",
       "      <td>Scarface</td>\n",
       "      <td>Российская Федерация, город Москва, внутригоро...</td>\n",
       "      <td>кафе</td>\n",
       "      <td>True</td>\n",
       "    </tr>\n",
       "    <tr>\n",
       "      <th>3</th>\n",
       "      <td>373052</td>\n",
       "      <td>Кулинариум</td>\n",
       "      <td>Российская Федерация, город Москва, внутригоро...</td>\n",
       "      <td>кафетерий</td>\n",
       "      <td>False</td>\n",
       "    </tr>\n",
       "    <tr>\n",
       "      <th>4</th>\n",
       "      <td>303239</td>\n",
       "      <td>One price coffee</td>\n",
       "      <td>Российская Федерация, город Москва, внутригоро...</td>\n",
       "      <td>NaN</td>\n",
       "      <td>NaN</td>\n",
       "    </tr>\n",
       "  </tbody>\n",
       "</table>\n",
       "</div>"
      ],
      "text/plain": [
       "       ID              Name  \\\n",
       "0   20988               ГУЗ   \n",
       "1   24828       Кафе Халяль   \n",
       "2  358126          Scarface   \n",
       "3  373052        Кулинариум   \n",
       "4  303239  One price coffee   \n",
       "\n",
       "                                             Address TypeObject is_actual  \n",
       "0               город Москва, улица Казакова, дом 15   столовая      True  \n",
       "1  город Москва, 8-я улица Текстильщиков, дом 5, ...        NaN       NaN  \n",
       "2  Российская Федерация, город Москва, внутригоро...       кафе      True  \n",
       "3  Российская Федерация, город Москва, внутригоро...  кафетерий     False  \n",
       "4  Российская Федерация, город Москва, внутригоро...        NaN       NaN  "
      ]
     },
     "execution_count": 7,
     "metadata": {},
     "output_type": "execute_result"
    }
   ],
   "source": [
    "df_1 = pd.merge(df_main, df_type_property, how='left')\n",
    "df_1.head()"
   ]
  },
  {
   "cell_type": "code",
   "execution_count": 11,
   "id": "398b04e1-3117-4801-ba88-c69605976a29",
   "metadata": {},
   "outputs": [
    {
     "data": {
      "text/plain": [
       "67"
      ]
     },
     "execution_count": 11,
     "metadata": {},
     "output_type": "execute_result"
    }
   ],
   "source": [
    "round((df_1.shape[0] - df_1.is_actual.sum()) / df_1.shape[0] * 100)"
   ]
  },
  {
   "cell_type": "code",
   "execution_count": null,
   "id": "efffe949-e1a8-4cea-8552-5c1d20a2e1a1",
   "metadata": {},
   "outputs": [],
   "source": []
  },
  {
   "cell_type": "markdown",
   "id": "a9977f41-5b95-4013-bb85-55bbe18b8c6c",
   "metadata": {},
   "source": [
    "### Задание 2\n",
    "Подтяните к исходному списку (main.csv) последние данные о числе посадочных мест для каждого объекта. Сколько всего посадочных мест получилось?"
   ]
  },
  {
   "cell_type": "code",
   "execution_count": 27,
   "id": "1ffbf07c-7401-4aad-abc9-29e99737be9a",
   "metadata": {},
   "outputs": [
    {
     "data": {
      "text/html": [
       "<div>\n",
       "<style scoped>\n",
       "    .dataframe tbody tr th:only-of-type {\n",
       "        vertical-align: middle;\n",
       "    }\n",
       "\n",
       "    .dataframe tbody tr th {\n",
       "        vertical-align: top;\n",
       "    }\n",
       "\n",
       "    .dataframe thead th {\n",
       "        text-align: right;\n",
       "    }\n",
       "</style>\n",
       "<table border=\"1\" class=\"dataframe\">\n",
       "  <thead>\n",
       "    <tr style=\"text-align: right;\">\n",
       "      <th></th>\n",
       "      <th>SeatsCount</th>\n",
       "      <th>ver_ID</th>\n",
       "    </tr>\n",
       "    <tr>\n",
       "      <th>ID</th>\n",
       "      <th></th>\n",
       "      <th></th>\n",
       "    </tr>\n",
       "  </thead>\n",
       "  <tbody>\n",
       "    <tr>\n",
       "      <th>5882</th>\n",
       "      <td>75</td>\n",
       "      <td>2</td>\n",
       "    </tr>\n",
       "    <tr>\n",
       "      <th>19627</th>\n",
       "      <td>20</td>\n",
       "      <td>2</td>\n",
       "    </tr>\n",
       "    <tr>\n",
       "      <th>19657</th>\n",
       "      <td>85</td>\n",
       "      <td>2</td>\n",
       "    </tr>\n",
       "    <tr>\n",
       "      <th>19678</th>\n",
       "      <td>46</td>\n",
       "      <td>1</td>\n",
       "    </tr>\n",
       "    <tr>\n",
       "      <th>19681</th>\n",
       "      <td>24</td>\n",
       "      <td>1</td>\n",
       "    </tr>\n",
       "    <tr>\n",
       "      <th>...</th>\n",
       "      <td>...</td>\n",
       "      <td>...</td>\n",
       "    </tr>\n",
       "    <tr>\n",
       "      <th>375905</th>\n",
       "      <td>34</td>\n",
       "      <td>1</td>\n",
       "    </tr>\n",
       "    <tr>\n",
       "      <th>375933</th>\n",
       "      <td>5</td>\n",
       "      <td>2</td>\n",
       "    </tr>\n",
       "    <tr>\n",
       "      <th>375940</th>\n",
       "      <td>10</td>\n",
       "      <td>2</td>\n",
       "    </tr>\n",
       "    <tr>\n",
       "      <th>375942</th>\n",
       "      <td>0</td>\n",
       "      <td>1</td>\n",
       "    </tr>\n",
       "    <tr>\n",
       "      <th>375956</th>\n",
       "      <td>0</td>\n",
       "      <td>1</td>\n",
       "    </tr>\n",
       "  </tbody>\n",
       "</table>\n",
       "<p>8432 rows × 2 columns</p>\n",
       "</div>"
      ],
      "text/plain": [
       "        SeatsCount  ver_ID\n",
       "ID                        \n",
       "5882            75       2\n",
       "19627           20       2\n",
       "19657           85       2\n",
       "19678           46       1\n",
       "19681           24       1\n",
       "...            ...     ...\n",
       "375905          34       1\n",
       "375933           5       2\n",
       "375940          10       2\n",
       "375942           0       1\n",
       "375956           0       1\n",
       "\n",
       "[8432 rows x 2 columns]"
      ]
     },
     "execution_count": 27,
     "metadata": {},
     "output_type": "execute_result"
    }
   ],
   "source": [
    "df_seats_property.groupby('ID').max('ver_ID')"
   ]
  },
  {
   "cell_type": "code",
   "execution_count": 34,
   "id": "fe2f9662-4ca9-415b-ae57-2245ef569e76",
   "metadata": {},
   "outputs": [
    {
     "data": {
      "text/html": [
       "<div>\n",
       "<style scoped>\n",
       "    .dataframe tbody tr th:only-of-type {\n",
       "        vertical-align: middle;\n",
       "    }\n",
       "\n",
       "    .dataframe tbody tr th {\n",
       "        vertical-align: top;\n",
       "    }\n",
       "\n",
       "    .dataframe thead th {\n",
       "        text-align: right;\n",
       "    }\n",
       "</style>\n",
       "<table border=\"1\" class=\"dataframe\">\n",
       "  <thead>\n",
       "    <tr style=\"text-align: right;\">\n",
       "      <th></th>\n",
       "      <th>ID</th>\n",
       "      <th>Name</th>\n",
       "      <th>Address</th>\n",
       "      <th>SeatsCount</th>\n",
       "      <th>ver_ID</th>\n",
       "    </tr>\n",
       "  </thead>\n",
       "  <tbody>\n",
       "    <tr>\n",
       "      <th>3</th>\n",
       "      <td>373052</td>\n",
       "      <td>Кулинариум</td>\n",
       "      <td>Российская Федерация, город Москва, внутригоро...</td>\n",
       "      <td>4</td>\n",
       "      <td>1</td>\n",
       "    </tr>\n",
       "    <tr>\n",
       "      <th>4</th>\n",
       "      <td>303239</td>\n",
       "      <td>One price coffee</td>\n",
       "      <td>Российская Федерация, город Москва, внутригоро...</td>\n",
       "      <td>5</td>\n",
       "      <td>2</td>\n",
       "    </tr>\n",
       "    <tr>\n",
       "      <th>6</th>\n",
       "      <td>342854</td>\n",
       "      <td>МЯСОЕД STEAK&amp;BRISKET</td>\n",
       "      <td>город Москва, проспект Вернадского, дом 86В</td>\n",
       "      <td>5</td>\n",
       "      <td>2</td>\n",
       "    </tr>\n",
       "    <tr>\n",
       "      <th>7</th>\n",
       "      <td>363640</td>\n",
       "      <td>Шаурма-выпечка</td>\n",
       "      <td>Российская Федерация, город Москва, внутригоро...</td>\n",
       "      <td>5</td>\n",
       "      <td>2</td>\n",
       "    </tr>\n",
       "    <tr>\n",
       "      <th>11</th>\n",
       "      <td>254675</td>\n",
       "      <td>Timeless</td>\n",
       "      <td>Российская Федерация, город Москва, внутригоро...</td>\n",
       "      <td>31</td>\n",
       "      <td>2</td>\n",
       "    </tr>\n",
       "  </tbody>\n",
       "</table>\n",
       "</div>"
      ],
      "text/plain": [
       "        ID                  Name  \\\n",
       "3   373052            Кулинариум   \n",
       "4   303239      One price coffee   \n",
       "6   342854  МЯСОЕД STEAK&BRISKET   \n",
       "7   363640        Шаурма-выпечка   \n",
       "11  254675              Timeless   \n",
       "\n",
       "                                              Address  SeatsCount  ver_ID  \n",
       "3   Российская Федерация, город Москва, внутригоро...           4       1  \n",
       "4   Российская Федерация, город Москва, внутригоро...           5       2  \n",
       "6         город Москва, проспект Вернадского, дом 86В           5       2  \n",
       "7   Российская Федерация, город Москва, внутригоро...           5       2  \n",
       "11  Российская Федерация, город Москва, внутригоро...          31       2  "
      ]
     },
     "execution_count": 34,
     "metadata": {},
     "output_type": "execute_result"
    }
   ],
   "source": [
    "df_2 = pd.merge(df_main, df_seats_property.groupby('ID').max('ver_ID'), left_on = 'ID', right_index=True)\n",
    "df_2.head()"
   ]
  },
  {
   "cell_type": "code",
   "execution_count": 35,
   "id": "fc5ae98e-23f3-486d-a0b9-d49f8182a183",
   "metadata": {},
   "outputs": [
    {
     "data": {
      "text/plain": [
       "188241"
      ]
     },
     "execution_count": 35,
     "metadata": {},
     "output_type": "execute_result"
    }
   ],
   "source": [
    "df_2.SeatsCount.sum()"
   ]
  },
  {
   "cell_type": "code",
   "execution_count": 37,
   "id": "baeea9e5-b536-4798-a31a-4acbec18f1ef",
   "metadata": {},
   "outputs": [
    {
     "data": {
      "text/plain": [
       "188241"
      ]
     },
     "execution_count": 37,
     "metadata": {},
     "output_type": "execute_result"
    }
   ],
   "source": [
    "pd.merge(\n",
    "        df_main, \n",
    "        df_seats_property.groupby('ID').max('ver_ID'), \n",
    "        left_on = 'ID', \n",
    "        right_index=True\n",
    ")\\\n",
    ".SeatsCount\\\n",
    ".sum()"
   ]
  },
  {
   "cell_type": "code",
   "execution_count": null,
   "id": "b3569a04-2383-46b2-bce4-6f3bf9a5b7f9",
   "metadata": {},
   "outputs": [],
   "source": []
  },
  {
   "cell_type": "markdown",
   "id": "a0fb10d1-0e53-47d6-aafb-39deff77379f",
   "metadata": {},
   "source": [
    "### Задание 3\n",
    "Сформируйте итоговую выгрузку в формате csv (разделитель запятая), которая будет содержать все объекты общепита из файла main.csv. Подтяните признак сетевой/не сетевой и актуальную специализацию. Отсортируйте по специализации  в алфавитном порядке. Внутри каждой специализации сортировка должна идти по убыванию ID. Объекты у которых отсутствует специализация должны идти в начале выгрузки (и тоже по убыванию ID).  \n",
    "Колонки, которые должны быть в csv файле: ID,Name,Address,IsNetObject,TypeObject,is_actual."
   ]
  },
  {
   "cell_type": "code",
   "execution_count": 4,
   "id": "b181ef2c-ee90-4d1b-8b63-8746d0150ff5",
   "metadata": {},
   "outputs": [],
   "source": [
    "df_main = pd.read_csv('6_main.csv')"
   ]
  },
  {
   "cell_type": "code",
   "execution_count": 5,
   "id": "bdbf62d8-978f-47c5-9bee-75e988fadfff",
   "metadata": {},
   "outputs": [],
   "source": [
    "df_net_property = pd.read_csv('6_net_property.csv')"
   ]
  },
  {
   "cell_type": "code",
   "execution_count": 7,
   "id": "eac419b1-a621-4374-8f03-1e308725a7d4",
   "metadata": {},
   "outputs": [],
   "source": [
    "df_type_property = pd.read_csv('6_type_property.csv')"
   ]
  },
  {
   "cell_type": "code",
   "execution_count": 23,
   "id": "0ff159e1-d528-4732-8cde-fb08c43cf1e4",
   "metadata": {},
   "outputs": [
    {
     "data": {
      "text/html": [
       "<div>\n",
       "<style scoped>\n",
       "    .dataframe tbody tr th:only-of-type {\n",
       "        vertical-align: middle;\n",
       "    }\n",
       "\n",
       "    .dataframe tbody tr th {\n",
       "        vertical-align: top;\n",
       "    }\n",
       "\n",
       "    .dataframe thead th {\n",
       "        text-align: right;\n",
       "    }\n",
       "</style>\n",
       "<table border=\"1\" class=\"dataframe\">\n",
       "  <thead>\n",
       "    <tr style=\"text-align: right;\">\n",
       "      <th></th>\n",
       "      <th>ID</th>\n",
       "      <th>Name</th>\n",
       "      <th>Address</th>\n",
       "      <th>IsNetObject</th>\n",
       "      <th>TypeObject</th>\n",
       "      <th>is_actual</th>\n",
       "    </tr>\n",
       "  </thead>\n",
       "  <tbody>\n",
       "    <tr>\n",
       "      <th>4912</th>\n",
       "      <td>375956</td>\n",
       "      <td>Крошка Картошка</td>\n",
       "      <td>город Москва, Люблинская улица, дом 169, корпус 2</td>\n",
       "      <td>да</td>\n",
       "      <td>NaN</td>\n",
       "      <td>NaN</td>\n",
       "    </tr>\n",
       "    <tr>\n",
       "      <th>5063</th>\n",
       "      <td>375954</td>\n",
       "      <td>Кофе</td>\n",
       "      <td>Российская Федерация, город Москва, внутригоро...</td>\n",
       "      <td>NaN</td>\n",
       "      <td>NaN</td>\n",
       "      <td>NaN</td>\n",
       "    </tr>\n",
       "    <tr>\n",
       "      <th>7804</th>\n",
       "      <td>375834</td>\n",
       "      <td>Донеретто</td>\n",
       "      <td>город Москва, улица Лестева, дом 6</td>\n",
       "      <td>нет</td>\n",
       "      <td>NaN</td>\n",
       "      <td>NaN</td>\n",
       "    </tr>\n",
       "    <tr>\n",
       "      <th>493</th>\n",
       "      <td>375830</td>\n",
       "      <td>Шаурма</td>\n",
       "      <td>город Москва, улица Вертолётчиков, дом 2А, кор...</td>\n",
       "      <td>NaN</td>\n",
       "      <td>NaN</td>\n",
       "      <td>NaN</td>\n",
       "    </tr>\n",
       "    <tr>\n",
       "      <th>5521</th>\n",
       "      <td>375822</td>\n",
       "      <td>Кафе</td>\n",
       "      <td>Российская Федерация, город Москва, внутригоро...</td>\n",
       "      <td>NaN</td>\n",
       "      <td>NaN</td>\n",
       "      <td>NaN</td>\n",
       "    </tr>\n",
       "  </tbody>\n",
       "</table>\n",
       "</div>"
      ],
      "text/plain": [
       "          ID             Name  \\\n",
       "4912  375956  Крошка Картошка   \n",
       "5063  375954             Кофе   \n",
       "7804  375834        Донеретто   \n",
       "493   375830           Шаурма   \n",
       "5521  375822             Кафе   \n",
       "\n",
       "                                                Address IsNetObject  \\\n",
       "4912  город Москва, Люблинская улица, дом 169, корпус 2          да   \n",
       "5063  Российская Федерация, город Москва, внутригоро...         NaN   \n",
       "7804                 город Москва, улица Лестева, дом 6         нет   \n",
       "493   город Москва, улица Вертолётчиков, дом 2А, кор...         NaN   \n",
       "5521  Российская Федерация, город Москва, внутригоро...         NaN   \n",
       "\n",
       "     TypeObject is_actual  \n",
       "4912        NaN       NaN  \n",
       "5063        NaN       NaN  \n",
       "7804        NaN       NaN  \n",
       "493         NaN       NaN  \n",
       "5521        NaN       NaN  "
      ]
     },
     "execution_count": 23,
     "metadata": {},
     "output_type": "execute_result"
    }
   ],
   "source": [
    "df_answer = \\\n",
    "    pd.merge(\n",
    "            pd.merge(df_main, df_net_property, how='left'), \n",
    "            df_type_property[df_type_property.is_actual], \n",
    "            how='left').\\\n",
    "    sort_values(['TypeObject', 'ID'], ascending=[True, False], na_position='first')\n",
    "df_answer.head()"
   ]
  },
  {
   "cell_type": "code",
   "execution_count": 24,
   "id": "84417711-f4f4-4018-b4a9-6037292d12ce",
   "metadata": {},
   "outputs": [],
   "source": [
    "df_answer.to_csv('6_3_3.csv', index=False)"
   ]
  },
  {
   "cell_type": "code",
   "execution_count": null,
   "id": "33dc19cf-4368-4d4d-819f-4e068c5c3264",
   "metadata": {},
   "outputs": [],
   "source": []
  },
  {
   "cell_type": "code",
   "execution_count": null,
   "id": "5934548a-840d-4185-acf4-739bbaac34a1",
   "metadata": {},
   "outputs": [],
   "source": []
  },
  {
   "cell_type": "markdown",
   "id": "10f9a63d-6117-47a5-a35e-0850f4d3e61e",
   "metadata": {},
   "source": [
    "## Урок 6.4"
   ]
  },
  {
   "cell_type": "code",
   "execution_count": null,
   "id": "65692b54-9c60-40a8-9ec8-be75326dcf60",
   "metadata": {
    "tags": []
   },
   "outputs": [],
   "source": []
  },
  {
   "cell_type": "markdown",
   "id": "f23553f6-aba3-458f-8f49-c72aa464cf91",
   "metadata": {
    "tags": []
   },
   "source": [
    "### Задание 6.4.1\n",
    "Разбейте все сетевые объекты общепита со специализацией кафе на 4 группы (по количеству посадочных мест):\n",
    "\n",
    "1. 0 - 5\n",
    "2. 6 - 15 \n",
    "3. 16 - 25\n",
    "4. 26+  \n",
    "\n",
    "В какой группе больше всего объектов?"
   ]
  },
  {
   "cell_type": "code",
   "execution_count": 3,
   "id": "e4634dba-f886-4dea-ad18-133cc5a49ccd",
   "metadata": {},
   "outputs": [],
   "source": [
    "df_main = pd.read_csv('6_main.csv')"
   ]
  },
  {
   "cell_type": "code",
   "execution_count": 4,
   "id": "086239d6-9102-40b3-a5bb-a7aee24a799f",
   "metadata": {},
   "outputs": [],
   "source": [
    "df_type_property = pd.read_csv('6_type_property.csv')"
   ]
  },
  {
   "cell_type": "code",
   "execution_count": 8,
   "id": "71445325-31d4-4dc3-a171-b933a0f32fbc",
   "metadata": {},
   "outputs": [],
   "source": [
    "df_seats_property = pd.read_csv('6_seats_property.csv')"
   ]
  },
  {
   "cell_type": "code",
   "execution_count": 50,
   "id": "feb013f8-bee3-4fd8-bceb-d7977cf61533",
   "metadata": {},
   "outputs": [],
   "source": [
    "df_net_property = pd.read_csv('6_net_property.csv')"
   ]
  },
  {
   "cell_type": "code",
   "execution_count": 71,
   "id": "15b68bbc-e509-481b-ab57-e96b093d86ff",
   "metadata": {},
   "outputs": [],
   "source": [
    "df_answer = \\\n",
    "    pd.merge(\n",
    "        pd.merge(\n",
    "            pd.merge(\n",
    "                df_main, \n",
    "                df_type_property[df_type_property.is_actual], \n",
    "                how='left'), \n",
    "            df_seats_property, \n",
    "            how='left'), \n",
    "        df_net_property, \n",
    "        how='left').\\\n",
    "    query(\"TypeObject=='кафе' & IsNetObject=='да' & SeatsCount > 0\").\\\n",
    "    groupby('ID').\\\n",
    "    max('ver_ID')"
   ]
  },
  {
   "cell_type": "code",
   "execution_count": 72,
   "id": "e5986c33-857f-4903-b3ea-d7d54ae6e0d0",
   "metadata": {},
   "outputs": [],
   "source": [
    "df_answer['SeatsCountGroup'] = pd.cut(df_answer.SeatsCount, [0, 5, 15, 25, df_answer.SeatsCount.max()], labels=['0 - 5', '6 - 15', '16 - 25', '26+'])"
   ]
  },
  {
   "cell_type": "code",
   "execution_count": 79,
   "id": "1a47b974-200d-4c72-be67-96aeb1cdaf46",
   "metadata": {},
   "outputs": [
    {
     "data": {
      "text/html": [
       "<div>\n",
       "<style scoped>\n",
       "    .dataframe tbody tr th:only-of-type {\n",
       "        vertical-align: middle;\n",
       "    }\n",
       "\n",
       "    .dataframe tbody tr th {\n",
       "        vertical-align: top;\n",
       "    }\n",
       "\n",
       "    .dataframe thead th {\n",
       "        text-align: right;\n",
       "    }\n",
       "</style>\n",
       "<table border=\"1\" class=\"dataframe\">\n",
       "  <thead>\n",
       "    <tr style=\"text-align: right;\">\n",
       "      <th></th>\n",
       "      <th>SeatsCount</th>\n",
       "      <th>ver_ID</th>\n",
       "      <th>SeatsCountGroup</th>\n",
       "    </tr>\n",
       "    <tr>\n",
       "      <th>ID</th>\n",
       "      <th></th>\n",
       "      <th></th>\n",
       "      <th></th>\n",
       "    </tr>\n",
       "  </thead>\n",
       "  <tbody>\n",
       "    <tr>\n",
       "      <th>260577</th>\n",
       "      <td>55.0</td>\n",
       "      <td>2.0</td>\n",
       "      <td>26+</td>\n",
       "    </tr>\n",
       "    <tr>\n",
       "      <th>192911</th>\n",
       "      <td>95.0</td>\n",
       "      <td>2.0</td>\n",
       "      <td>26+</td>\n",
       "    </tr>\n",
       "    <tr>\n",
       "      <th>342389</th>\n",
       "      <td>54.0</td>\n",
       "      <td>1.0</td>\n",
       "      <td>26+</td>\n",
       "    </tr>\n",
       "    <tr>\n",
       "      <th>20182</th>\n",
       "      <td>35.0</td>\n",
       "      <td>1.0</td>\n",
       "      <td>26+</td>\n",
       "    </tr>\n",
       "    <tr>\n",
       "      <th>138495</th>\n",
       "      <td>23.0</td>\n",
       "      <td>2.0</td>\n",
       "      <td>16 - 25</td>\n",
       "    </tr>\n",
       "    <tr>\n",
       "      <th>279733</th>\n",
       "      <td>15.0</td>\n",
       "      <td>2.0</td>\n",
       "      <td>6 - 15</td>\n",
       "    </tr>\n",
       "    <tr>\n",
       "      <th>149196</th>\n",
       "      <td>20.0</td>\n",
       "      <td>2.0</td>\n",
       "      <td>16 - 25</td>\n",
       "    </tr>\n",
       "    <tr>\n",
       "      <th>288642</th>\n",
       "      <td>65.0</td>\n",
       "      <td>2.0</td>\n",
       "      <td>26+</td>\n",
       "    </tr>\n",
       "    <tr>\n",
       "      <th>360088</th>\n",
       "      <td>15.0</td>\n",
       "      <td>1.0</td>\n",
       "      <td>6 - 15</td>\n",
       "    </tr>\n",
       "    <tr>\n",
       "      <th>229352</th>\n",
       "      <td>30.0</td>\n",
       "      <td>2.0</td>\n",
       "      <td>26+</td>\n",
       "    </tr>\n",
       "  </tbody>\n",
       "</table>\n",
       "</div>"
      ],
      "text/plain": [
       "        SeatsCount  ver_ID SeatsCountGroup\n",
       "ID                                        \n",
       "260577        55.0     2.0             26+\n",
       "192911        95.0     2.0             26+\n",
       "342389        54.0     1.0             26+\n",
       "20182         35.0     1.0             26+\n",
       "138495        23.0     2.0         16 - 25\n",
       "279733        15.0     2.0          6 - 15\n",
       "149196        20.0     2.0         16 - 25\n",
       "288642        65.0     2.0             26+\n",
       "360088        15.0     1.0          6 - 15\n",
       "229352        30.0     2.0             26+"
      ]
     },
     "execution_count": 79,
     "metadata": {},
     "output_type": "execute_result"
    }
   ],
   "source": [
    "df_answer.sample(10)"
   ]
  },
  {
   "cell_type": "code",
   "execution_count": 86,
   "id": "eb2279b1-9c66-4cfa-93f0-609dbac9f32d",
   "metadata": {},
   "outputs": [
    {
     "data": {
      "text/plain": [
       "SeatsCountGroup\n",
       "0 - 5       1\n",
       "6 - 15     12\n",
       "16 - 25    10\n",
       "26+        46\n",
       "Name: SeatsCount, dtype: int64"
      ]
     },
     "execution_count": 86,
     "metadata": {},
     "output_type": "execute_result"
    }
   ],
   "source": [
    "df_answer.groupby('SeatsCountGroup').SeatsCount.count()"
   ]
  },
  {
   "cell_type": "code",
   "execution_count": null,
   "id": "a2e82af9-3246-4dcb-90bc-5cfc6ad4dbba",
   "metadata": {},
   "outputs": [],
   "source": []
  },
  {
   "cell_type": "code",
   "execution_count": null,
   "id": "654f5753-f690-4018-8272-2b45e2cf29d1",
   "metadata": {},
   "outputs": [],
   "source": []
  },
  {
   "cell_type": "code",
   "execution_count": null,
   "id": "accf0dd4-a31c-4579-b6e1-91e0b0caf100",
   "metadata": {},
   "outputs": [],
   "source": []
  },
  {
   "cell_type": "code",
   "execution_count": null,
   "id": "e31926a2-bd1b-4187-b94a-5ec904c92446",
   "metadata": {},
   "outputs": [],
   "source": []
  },
  {
   "cell_type": "code",
   "execution_count": 6,
   "id": "3cbfd824-33ba-4943-ad4f-9a81a222a847",
   "metadata": {},
   "outputs": [
    {
     "data": {
      "text/html": [
       "<div>\n",
       "<style scoped>\n",
       "    .dataframe tbody tr th:only-of-type {\n",
       "        vertical-align: middle;\n",
       "    }\n",
       "\n",
       "    .dataframe tbody tr th {\n",
       "        vertical-align: top;\n",
       "    }\n",
       "\n",
       "    .dataframe thead th {\n",
       "        text-align: right;\n",
       "    }\n",
       "</style>\n",
       "<table border=\"1\" class=\"dataframe\">\n",
       "  <thead>\n",
       "    <tr style=\"text-align: right;\">\n",
       "      <th></th>\n",
       "      <th>ID</th>\n",
       "      <th>Name</th>\n",
       "      <th>Address</th>\n",
       "    </tr>\n",
       "  </thead>\n",
       "  <tbody>\n",
       "    <tr>\n",
       "      <th>0</th>\n",
       "      <td>20988</td>\n",
       "      <td>ГУЗ</td>\n",
       "      <td>город Москва, улица Казакова, дом 15</td>\n",
       "    </tr>\n",
       "  </tbody>\n",
       "</table>\n",
       "</div>"
      ],
      "text/plain": [
       "      ID Name                               Address\n",
       "0  20988  ГУЗ  город Москва, улица Казакова, дом 15"
      ]
     },
     "execution_count": 6,
     "metadata": {},
     "output_type": "execute_result"
    }
   ],
   "source": [
    "pd.read_csv('6_main.csv').head(1)"
   ]
  },
  {
   "cell_type": "code",
   "execution_count": 7,
   "id": "bcb41dee-5743-4e92-9c6c-6ddbc1e53ae8",
   "metadata": {},
   "outputs": [
    {
     "data": {
      "text/html": [
       "<div>\n",
       "<style scoped>\n",
       "    .dataframe tbody tr th:only-of-type {\n",
       "        vertical-align: middle;\n",
       "    }\n",
       "\n",
       "    .dataframe tbody tr th {\n",
       "        vertical-align: top;\n",
       "    }\n",
       "\n",
       "    .dataframe thead th {\n",
       "        text-align: right;\n",
       "    }\n",
       "</style>\n",
       "<table border=\"1\" class=\"dataframe\">\n",
       "  <thead>\n",
       "    <tr style=\"text-align: right;\">\n",
       "      <th></th>\n",
       "      <th>ID</th>\n",
       "      <th>IsNetObject</th>\n",
       "    </tr>\n",
       "  </thead>\n",
       "  <tbody>\n",
       "    <tr>\n",
       "      <th>0</th>\n",
       "      <td>369614</td>\n",
       "      <td>нет</td>\n",
       "    </tr>\n",
       "  </tbody>\n",
       "</table>\n",
       "</div>"
      ],
      "text/plain": [
       "       ID IsNetObject\n",
       "0  369614         нет"
      ]
     },
     "execution_count": 7,
     "metadata": {},
     "output_type": "execute_result"
    }
   ],
   "source": [
    "pd.read_csv('6_net_property.csv').head(1)"
   ]
  },
  {
   "cell_type": "code",
   "execution_count": 8,
   "id": "f48b3834-bb4f-4041-a58c-b43a3ba4b54c",
   "metadata": {},
   "outputs": [
    {
     "data": {
      "text/html": [
       "<div>\n",
       "<style scoped>\n",
       "    .dataframe tbody tr th:only-of-type {\n",
       "        vertical-align: middle;\n",
       "    }\n",
       "\n",
       "    .dataframe tbody tr th {\n",
       "        vertical-align: top;\n",
       "    }\n",
       "\n",
       "    .dataframe thead th {\n",
       "        text-align: right;\n",
       "    }\n",
       "</style>\n",
       "<table border=\"1\" class=\"dataframe\">\n",
       "  <thead>\n",
       "    <tr style=\"text-align: right;\">\n",
       "      <th></th>\n",
       "      <th>ID</th>\n",
       "      <th>SeatsCount</th>\n",
       "      <th>ver_ID</th>\n",
       "    </tr>\n",
       "  </thead>\n",
       "  <tbody>\n",
       "    <tr>\n",
       "      <th>0</th>\n",
       "      <td>345181</td>\n",
       "      <td>0</td>\n",
       "      <td>1</td>\n",
       "    </tr>\n",
       "  </tbody>\n",
       "</table>\n",
       "</div>"
      ],
      "text/plain": [
       "       ID  SeatsCount  ver_ID\n",
       "0  345181           0       1"
      ]
     },
     "execution_count": 8,
     "metadata": {},
     "output_type": "execute_result"
    }
   ],
   "source": [
    "pd.read_csv('6_seats_property.csv').head(1)"
   ]
  },
  {
   "cell_type": "code",
   "execution_count": 9,
   "id": "f2ee4a88-8644-48d7-a5d4-b601de7d275b",
   "metadata": {},
   "outputs": [
    {
     "data": {
      "text/html": [
       "<div>\n",
       "<style scoped>\n",
       "    .dataframe tbody tr th:only-of-type {\n",
       "        vertical-align: middle;\n",
       "    }\n",
       "\n",
       "    .dataframe tbody tr th {\n",
       "        vertical-align: top;\n",
       "    }\n",
       "\n",
       "    .dataframe thead th {\n",
       "        text-align: right;\n",
       "    }\n",
       "</style>\n",
       "<table border=\"1\" class=\"dataframe\">\n",
       "  <thead>\n",
       "    <tr style=\"text-align: right;\">\n",
       "      <th></th>\n",
       "      <th>ID</th>\n",
       "      <th>TypeObject</th>\n",
       "      <th>is_actual</th>\n",
       "    </tr>\n",
       "  </thead>\n",
       "  <tbody>\n",
       "    <tr>\n",
       "      <th>0</th>\n",
       "      <td>302619</td>\n",
       "      <td>закусочная</td>\n",
       "      <td>True</td>\n",
       "    </tr>\n",
       "  </tbody>\n",
       "</table>\n",
       "</div>"
      ],
      "text/plain": [
       "       ID  TypeObject  is_actual\n",
       "0  302619  закусочная       True"
      ]
     },
     "execution_count": 9,
     "metadata": {},
     "output_type": "execute_result"
    }
   ],
   "source": [
    "pd.read_csv('6_type_property.csv').head(1)"
   ]
  },
  {
   "cell_type": "code",
   "execution_count": null,
   "id": "a58d7d1f-81d3-4d71-8657-812e1d80a177",
   "metadata": {},
   "outputs": [],
   "source": []
  },
  {
   "cell_type": "code",
   "execution_count": null,
   "id": "03b74a0e-120a-4bf6-b8bf-98d1f58e93b0",
   "metadata": {},
   "outputs": [],
   "source": []
  },
  {
   "cell_type": "code",
   "execution_count": null,
   "id": "238732cf-f94a-4879-996e-8455492377d0",
   "metadata": {},
   "outputs": [],
   "source": []
  }
 ],
 "metadata": {
  "kernelspec": {
   "display_name": "Python 3",
   "language": "python",
   "name": "python3"
  },
  "language_info": {
   "codemirror_mode": {
    "name": "ipython",
    "version": 3
   },
   "file_extension": ".py",
   "mimetype": "text/x-python",
   "name": "python",
   "nbconvert_exporter": "python",
   "pygments_lexer": "ipython3",
   "version": "3.8.8"
  }
 },
 "nbformat": 4,
 "nbformat_minor": 5
}
