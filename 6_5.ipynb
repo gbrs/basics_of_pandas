{
 "cells": [
  {
   "cell_type": "code",
   "execution_count": 1,
   "id": "81670067-0bf6-4ebc-91ac-2939ede8bdec",
   "metadata": {},
   "outputs": [],
   "source": [
    "import numpy as np\n",
    "import pandas as pd"
   ]
  },
  {
   "cell_type": "code",
   "execution_count": 2,
   "id": "6b729884-348c-4c22-b300-5f6f154adebb",
   "metadata": {},
   "outputs": [],
   "source": [
    "import sqlite3"
   ]
  },
  {
   "cell_type": "code",
   "execution_count": 7,
   "id": "82cb567f-1109-42f8-bc8d-1f7892b6c0df",
   "metadata": {},
   "outputs": [],
   "source": [
    "conn = sqlite3.connect('indicators_db.sqlite3')"
   ]
  },
  {
   "cell_type": "code",
   "execution_count": 8,
   "id": "eb6e4d93-a52f-4de6-b6ea-2730dcb7bf83",
   "metadata": {},
   "outputs": [],
   "source": [
    "with sqlite3.connect('indicators_db.sqlite3') as conn:\n",
    "    indicators = pd.read_sql('SELECT * FROM sqlite_master', conn)"
   ]
  },
  {
   "cell_type": "code",
   "execution_count": 9,
   "id": "d9dbf6e8-7169-4246-9464-21a85306d72d",
   "metadata": {},
   "outputs": [
    {
     "data": {
      "text/html": [
       "<div>\n",
       "<style scoped>\n",
       "    .dataframe tbody tr th:only-of-type {\n",
       "        vertical-align: middle;\n",
       "    }\n",
       "\n",
       "    .dataframe tbody tr th {\n",
       "        vertical-align: top;\n",
       "    }\n",
       "\n",
       "    .dataframe thead th {\n",
       "        text-align: right;\n",
       "    }\n",
       "</style>\n",
       "<table border=\"1\" class=\"dataframe\">\n",
       "  <thead>\n",
       "    <tr style=\"text-align: right;\">\n",
       "      <th></th>\n",
       "      <th>type</th>\n",
       "      <th>name</th>\n",
       "      <th>tbl_name</th>\n",
       "      <th>rootpage</th>\n",
       "      <th>sql</th>\n",
       "    </tr>\n",
       "  </thead>\n",
       "  <tbody>\n",
       "    <tr>\n",
       "      <th>0</th>\n",
       "      <td>table</td>\n",
       "      <td>org_indicators_2019</td>\n",
       "      <td>org_indicators_2019</td>\n",
       "      <td>2</td>\n",
       "      <td>CREATE TABLE org_indicators_2019 (\\r\\n\\tID BIG...</td>\n",
       "    </tr>\n",
       "    <tr>\n",
       "      <th>1</th>\n",
       "      <td>table</td>\n",
       "      <td>org_indicators_2020_2022</td>\n",
       "      <td>org_indicators_2020_2022</td>\n",
       "      <td>490</td>\n",
       "      <td>CREATE TABLE org_indicators_2020_2022 (\\r\\n\\tI...</td>\n",
       "    </tr>\n",
       "    <tr>\n",
       "      <th>2</th>\n",
       "      <td>view</td>\n",
       "      <td>v_org_indicators_all</td>\n",
       "      <td>v_org_indicators_all</td>\n",
       "      <td>0</td>\n",
       "      <td>CREATE VIEW v_org_indicators_all AS\\r\\nselect ...</td>\n",
       "    </tr>\n",
       "  </tbody>\n",
       "</table>\n",
       "</div>"
      ],
      "text/plain": [
       "    type                      name                  tbl_name  rootpage  \\\n",
       "0  table       org_indicators_2019       org_indicators_2019         2   \n",
       "1  table  org_indicators_2020_2022  org_indicators_2020_2022       490   \n",
       "2   view      v_org_indicators_all      v_org_indicators_all         0   \n",
       "\n",
       "                                                 sql  \n",
       "0  CREATE TABLE org_indicators_2019 (\\r\\n\\tID BIG...  \n",
       "1  CREATE TABLE org_indicators_2020_2022 (\\r\\n\\tI...  \n",
       "2  CREATE VIEW v_org_indicators_all AS\\r\\nselect ...  "
      ]
     },
     "execution_count": 9,
     "metadata": {},
     "output_type": "execute_result"
    }
   ],
   "source": [
    "indicators"
   ]
  },
  {
   "cell_type": "code",
   "execution_count": 12,
   "id": "d04166cb-4f7c-4498-a3ee-d91015f79d83",
   "metadata": {},
   "outputs": [],
   "source": [
    "with sqlite3.connect('indicators_db.sqlite3') as conn:\n",
    "    indicators = pd.read_sql('SELECT * FROM org_indicators_2020_2022', conn)"
   ]
  },
  {
   "cell_type": "code",
   "execution_count": 13,
   "id": "dfe84751-898c-4312-8c16-d0bc965408a6",
   "metadata": {},
   "outputs": [
    {
     "data": {
      "text/html": [
       "<div>\n",
       "<style scoped>\n",
       "    .dataframe tbody tr th:only-of-type {\n",
       "        vertical-align: middle;\n",
       "    }\n",
       "\n",
       "    .dataframe tbody tr th {\n",
       "        vertical-align: top;\n",
       "    }\n",
       "\n",
       "    .dataframe thead th {\n",
       "        text-align: right;\n",
       "    }\n",
       "</style>\n",
       "<table border=\"1\" class=\"dataframe\">\n",
       "  <thead>\n",
       "    <tr style=\"text-align: right;\">\n",
       "      <th></th>\n",
       "      <th>ID</th>\n",
       "      <th>YEAR</th>\n",
       "      <th>INDICATOR_NAME</th>\n",
       "      <th>VALUE</th>\n",
       "    </tr>\n",
       "  </thead>\n",
       "  <tbody>\n",
       "    <tr>\n",
       "      <th>0</th>\n",
       "      <td>20988</td>\n",
       "      <td>2020</td>\n",
       "      <td>Выручка</td>\n",
       "      <td>29337447</td>\n",
       "    </tr>\n",
       "    <tr>\n",
       "      <th>1</th>\n",
       "      <td>20988</td>\n",
       "      <td>2020</td>\n",
       "      <td>Оценка на Яндекс</td>\n",
       "      <td>2</td>\n",
       "    </tr>\n",
       "    <tr>\n",
       "      <th>2</th>\n",
       "      <td>20988</td>\n",
       "      <td>2020</td>\n",
       "      <td>Налоги</td>\n",
       "      <td>720554</td>\n",
       "    </tr>\n",
       "    <tr>\n",
       "      <th>3</th>\n",
       "      <td>20988</td>\n",
       "      <td>2020</td>\n",
       "      <td>Оценка на 2GIS</td>\n",
       "      <td>3</td>\n",
       "    </tr>\n",
       "    <tr>\n",
       "      <th>4</th>\n",
       "      <td>24828</td>\n",
       "      <td>2020</td>\n",
       "      <td>Выручка</td>\n",
       "      <td>36633885</td>\n",
       "    </tr>\n",
       "    <tr>\n",
       "      <th>...</th>\n",
       "      <td>...</td>\n",
       "      <td>...</td>\n",
       "      <td>...</td>\n",
       "      <td>...</td>\n",
       "    </tr>\n",
       "    <tr>\n",
       "      <th>119995</th>\n",
       "      <td>339278</td>\n",
       "      <td>2022</td>\n",
       "      <td>Налоги</td>\n",
       "      <td>339380</td>\n",
       "    </tr>\n",
       "    <tr>\n",
       "      <th>119996</th>\n",
       "      <td>23511</td>\n",
       "      <td>2022</td>\n",
       "      <td>Число сотрудников</td>\n",
       "      <td>18</td>\n",
       "    </tr>\n",
       "    <tr>\n",
       "      <th>119997</th>\n",
       "      <td>23511</td>\n",
       "      <td>2022</td>\n",
       "      <td>Налоги</td>\n",
       "      <td>764187</td>\n",
       "    </tr>\n",
       "    <tr>\n",
       "      <th>119998</th>\n",
       "      <td>23511</td>\n",
       "      <td>2022</td>\n",
       "      <td>Выручка</td>\n",
       "      <td>22006160</td>\n",
       "    </tr>\n",
       "    <tr>\n",
       "      <th>119999</th>\n",
       "      <td>23511</td>\n",
       "      <td>2022</td>\n",
       "      <td>Оценка на 2GIS</td>\n",
       "      <td>1</td>\n",
       "    </tr>\n",
       "  </tbody>\n",
       "</table>\n",
       "<p>120000 rows × 4 columns</p>\n",
       "</div>"
      ],
      "text/plain": [
       "            ID  YEAR     INDICATOR_NAME     VALUE\n",
       "0        20988  2020            Выручка  29337447\n",
       "1        20988  2020   Оценка на Яндекс         2\n",
       "2        20988  2020             Налоги    720554\n",
       "3        20988  2020     Оценка на 2GIS         3\n",
       "4        24828  2020            Выручка  36633885\n",
       "...        ...   ...                ...       ...\n",
       "119995  339278  2022             Налоги    339380\n",
       "119996   23511  2022  Число сотрудников        18\n",
       "119997   23511  2022             Налоги    764187\n",
       "119998   23511  2022            Выручка  22006160\n",
       "119999   23511  2022     Оценка на 2GIS         1\n",
       "\n",
       "[120000 rows x 4 columns]"
      ]
     },
     "execution_count": 13,
     "metadata": {},
     "output_type": "execute_result"
    }
   ],
   "source": [
    "indicators"
   ]
  },
  {
   "cell_type": "code",
   "execution_count": null,
   "id": "55cdd765-937e-4d3b-be05-fdb878dd0283",
   "metadata": {},
   "outputs": [],
   "source": []
  },
  {
   "cell_type": "code",
   "execution_count": null,
   "id": "18b48e8a-a6dd-4100-b10f-95e9a00ee737",
   "metadata": {},
   "outputs": [],
   "source": []
  },
  {
   "cell_type": "code",
   "execution_count": null,
   "id": "d394e228-7601-42eb-8d52-2b26922175cb",
   "metadata": {},
   "outputs": [],
   "source": []
  },
  {
   "cell_type": "code",
   "execution_count": null,
   "id": "a1906c6b-5741-4aee-961e-06047a20c7f9",
   "metadata": {},
   "outputs": [],
   "source": []
  },
  {
   "cell_type": "code",
   "execution_count": null,
   "id": "32b403fc-cc93-4b34-981d-31f40d045e32",
   "metadata": {},
   "outputs": [],
   "source": []
  }
 ],
 "metadata": {
  "kernelspec": {
   "display_name": "Python 3 (ipykernel)",
   "language": "python",
   "name": "python3"
  },
  "language_info": {
   "codemirror_mode": {
    "name": "ipython",
    "version": 3
   },
   "file_extension": ".py",
   "mimetype": "text/x-python",
   "name": "python",
   "nbconvert_exporter": "python",
   "pygments_lexer": "ipython3",
   "version": "3.7.16"
  }
 },
 "nbformat": 4,
 "nbformat_minor": 5
}
