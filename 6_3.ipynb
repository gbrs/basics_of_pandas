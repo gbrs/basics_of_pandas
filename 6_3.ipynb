{
 "cells": [
  {
   "cell_type": "markdown",
   "id": "9f068d53-6f7b-49ce-a79e-2dfe73c2171d",
   "metadata": {},
   "source": [
    "main.csv - основная информация о предприятиях общественного питания (скачать)\n",
    "- ID - уникальный номер объекта\n",
    "- Name - наименование\n",
    "- Address - адрес\n",
    "---\n",
    "net_property.csv - является ли предприятие сетевым (скачать)\n",
    "- ID - уникальный номер объекта\n",
    "- IsNetObject - метка, которая указывает на то, является ли предприятие сетевым\n",
    "---\n",
    "seats_property.csv - количество посадочных мест (скачать)\n",
    "- ID - уникальный номер объекта\n",
    "- SeatsCount - количество посадочных мест\n",
    "- ver_ID - номер версии записи (чем выше, тем запись более актуальная)\n",
    "---\n",
    "type_property.csv - информация о специализации: столовая, закусочная, кафе, иное (скачать)\n",
    "- ID - уникальный номер объекта\n",
    "- TypeObject - специализация (тип) объекта\n",
    "- is_actual - является ли запись о специализации актуальной. 0 - не актуальная, 1 - актуальная"
   ]
  },
  {
   "cell_type": "code",
   "execution_count": null,
   "id": "e9fd57b2-3b35-43dd-86e0-23bbf7dfeeab",
   "metadata": {},
   "outputs": [],
   "source": []
  },
  {
   "cell_type": "code",
   "execution_count": 1,
   "id": "a9d40812-10c9-4382-b72a-201c85973dae",
   "metadata": {
    "tags": []
   },
   "outputs": [],
   "source": [
    "import pandas as pd\n",
    "import numpy as np"
   ]
  },
  {
   "cell_type": "code",
   "execution_count": 7,
   "id": "38b05881-a039-4eab-b750-0c699ee6dc39",
   "metadata": {},
   "outputs": [],
   "source": [
    "df_main = pd.read_csv('6_main.csv')"
   ]
  },
  {
   "cell_type": "code",
   "execution_count": 8,
   "id": "e7077dab-2720-4301-b07b-804206de063c",
   "metadata": {},
   "outputs": [],
   "source": [
    "df_net_property = pd.read_csv('6_net_property.csv')"
   ]
  },
  {
   "cell_type": "code",
   "execution_count": 9,
   "id": "3eed2aba-35b8-4f00-a155-043e1aadead1",
   "metadata": {},
   "outputs": [],
   "source": [
    "df_seats_property = pd.read_csv('6_seats_property.csv')"
   ]
  },
  {
   "cell_type": "code",
   "execution_count": 10,
   "id": "8bfcdded-607d-47c1-aa09-7bf73a9fd0c7",
   "metadata": {},
   "outputs": [],
   "source": [
    "df_type_property = pd.read_csv('6_type_property.csv')"
   ]
  },
  {
   "cell_type": "code",
   "execution_count": null,
   "id": "1ccafced-46bd-4449-9b2d-f35f120df63c",
   "metadata": {},
   "outputs": [],
   "source": []
  },
  {
   "cell_type": "markdown",
   "id": "12fe264a-de77-44d5-8a48-73b014e5bac3",
   "metadata": {},
   "source": [
    "## Урок 6.3"
   ]
  },
  {
   "cell_type": "code",
   "execution_count": null,
   "id": "3285aa49-6bc7-4d5f-82fa-36e54164078f",
   "metadata": {},
   "outputs": [],
   "source": []
  },
  {
   "cell_type": "markdown",
   "id": "c8027bb8-c8bf-4208-82f3-9676e5fbf80e",
   "metadata": {},
   "source": [
    "### Задание 1\n",
    "Определите процент объектов у которых запись о специализации отсутствует или не является актуальной. Получившийся процент округлите до целых."
   ]
  },
  {
   "cell_type": "code",
   "execution_count": 7,
   "id": "635a72f8-fc2e-43be-89a9-25933e9d896a",
   "metadata": {},
   "outputs": [
    {
     "data": {
      "text/html": [
       "<div>\n",
       "<style scoped>\n",
       "    .dataframe tbody tr th:only-of-type {\n",
       "        vertical-align: middle;\n",
       "    }\n",
       "\n",
       "    .dataframe tbody tr th {\n",
       "        vertical-align: top;\n",
       "    }\n",
       "\n",
       "    .dataframe thead th {\n",
       "        text-align: right;\n",
       "    }\n",
       "</style>\n",
       "<table border=\"1\" class=\"dataframe\">\n",
       "  <thead>\n",
       "    <tr style=\"text-align: right;\">\n",
       "      <th></th>\n",
       "      <th>ID</th>\n",
       "      <th>Name</th>\n",
       "      <th>Address</th>\n",
       "      <th>TypeObject</th>\n",
       "      <th>is_actual</th>\n",
       "    </tr>\n",
       "  </thead>\n",
       "  <tbody>\n",
       "    <tr>\n",
       "      <th>0</th>\n",
       "      <td>20988</td>\n",
       "      <td>ГУЗ</td>\n",
       "      <td>город Москва, улица Казакова, дом 15</td>\n",
       "      <td>столовая</td>\n",
       "      <td>True</td>\n",
       "    </tr>\n",
       "    <tr>\n",
       "      <th>1</th>\n",
       "      <td>24828</td>\n",
       "      <td>Кафе Халяль</td>\n",
       "      <td>город Москва, 8-я улица Текстильщиков, дом 5, ...</td>\n",
       "      <td>NaN</td>\n",
       "      <td>NaN</td>\n",
       "    </tr>\n",
       "    <tr>\n",
       "      <th>2</th>\n",
       "      <td>358126</td>\n",
       "      <td>Scarface</td>\n",
       "      <td>Российская Федерация, город Москва, внутригоро...</td>\n",
       "      <td>кафе</td>\n",
       "      <td>True</td>\n",
       "    </tr>\n",
       "    <tr>\n",
       "      <th>3</th>\n",
       "      <td>373052</td>\n",
       "      <td>Кулинариум</td>\n",
       "      <td>Российская Федерация, город Москва, внутригоро...</td>\n",
       "      <td>кафетерий</td>\n",
       "      <td>False</td>\n",
       "    </tr>\n",
       "    <tr>\n",
       "      <th>4</th>\n",
       "      <td>303239</td>\n",
       "      <td>One price coffee</td>\n",
       "      <td>Российская Федерация, город Москва, внутригоро...</td>\n",
       "      <td>NaN</td>\n",
       "      <td>NaN</td>\n",
       "    </tr>\n",
       "  </tbody>\n",
       "</table>\n",
       "</div>"
      ],
      "text/plain": [
       "       ID              Name  \\\n",
       "0   20988               ГУЗ   \n",
       "1   24828       Кафе Халяль   \n",
       "2  358126          Scarface   \n",
       "3  373052        Кулинариум   \n",
       "4  303239  One price coffee   \n",
       "\n",
       "                                             Address TypeObject is_actual  \n",
       "0               город Москва, улица Казакова, дом 15   столовая      True  \n",
       "1  город Москва, 8-я улица Текстильщиков, дом 5, ...        NaN       NaN  \n",
       "2  Российская Федерация, город Москва, внутригоро...       кафе      True  \n",
       "3  Российская Федерация, город Москва, внутригоро...  кафетерий     False  \n",
       "4  Российская Федерация, город Москва, внутригоро...        NaN       NaN  "
      ]
     },
     "execution_count": 7,
     "metadata": {},
     "output_type": "execute_result"
    }
   ],
   "source": [
    "df_1 = pd.merge(df_main, df_type_property, how='left')\n",
    "df_1.head()"
   ]
  },
  {
   "cell_type": "code",
   "execution_count": 11,
   "id": "398b04e1-3117-4801-ba88-c69605976a29",
   "metadata": {},
   "outputs": [
    {
     "data": {
      "text/plain": [
       "67"
      ]
     },
     "execution_count": 11,
     "metadata": {},
     "output_type": "execute_result"
    }
   ],
   "source": [
    "round((df_1.shape[0] - df_1.is_actual.sum()) / df_1.shape[0] * 100)"
   ]
  },
  {
   "cell_type": "code",
   "execution_count": null,
   "id": "efffe949-e1a8-4cea-8552-5c1d20a2e1a1",
   "metadata": {},
   "outputs": [],
   "source": []
  },
  {
   "cell_type": "markdown",
   "id": "a9977f41-5b95-4013-bb85-55bbe18b8c6c",
   "metadata": {},
   "source": [
    "### Задание 2\n",
    "Подтяните к исходному списку (main.csv) последние данные о числе посадочных мест для каждого объекта. Сколько всего посадочных мест получилось?"
   ]
  },
  {
   "cell_type": "code",
   "execution_count": 27,
   "id": "1ffbf07c-7401-4aad-abc9-29e99737be9a",
   "metadata": {},
   "outputs": [
    {
     "data": {
      "text/html": [
       "<div>\n",
       "<style scoped>\n",
       "    .dataframe tbody tr th:only-of-type {\n",
       "        vertical-align: middle;\n",
       "    }\n",
       "\n",
       "    .dataframe tbody tr th {\n",
       "        vertical-align: top;\n",
       "    }\n",
       "\n",
       "    .dataframe thead th {\n",
       "        text-align: right;\n",
       "    }\n",
       "</style>\n",
       "<table border=\"1\" class=\"dataframe\">\n",
       "  <thead>\n",
       "    <tr style=\"text-align: right;\">\n",
       "      <th></th>\n",
       "      <th>SeatsCount</th>\n",
       "      <th>ver_ID</th>\n",
       "    </tr>\n",
       "    <tr>\n",
       "      <th>ID</th>\n",
       "      <th></th>\n",
       "      <th></th>\n",
       "    </tr>\n",
       "  </thead>\n",
       "  <tbody>\n",
       "    <tr>\n",
       "      <th>5882</th>\n",
       "      <td>75</td>\n",
       "      <td>2</td>\n",
       "    </tr>\n",
       "    <tr>\n",
       "      <th>19627</th>\n",
       "      <td>20</td>\n",
       "      <td>2</td>\n",
       "    </tr>\n",
       "    <tr>\n",
       "      <th>19657</th>\n",
       "      <td>85</td>\n",
       "      <td>2</td>\n",
       "    </tr>\n",
       "    <tr>\n",
       "      <th>19678</th>\n",
       "      <td>46</td>\n",
       "      <td>1</td>\n",
       "    </tr>\n",
       "    <tr>\n",
       "      <th>19681</th>\n",
       "      <td>24</td>\n",
       "      <td>1</td>\n",
       "    </tr>\n",
       "    <tr>\n",
       "      <th>...</th>\n",
       "      <td>...</td>\n",
       "      <td>...</td>\n",
       "    </tr>\n",
       "    <tr>\n",
       "      <th>375905</th>\n",
       "      <td>34</td>\n",
       "      <td>1</td>\n",
       "    </tr>\n",
       "    <tr>\n",
       "      <th>375933</th>\n",
       "      <td>5</td>\n",
       "      <td>2</td>\n",
       "    </tr>\n",
       "    <tr>\n",
       "      <th>375940</th>\n",
       "      <td>10</td>\n",
       "      <td>2</td>\n",
       "    </tr>\n",
       "    <tr>\n",
       "      <th>375942</th>\n",
       "      <td>0</td>\n",
       "      <td>1</td>\n",
       "    </tr>\n",
       "    <tr>\n",
       "      <th>375956</th>\n",
       "      <td>0</td>\n",
       "      <td>1</td>\n",
       "    </tr>\n",
       "  </tbody>\n",
       "</table>\n",
       "<p>8432 rows × 2 columns</p>\n",
       "</div>"
      ],
      "text/plain": [
       "        SeatsCount  ver_ID\n",
       "ID                        \n",
       "5882            75       2\n",
       "19627           20       2\n",
       "19657           85       2\n",
       "19678           46       1\n",
       "19681           24       1\n",
       "...            ...     ...\n",
       "375905          34       1\n",
       "375933           5       2\n",
       "375940          10       2\n",
       "375942           0       1\n",
       "375956           0       1\n",
       "\n",
       "[8432 rows x 2 columns]"
      ]
     },
     "execution_count": 27,
     "metadata": {},
     "output_type": "execute_result"
    }
   ],
   "source": [
    "df_seats_property.groupby('ID').max('ver_ID')"
   ]
  },
  {
   "cell_type": "code",
   "execution_count": 34,
   "id": "fe2f9662-4ca9-415b-ae57-2245ef569e76",
   "metadata": {},
   "outputs": [
    {
     "data": {
      "text/html": [
       "<div>\n",
       "<style scoped>\n",
       "    .dataframe tbody tr th:only-of-type {\n",
       "        vertical-align: middle;\n",
       "    }\n",
       "\n",
       "    .dataframe tbody tr th {\n",
       "        vertical-align: top;\n",
       "    }\n",
       "\n",
       "    .dataframe thead th {\n",
       "        text-align: right;\n",
       "    }\n",
       "</style>\n",
       "<table border=\"1\" class=\"dataframe\">\n",
       "  <thead>\n",
       "    <tr style=\"text-align: right;\">\n",
       "      <th></th>\n",
       "      <th>ID</th>\n",
       "      <th>Name</th>\n",
       "      <th>Address</th>\n",
       "      <th>SeatsCount</th>\n",
       "      <th>ver_ID</th>\n",
       "    </tr>\n",
       "  </thead>\n",
       "  <tbody>\n",
       "    <tr>\n",
       "      <th>3</th>\n",
       "      <td>373052</td>\n",
       "      <td>Кулинариум</td>\n",
       "      <td>Российская Федерация, город Москва, внутригоро...</td>\n",
       "      <td>4</td>\n",
       "      <td>1</td>\n",
       "    </tr>\n",
       "    <tr>\n",
       "      <th>4</th>\n",
       "      <td>303239</td>\n",
       "      <td>One price coffee</td>\n",
       "      <td>Российская Федерация, город Москва, внутригоро...</td>\n",
       "      <td>5</td>\n",
       "      <td>2</td>\n",
       "    </tr>\n",
       "    <tr>\n",
       "      <th>6</th>\n",
       "      <td>342854</td>\n",
       "      <td>МЯСОЕД STEAK&amp;BRISKET</td>\n",
       "      <td>город Москва, проспект Вернадского, дом 86В</td>\n",
       "      <td>5</td>\n",
       "      <td>2</td>\n",
       "    </tr>\n",
       "    <tr>\n",
       "      <th>7</th>\n",
       "      <td>363640</td>\n",
       "      <td>Шаурма-выпечка</td>\n",
       "      <td>Российская Федерация, город Москва, внутригоро...</td>\n",
       "      <td>5</td>\n",
       "      <td>2</td>\n",
       "    </tr>\n",
       "    <tr>\n",
       "      <th>11</th>\n",
       "      <td>254675</td>\n",
       "      <td>Timeless</td>\n",
       "      <td>Российская Федерация, город Москва, внутригоро...</td>\n",
       "      <td>31</td>\n",
       "      <td>2</td>\n",
       "    </tr>\n",
       "  </tbody>\n",
       "</table>\n",
       "</div>"
      ],
      "text/plain": [
       "        ID                  Name  \\\n",
       "3   373052            Кулинариум   \n",
       "4   303239      One price coffee   \n",
       "6   342854  МЯСОЕД STEAK&BRISKET   \n",
       "7   363640        Шаурма-выпечка   \n",
       "11  254675              Timeless   \n",
       "\n",
       "                                              Address  SeatsCount  ver_ID  \n",
       "3   Российская Федерация, город Москва, внутригоро...           4       1  \n",
       "4   Российская Федерация, город Москва, внутригоро...           5       2  \n",
       "6         город Москва, проспект Вернадского, дом 86В           5       2  \n",
       "7   Российская Федерация, город Москва, внутригоро...           5       2  \n",
       "11  Российская Федерация, город Москва, внутригоро...          31       2  "
      ]
     },
     "execution_count": 34,
     "metadata": {},
     "output_type": "execute_result"
    }
   ],
   "source": [
    "df_2 = pd.merge(df_main, df_seats_property.groupby('ID').max('ver_ID'), left_on = 'ID', right_index=True)\n",
    "df_2.head()"
   ]
  },
  {
   "cell_type": "code",
   "execution_count": 35,
   "id": "fc5ae98e-23f3-486d-a0b9-d49f8182a183",
   "metadata": {},
   "outputs": [
    {
     "data": {
      "text/plain": [
       "188241"
      ]
     },
     "execution_count": 35,
     "metadata": {},
     "output_type": "execute_result"
    }
   ],
   "source": [
    "df_2.SeatsCount.sum()"
   ]
  },
  {
   "cell_type": "code",
   "execution_count": 37,
   "id": "baeea9e5-b536-4798-a31a-4acbec18f1ef",
   "metadata": {},
   "outputs": [
    {
     "data": {
      "text/plain": [
       "188241"
      ]
     },
     "execution_count": 37,
     "metadata": {},
     "output_type": "execute_result"
    }
   ],
   "source": [
    "pd.merge(\n",
    "        df_main, \n",
    "        df_seats_property.groupby('ID').max('ver_ID'), \n",
    "        left_on = 'ID', \n",
    "        right_index=True\n",
    ")\\\n",
    ".SeatsCount\\\n",
    ".sum()"
   ]
  },
  {
   "cell_type": "code",
   "execution_count": null,
   "id": "b3569a04-2383-46b2-bce4-6f3bf9a5b7f9",
   "metadata": {},
   "outputs": [],
   "source": []
  },
  {
   "cell_type": "markdown",
   "id": "a0fb10d1-0e53-47d6-aafb-39deff77379f",
   "metadata": {},
   "source": [
    "### Задание 3\n",
    "Сформируйте итоговую выгрузку в формате csv (разделитель запятая), которая будет содержать все объекты общепита из файла main.csv. Подтяните признак сетевой/не сетевой и актуальную специализацию. Отсортируйте по специализации  в алфавитном порядке. Внутри каждой специализации сортировка должна идти по убыванию ID. Объекты у которых отсутствует специализация должны идти в начале выгрузки (и тоже по убыванию ID).  \n",
    "Колонки, которые должны быть в csv файле: ID,Name,Address,IsNetObject,TypeObject,is_actual."
   ]
  },
  {
   "cell_type": "code",
   "execution_count": 4,
   "id": "b181ef2c-ee90-4d1b-8b63-8746d0150ff5",
   "metadata": {},
   "outputs": [],
   "source": [
    "df_main = pd.read_csv('6_main.csv')"
   ]
  },
  {
   "cell_type": "code",
   "execution_count": 5,
   "id": "bdbf62d8-978f-47c5-9bee-75e988fadfff",
   "metadata": {},
   "outputs": [],
   "source": [
    "df_net_property = pd.read_csv('6_net_property.csv')"
   ]
  },
  {
   "cell_type": "code",
   "execution_count": 7,
   "id": "eac419b1-a621-4374-8f03-1e308725a7d4",
   "metadata": {},
   "outputs": [],
   "source": [
    "df_type_property = pd.read_csv('6_type_property.csv')"
   ]
  },
  {
   "cell_type": "code",
   "execution_count": 23,
   "id": "0ff159e1-d528-4732-8cde-fb08c43cf1e4",
   "metadata": {},
   "outputs": [
    {
     "data": {
      "text/html": [
       "<div>\n",
       "<style scoped>\n",
       "    .dataframe tbody tr th:only-of-type {\n",
       "        vertical-align: middle;\n",
       "    }\n",
       "\n",
       "    .dataframe tbody tr th {\n",
       "        vertical-align: top;\n",
       "    }\n",
       "\n",
       "    .dataframe thead th {\n",
       "        text-align: right;\n",
       "    }\n",
       "</style>\n",
       "<table border=\"1\" class=\"dataframe\">\n",
       "  <thead>\n",
       "    <tr style=\"text-align: right;\">\n",
       "      <th></th>\n",
       "      <th>ID</th>\n",
       "      <th>Name</th>\n",
       "      <th>Address</th>\n",
       "      <th>IsNetObject</th>\n",
       "      <th>TypeObject</th>\n",
       "      <th>is_actual</th>\n",
       "    </tr>\n",
       "  </thead>\n",
       "  <tbody>\n",
       "    <tr>\n",
       "      <th>4912</th>\n",
       "      <td>375956</td>\n",
       "      <td>Крошка Картошка</td>\n",
       "      <td>город Москва, Люблинская улица, дом 169, корпус 2</td>\n",
       "      <td>да</td>\n",
       "      <td>NaN</td>\n",
       "      <td>NaN</td>\n",
       "    </tr>\n",
       "    <tr>\n",
       "      <th>5063</th>\n",
       "      <td>375954</td>\n",
       "      <td>Кофе</td>\n",
       "      <td>Российская Федерация, город Москва, внутригоро...</td>\n",
       "      <td>NaN</td>\n",
       "      <td>NaN</td>\n",
       "      <td>NaN</td>\n",
       "    </tr>\n",
       "    <tr>\n",
       "      <th>7804</th>\n",
       "      <td>375834</td>\n",
       "      <td>Донеретто</td>\n",
       "      <td>город Москва, улица Лестева, дом 6</td>\n",
       "      <td>нет</td>\n",
       "      <td>NaN</td>\n",
       "      <td>NaN</td>\n",
       "    </tr>\n",
       "    <tr>\n",
       "      <th>493</th>\n",
       "      <td>375830</td>\n",
       "      <td>Шаурма</td>\n",
       "      <td>город Москва, улица Вертолётчиков, дом 2А, кор...</td>\n",
       "      <td>NaN</td>\n",
       "      <td>NaN</td>\n",
       "      <td>NaN</td>\n",
       "    </tr>\n",
       "    <tr>\n",
       "      <th>5521</th>\n",
       "      <td>375822</td>\n",
       "      <td>Кафе</td>\n",
       "      <td>Российская Федерация, город Москва, внутригоро...</td>\n",
       "      <td>NaN</td>\n",
       "      <td>NaN</td>\n",
       "      <td>NaN</td>\n",
       "    </tr>\n",
       "  </tbody>\n",
       "</table>\n",
       "</div>"
      ],
      "text/plain": [
       "          ID             Name  \\\n",
       "4912  375956  Крошка Картошка   \n",
       "5063  375954             Кофе   \n",
       "7804  375834        Донеретто   \n",
       "493   375830           Шаурма   \n",
       "5521  375822             Кафе   \n",
       "\n",
       "                                                Address IsNetObject  \\\n",
       "4912  город Москва, Люблинская улица, дом 169, корпус 2          да   \n",
       "5063  Российская Федерация, город Москва, внутригоро...         NaN   \n",
       "7804                 город Москва, улица Лестева, дом 6         нет   \n",
       "493   город Москва, улица Вертолётчиков, дом 2А, кор...         NaN   \n",
       "5521  Российская Федерация, город Москва, внутригоро...         NaN   \n",
       "\n",
       "     TypeObject is_actual  \n",
       "4912        NaN       NaN  \n",
       "5063        NaN       NaN  \n",
       "7804        NaN       NaN  \n",
       "493         NaN       NaN  \n",
       "5521        NaN       NaN  "
      ]
     },
     "execution_count": 23,
     "metadata": {},
     "output_type": "execute_result"
    }
   ],
   "source": [
    "df_answer = \\\n",
    "    pd.merge(\n",
    "            pd.merge(df_main, df_net_property, how='left'), \n",
    "            df_type_property[df_type_property.is_actual], \n",
    "            how='left').\\\n",
    "    sort_values(['TypeObject', 'ID'], ascending=[True, False], na_position='first')\n",
    "df_answer.head()"
   ]
  },
  {
   "cell_type": "code",
   "execution_count": 24,
   "id": "84417711-f4f4-4018-b4a9-6037292d12ce",
   "metadata": {},
   "outputs": [],
   "source": [
    "df_answer.to_csv('6_3_3.csv', index=False)"
   ]
  },
  {
   "cell_type": "code",
   "execution_count": null,
   "id": "33dc19cf-4368-4d4d-819f-4e068c5c3264",
   "metadata": {},
   "outputs": [],
   "source": []
  },
  {
   "cell_type": "code",
   "execution_count": null,
   "id": "5934548a-840d-4185-acf4-739bbaac34a1",
   "metadata": {},
   "outputs": [],
   "source": []
  },
  {
   "cell_type": "markdown",
   "id": "10f9a63d-6117-47a5-a35e-0850f4d3e61e",
   "metadata": {},
   "source": [
    "## Урок 6.4"
   ]
  },
  {
   "cell_type": "code",
   "execution_count": null,
   "id": "65692b54-9c60-40a8-9ec8-be75326dcf60",
   "metadata": {
    "tags": []
   },
   "outputs": [],
   "source": []
  },
  {
   "cell_type": "markdown",
   "id": "f23553f6-aba3-458f-8f49-c72aa464cf91",
   "metadata": {
    "tags": []
   },
   "source": [
    "### Задание 4\n",
    "Разбейте все сетевые объекты общепита со специализацией кафе на 4 группы (по количеству посадочных мест):\n",
    "\n",
    "1. 0 - 5\n",
    "2. 6 - 15 \n",
    "3. 16 - 25\n",
    "4. 26+  \n",
    "\n",
    "В какой группе больше всего объектов?"
   ]
  },
  {
   "cell_type": "code",
   "execution_count": 3,
   "id": "e4634dba-f886-4dea-ad18-133cc5a49ccd",
   "metadata": {},
   "outputs": [],
   "source": [
    "df_main = pd.read_csv('6_main.csv')"
   ]
  },
  {
   "cell_type": "code",
   "execution_count": 4,
   "id": "086239d6-9102-40b3-a5bb-a7aee24a799f",
   "metadata": {},
   "outputs": [],
   "source": [
    "df_type_property = pd.read_csv('6_type_property.csv')"
   ]
  },
  {
   "cell_type": "code",
   "execution_count": 8,
   "id": "71445325-31d4-4dc3-a171-b933a0f32fbc",
   "metadata": {},
   "outputs": [],
   "source": [
    "df_seats_property = pd.read_csv('6_seats_property.csv')"
   ]
  },
  {
   "cell_type": "code",
   "execution_count": 50,
   "id": "feb013f8-bee3-4fd8-bceb-d7977cf61533",
   "metadata": {},
   "outputs": [],
   "source": [
    "df_net_property = pd.read_csv('6_net_property.csv')"
   ]
  },
  {
   "cell_type": "code",
   "execution_count": 71,
   "id": "15b68bbc-e509-481b-ab57-e96b093d86ff",
   "metadata": {},
   "outputs": [],
   "source": [
    "df_answer = \\\n",
    "    pd.merge(\n",
    "        pd.merge(\n",
    "            pd.merge(\n",
    "                df_main, \n",
    "                df_type_property[df_type_property.is_actual], \n",
    "                how='left'), \n",
    "            df_seats_property, \n",
    "            how='left'), \n",
    "        df_net_property, \n",
    "        how='left').\\\n",
    "    query(\"TypeObject=='кафе' & IsNetObject=='да' & SeatsCount > 0\").\\\n",
    "    groupby('ID').\\\n",
    "    max('ver_ID')"
   ]
  },
  {
   "cell_type": "code",
   "execution_count": 72,
   "id": "e5986c33-857f-4903-b3ea-d7d54ae6e0d0",
   "metadata": {},
   "outputs": [],
   "source": [
    "df_answer['SeatsCountGroup'] = pd.cut(df_answer.SeatsCount, [0, 5, 15, 25, df_answer.SeatsCount.max()], labels=['0 - 5', '6 - 15', '16 - 25', '26+'])"
   ]
  },
  {
   "cell_type": "code",
   "execution_count": 79,
   "id": "1a47b974-200d-4c72-be67-96aeb1cdaf46",
   "metadata": {},
   "outputs": [
    {
     "data": {
      "text/html": [
       "<div>\n",
       "<style scoped>\n",
       "    .dataframe tbody tr th:only-of-type {\n",
       "        vertical-align: middle;\n",
       "    }\n",
       "\n",
       "    .dataframe tbody tr th {\n",
       "        vertical-align: top;\n",
       "    }\n",
       "\n",
       "    .dataframe thead th {\n",
       "        text-align: right;\n",
       "    }\n",
       "</style>\n",
       "<table border=\"1\" class=\"dataframe\">\n",
       "  <thead>\n",
       "    <tr style=\"text-align: right;\">\n",
       "      <th></th>\n",
       "      <th>SeatsCount</th>\n",
       "      <th>ver_ID</th>\n",
       "      <th>SeatsCountGroup</th>\n",
       "    </tr>\n",
       "    <tr>\n",
       "      <th>ID</th>\n",
       "      <th></th>\n",
       "      <th></th>\n",
       "      <th></th>\n",
       "    </tr>\n",
       "  </thead>\n",
       "  <tbody>\n",
       "    <tr>\n",
       "      <th>260577</th>\n",
       "      <td>55.0</td>\n",
       "      <td>2.0</td>\n",
       "      <td>26+</td>\n",
       "    </tr>\n",
       "    <tr>\n",
       "      <th>192911</th>\n",
       "      <td>95.0</td>\n",
       "      <td>2.0</td>\n",
       "      <td>26+</td>\n",
       "    </tr>\n",
       "    <tr>\n",
       "      <th>342389</th>\n",
       "      <td>54.0</td>\n",
       "      <td>1.0</td>\n",
       "      <td>26+</td>\n",
       "    </tr>\n",
       "    <tr>\n",
       "      <th>20182</th>\n",
       "      <td>35.0</td>\n",
       "      <td>1.0</td>\n",
       "      <td>26+</td>\n",
       "    </tr>\n",
       "    <tr>\n",
       "      <th>138495</th>\n",
       "      <td>23.0</td>\n",
       "      <td>2.0</td>\n",
       "      <td>16 - 25</td>\n",
       "    </tr>\n",
       "    <tr>\n",
       "      <th>279733</th>\n",
       "      <td>15.0</td>\n",
       "      <td>2.0</td>\n",
       "      <td>6 - 15</td>\n",
       "    </tr>\n",
       "    <tr>\n",
       "      <th>149196</th>\n",
       "      <td>20.0</td>\n",
       "      <td>2.0</td>\n",
       "      <td>16 - 25</td>\n",
       "    </tr>\n",
       "    <tr>\n",
       "      <th>288642</th>\n",
       "      <td>65.0</td>\n",
       "      <td>2.0</td>\n",
       "      <td>26+</td>\n",
       "    </tr>\n",
       "    <tr>\n",
       "      <th>360088</th>\n",
       "      <td>15.0</td>\n",
       "      <td>1.0</td>\n",
       "      <td>6 - 15</td>\n",
       "    </tr>\n",
       "    <tr>\n",
       "      <th>229352</th>\n",
       "      <td>30.0</td>\n",
       "      <td>2.0</td>\n",
       "      <td>26+</td>\n",
       "    </tr>\n",
       "  </tbody>\n",
       "</table>\n",
       "</div>"
      ],
      "text/plain": [
       "        SeatsCount  ver_ID SeatsCountGroup\n",
       "ID                                        \n",
       "260577        55.0     2.0             26+\n",
       "192911        95.0     2.0             26+\n",
       "342389        54.0     1.0             26+\n",
       "20182         35.0     1.0             26+\n",
       "138495        23.0     2.0         16 - 25\n",
       "279733        15.0     2.0          6 - 15\n",
       "149196        20.0     2.0         16 - 25\n",
       "288642        65.0     2.0             26+\n",
       "360088        15.0     1.0          6 - 15\n",
       "229352        30.0     2.0             26+"
      ]
     },
     "execution_count": 79,
     "metadata": {},
     "output_type": "execute_result"
    }
   ],
   "source": [
    "df_answer.sample(10)"
   ]
  },
  {
   "cell_type": "code",
   "execution_count": 86,
   "id": "eb2279b1-9c66-4cfa-93f0-609dbac9f32d",
   "metadata": {},
   "outputs": [
    {
     "data": {
      "text/plain": [
       "SeatsCountGroup\n",
       "0 - 5       1\n",
       "6 - 15     12\n",
       "16 - 25    10\n",
       "26+        46\n",
       "Name: SeatsCount, dtype: int64"
      ]
     },
     "execution_count": 86,
     "metadata": {},
     "output_type": "execute_result"
    }
   ],
   "source": [
    "df_answer.groupby('SeatsCountGroup').SeatsCount.count()"
   ]
  },
  {
   "cell_type": "code",
   "execution_count": null,
   "id": "a2e82af9-3246-4dcb-90bc-5cfc6ad4dbba",
   "metadata": {},
   "outputs": [],
   "source": []
  },
  {
   "cell_type": "markdown",
   "id": "4e46ed02-637a-44ae-82eb-eac42817a6a9",
   "metadata": {},
   "source": [
    "### Задание 5\n",
    "Найдите id сетевых кафе у которых отсутствует запись в (main.csv). Отсортируйте id по убыванию и загрузите их."
   ]
  },
  {
   "cell_type": "code",
   "execution_count": 30,
   "id": "4b1f852c-b55b-4733-a418-ac19a1eaf2be",
   "metadata": {},
   "outputs": [],
   "source": [
    "pd.DataFrame(\n",
    "    sorted(\n",
    "        list(\n",
    "            (set(df_net_property[df_net_property.IsNetObject=='да'].ID)\n",
    "                 - set(df_main.ID)\n",
    "            ) \n",
    "            & set(df_type_property[df_type_property.is_actual].ID)\n",
    "        )\n",
    "        , reverse=True\n",
    "    )\n",
    "    , columns=['ID']\n",
    ")\\\n",
    ".to_csv('6_4_2.csv', index=False)"
   ]
  },
  {
   "cell_type": "code",
   "execution_count": 35,
   "id": "246d5f9b-cdb4-4452-aa9a-1ce2527dbf5c",
   "metadata": {},
   "outputs": [],
   "source": [
    "df_main = pd.read_csv('6_main.csv', index_col='ID')\n",
    "df_type_property = pd.read_csv('6_type_property.csv', index_col='ID')\n",
    "df_net_property = pd.read_csv('6_net_property.csv', index_col='ID')"
   ]
  },
  {
   "cell_type": "code",
   "execution_count": 49,
   "id": "3196a83b-98db-46ed-a03b-41d71eab2dce",
   "metadata": {},
   "outputs": [
    {
     "data": {
      "text/html": [
       "<div>\n",
       "<style scoped>\n",
       "    .dataframe tbody tr th:only-of-type {\n",
       "        vertical-align: middle;\n",
       "    }\n",
       "\n",
       "    .dataframe tbody tr th {\n",
       "        vertical-align: top;\n",
       "    }\n",
       "\n",
       "    .dataframe thead th {\n",
       "        text-align: right;\n",
       "    }\n",
       "</style>\n",
       "<table border=\"1\" class=\"dataframe\">\n",
       "  <thead>\n",
       "    <tr style=\"text-align: right;\">\n",
       "      <th></th>\n",
       "      <th>Name</th>\n",
       "      <th>Address</th>\n",
       "      <th>TypeObject</th>\n",
       "      <th>is_actual</th>\n",
       "      <th>IsNetObject</th>\n",
       "    </tr>\n",
       "    <tr>\n",
       "      <th>ID</th>\n",
       "      <th></th>\n",
       "      <th></th>\n",
       "      <th></th>\n",
       "      <th></th>\n",
       "      <th></th>\n",
       "    </tr>\n",
       "  </thead>\n",
       "  <tbody>\n",
       "    <tr>\n",
       "      <th>5882</th>\n",
       "      <td>NaN</td>\n",
       "      <td>NaN</td>\n",
       "      <td>кафе</td>\n",
       "      <td>True</td>\n",
       "      <td>нет</td>\n",
       "    </tr>\n",
       "    <tr>\n",
       "      <th>19627</th>\n",
       "      <td>NaN</td>\n",
       "      <td>NaN</td>\n",
       "      <td>NaN</td>\n",
       "      <td>NaN</td>\n",
       "      <td>нет</td>\n",
       "    </tr>\n",
       "    <tr>\n",
       "      <th>19630</th>\n",
       "      <td>Донер Кебаб</td>\n",
       "      <td>Российская Федерация, город Москва, внутригоро...</td>\n",
       "      <td>предприятие быстрого обслуживания</td>\n",
       "      <td>False</td>\n",
       "      <td>нет</td>\n",
       "    </tr>\n",
       "    <tr>\n",
       "      <th>19647</th>\n",
       "      <td>NaN</td>\n",
       "      <td>NaN</td>\n",
       "      <td>NaN</td>\n",
       "      <td>NaN</td>\n",
       "      <td>нет</td>\n",
       "    </tr>\n",
       "    <tr>\n",
       "      <th>19657</th>\n",
       "      <td>КАФЕ-БАР Водолей</td>\n",
       "      <td>город Москва, Ангелов переулок, дом 6, корпус 2</td>\n",
       "      <td>кафе</td>\n",
       "      <td>True</td>\n",
       "      <td>нет</td>\n",
       "    </tr>\n",
       "  </tbody>\n",
       "</table>\n",
       "</div>"
      ],
      "text/plain": [
       "                   Name                                            Address  \\\n",
       "ID                                                                           \n",
       "5882                NaN                                                NaN   \n",
       "19627               NaN                                                NaN   \n",
       "19630       Донер Кебаб  Российская Федерация, город Москва, внутригоро...   \n",
       "19647               NaN                                                NaN   \n",
       "19657  КАФЕ-БАР Водолей    город Москва, Ангелов переулок, дом 6, корпус 2   \n",
       "\n",
       "                              TypeObject is_actual IsNetObject  \n",
       "ID                                                              \n",
       "5882                                кафе      True         нет  \n",
       "19627                                NaN       NaN         нет  \n",
       "19630  предприятие быстрого обслуживания     False         нет  \n",
       "19647                                NaN       NaN         нет  \n",
       "19657                               кафе      True         нет  "
      ]
     },
     "execution_count": 49,
     "metadata": {},
     "output_type": "execute_result"
    }
   ],
   "source": [
    "df = df_main.join([df_type_property, df_net_property], how='right')\n",
    "df.head()"
   ]
  },
  {
   "cell_type": "code",
   "execution_count": 77,
   "id": "3963f926-4c2d-44c9-a460-44c98711687f",
   "metadata": {},
   "outputs": [],
   "source": [
    "df[\n",
    "    (df.IsNetObject=='да') \n",
    "    & (df.TypeObject=='кафе')\n",
    "    & df.is_actual \n",
    "    & df.Name.isnull()\n",
    "]\\\n",
    ".reset_index()\\\n",
    ".ID\\\n",
    ".sort_values(ascending=False)\\\n",
    ".to_csv('6_4_2.csv', index=False)"
   ]
  },
  {
   "cell_type": "code",
   "execution_count": 62,
   "id": "dd2cca14-187e-4a71-83a1-eaab1e0223b9",
   "metadata": {},
   "outputs": [
    {
     "data": {
      "text/plain": [
       "float"
      ]
     },
     "execution_count": 62,
     "metadata": {},
     "output_type": "execute_result"
    }
   ],
   "source": [
    "type(df.loc[19882, 'Name'])"
   ]
  },
  {
   "cell_type": "code",
   "execution_count": null,
   "id": "4003aafa-3728-4e8d-8802-f576e60a3cc8",
   "metadata": {},
   "outputs": [],
   "source": []
  },
  {
   "cell_type": "markdown",
   "id": "09edb0a0-25c4-49ea-9ff5-6344761b7fb3",
   "metadata": {},
   "source": [
    "### Задание 6\n",
    "Коллеги из юридического отдела прислали вам два списка - адреса и id объектов. Подтяните для них информацию:\n",
    "\n",
    "1) признак сетевой/не сетевой. Если признака нет, то оставьте поле пустым.\n",
    "2) актуальную специализацию. Если ее нет, то напишите 'отсутствует'\n",
    "3) последнюю информацию о числе посадочных мест. Если мест нет, то укажите 0.\n",
    "\n",
    "Отсортируйте объекты в порядке убывания ID. Колонки переведите на русский язык т.к. коллеги не понимают англ. язык:\n",
    "Ид,Наименование,Адрес,Сетевой?,Специализация,КоличМест.  \n",
    "Загрузите файл в формате csv (разделитель запятая, без индекса)."
   ]
  },
  {
   "cell_type": "code",
   "execution_count": 2,
   "id": "034e42c0-1016-4782-beb8-83c5692154d0",
   "metadata": {
    "tags": []
   },
   "outputs": [
    {
     "data": {
      "text/html": [
       "<div>\n",
       "<style scoped>\n",
       "    .dataframe tbody tr th:only-of-type {\n",
       "        vertical-align: middle;\n",
       "    }\n",
       "\n",
       "    .dataframe tbody tr th {\n",
       "        vertical-align: top;\n",
       "    }\n",
       "\n",
       "    .dataframe thead th {\n",
       "        text-align: right;\n",
       "    }\n",
       "</style>\n",
       "<table border=\"1\" class=\"dataframe\">\n",
       "  <thead>\n",
       "    <tr style=\"text-align: right;\">\n",
       "      <th></th>\n",
       "      <th>ID</th>\n",
       "      <th>Name</th>\n",
       "      <th>Address</th>\n",
       "    </tr>\n",
       "  </thead>\n",
       "  <tbody>\n",
       "    <tr>\n",
       "      <th>0</th>\n",
       "      <td>20988</td>\n",
       "      <td>ГУЗ</td>\n",
       "      <td>город Москва, улица Казакова, дом 15</td>\n",
       "    </tr>\n",
       "  </tbody>\n",
       "</table>\n",
       "</div>"
      ],
      "text/plain": [
       "      ID Name                               Address\n",
       "0  20988  ГУЗ  город Москва, улица Казакова, дом 15"
      ]
     },
     "execution_count": 2,
     "metadata": {},
     "output_type": "execute_result"
    }
   ],
   "source": [
    "df_main = pd.read_csv('6_main.csv')\n",
    "df_main.head(1)"
   ]
  },
  {
   "cell_type": "code",
   "execution_count": 3,
   "id": "d598a005-2611-4b35-b1cf-f73418ebd9d9",
   "metadata": {},
   "outputs": [
    {
     "data": {
      "text/html": [
       "<div>\n",
       "<style scoped>\n",
       "    .dataframe tbody tr th:only-of-type {\n",
       "        vertical-align: middle;\n",
       "    }\n",
       "\n",
       "    .dataframe tbody tr th {\n",
       "        vertical-align: top;\n",
       "    }\n",
       "\n",
       "    .dataframe thead th {\n",
       "        text-align: right;\n",
       "    }\n",
       "</style>\n",
       "<table border=\"1\" class=\"dataframe\">\n",
       "  <thead>\n",
       "    <tr style=\"text-align: right;\">\n",
       "      <th></th>\n",
       "      <th>IsNetObject</th>\n",
       "    </tr>\n",
       "    <tr>\n",
       "      <th>ID</th>\n",
       "      <th></th>\n",
       "    </tr>\n",
       "  </thead>\n",
       "  <tbody>\n",
       "    <tr>\n",
       "      <th>369614</th>\n",
       "      <td>нет</td>\n",
       "    </tr>\n",
       "  </tbody>\n",
       "</table>\n",
       "</div>"
      ],
      "text/plain": [
       "       IsNetObject\n",
       "ID                \n",
       "369614         нет"
      ]
     },
     "execution_count": 3,
     "metadata": {},
     "output_type": "execute_result"
    }
   ],
   "source": [
    "df_net_property = pd.read_csv('6_net_property.csv', index_col='ID')\n",
    "df_net_property.head(1)"
   ]
  },
  {
   "cell_type": "code",
   "execution_count": 23,
   "id": "75e51bca-88e8-491c-b665-e3af8b053afe",
   "metadata": {},
   "outputs": [
    {
     "data": {
      "text/html": [
       "<div>\n",
       "<style scoped>\n",
       "    .dataframe tbody tr th:only-of-type {\n",
       "        vertical-align: middle;\n",
       "    }\n",
       "\n",
       "    .dataframe tbody tr th {\n",
       "        vertical-align: top;\n",
       "    }\n",
       "\n",
       "    .dataframe thead th {\n",
       "        text-align: right;\n",
       "    }\n",
       "</style>\n",
       "<table border=\"1\" class=\"dataframe\">\n",
       "  <thead>\n",
       "    <tr style=\"text-align: right;\">\n",
       "      <th></th>\n",
       "      <th>TypeObject</th>\n",
       "      <th>is_actual</th>\n",
       "    </tr>\n",
       "    <tr>\n",
       "      <th>ID</th>\n",
       "      <th></th>\n",
       "      <th></th>\n",
       "    </tr>\n",
       "  </thead>\n",
       "  <tbody>\n",
       "    <tr>\n",
       "      <th>302619</th>\n",
       "      <td>закусочная</td>\n",
       "      <td>True</td>\n",
       "    </tr>\n",
       "  </tbody>\n",
       "</table>\n",
       "</div>"
      ],
      "text/plain": [
       "        TypeObject  is_actual\n",
       "ID                           \n",
       "302619  закусочная       True"
      ]
     },
     "execution_count": 23,
     "metadata": {},
     "output_type": "execute_result"
    }
   ],
   "source": [
    "df_type_property = pd.read_csv('6_type_property.csv', index_col='ID')\n",
    "df_type_property = df_type_property[df_type_property.is_actual == True]\n",
    "df_type_property.head(1)"
   ]
  },
  {
   "cell_type": "code",
   "execution_count": 4,
   "id": "be77bb99-0353-421d-b7d6-aa02be7efd56",
   "metadata": {
    "tags": []
   },
   "outputs": [
    {
     "data": {
      "text/html": [
       "<div>\n",
       "<style scoped>\n",
       "    .dataframe tbody tr th:only-of-type {\n",
       "        vertical-align: middle;\n",
       "    }\n",
       "\n",
       "    .dataframe tbody tr th {\n",
       "        vertical-align: top;\n",
       "    }\n",
       "\n",
       "    .dataframe thead th {\n",
       "        text-align: right;\n",
       "    }\n",
       "</style>\n",
       "<table border=\"1\" class=\"dataframe\">\n",
       "  <thead>\n",
       "    <tr style=\"text-align: right;\">\n",
       "      <th></th>\n",
       "      <th>SeatsCount</th>\n",
       "      <th>ver_ID</th>\n",
       "    </tr>\n",
       "    <tr>\n",
       "      <th>ID</th>\n",
       "      <th></th>\n",
       "      <th></th>\n",
       "    </tr>\n",
       "  </thead>\n",
       "  <tbody>\n",
       "    <tr>\n",
       "      <th>345181</th>\n",
       "      <td>0</td>\n",
       "      <td>1</td>\n",
       "    </tr>\n",
       "  </tbody>\n",
       "</table>\n",
       "</div>"
      ],
      "text/plain": [
       "        SeatsCount  ver_ID\n",
       "ID                        \n",
       "345181           0       1"
      ]
     },
     "execution_count": 4,
     "metadata": {},
     "output_type": "execute_result"
    }
   ],
   "source": [
    "df_seats_property = pd.read_csv('6_seats_property.csv', index_col='ID')\n",
    "df_seats_property.head(1)"
   ]
  },
  {
   "cell_type": "code",
   "execution_count": 24,
   "id": "707cca69-0089-43d6-b868-f556981a55b4",
   "metadata": {},
   "outputs": [
    {
     "data": {
      "text/html": [
       "<div>\n",
       "<style scoped>\n",
       "    .dataframe tbody tr th:only-of-type {\n",
       "        vertical-align: middle;\n",
       "    }\n",
       "\n",
       "    .dataframe tbody tr th {\n",
       "        vertical-align: top;\n",
       "    }\n",
       "\n",
       "    .dataframe thead th {\n",
       "        text-align: right;\n",
       "    }\n",
       "</style>\n",
       "<table border=\"1\" class=\"dataframe\">\n",
       "  <thead>\n",
       "    <tr style=\"text-align: right;\">\n",
       "      <th></th>\n",
       "      <th>SeatsCount</th>\n",
       "      <th>ver_ID</th>\n",
       "    </tr>\n",
       "    <tr>\n",
       "      <th>ID</th>\n",
       "      <th></th>\n",
       "      <th></th>\n",
       "    </tr>\n",
       "  </thead>\n",
       "  <tbody>\n",
       "    <tr>\n",
       "      <th>5882</th>\n",
       "      <td>75</td>\n",
       "      <td>2</td>\n",
       "    </tr>\n",
       "  </tbody>\n",
       "</table>\n",
       "</div>"
      ],
      "text/plain": [
       "      SeatsCount  ver_ID\n",
       "ID                      \n",
       "5882          75       2"
      ]
     },
     "execution_count": 24,
     "metadata": {},
     "output_type": "execute_result"
    }
   ],
   "source": [
    "df_seats_property = df_seats_property.groupby('ID').max('ver_ID')\n",
    "df_seats_property.head(1)"
   ]
  },
  {
   "cell_type": "code",
   "execution_count": 5,
   "id": "654f5753-f690-4018-8272-2b45e2cf29d1",
   "metadata": {},
   "outputs": [
    {
     "data": {
      "text/html": [
       "<div>\n",
       "<style scoped>\n",
       "    .dataframe tbody tr th:only-of-type {\n",
       "        vertical-align: middle;\n",
       "    }\n",
       "\n",
       "    .dataframe tbody tr th {\n",
       "        vertical-align: top;\n",
       "    }\n",
       "\n",
       "    .dataframe thead th {\n",
       "        text-align: right;\n",
       "    }\n",
       "</style>\n",
       "<table border=\"1\" class=\"dataframe\">\n",
       "  <thead>\n",
       "    <tr style=\"text-align: right;\">\n",
       "      <th></th>\n",
       "    </tr>\n",
       "    <tr>\n",
       "      <th>ID</th>\n",
       "    </tr>\n",
       "  </thead>\n",
       "  <tbody>\n",
       "    <tr>\n",
       "      <th>20821</th>\n",
       "    </tr>\n",
       "  </tbody>\n",
       "</table>\n",
       "</div>"
      ],
      "text/plain": [
       "Empty DataFrame\n",
       "Columns: []\n",
       "Index: [20821]"
      ]
     },
     "execution_count": 5,
     "metadata": {},
     "output_type": "execute_result"
    }
   ],
   "source": [
    "ids = pd.read_excel('6_Список_ID.xlsx', header=1).set_index('ID')\n",
    "ids.head(1)"
   ]
  },
  {
   "cell_type": "code",
   "execution_count": 6,
   "id": "d10d6266-9597-4a59-8d28-75dd9e52daa2",
   "metadata": {},
   "outputs": [
    {
     "data": {
      "text/plain": [
       "(12, 0)"
      ]
     },
     "execution_count": 6,
     "metadata": {},
     "output_type": "execute_result"
    }
   ],
   "source": [
    "ids.shape"
   ]
  },
  {
   "cell_type": "code",
   "execution_count": 7,
   "id": "afa32960-d48d-40db-8aa8-7a849ea3db24",
   "metadata": {},
   "outputs": [
    {
     "data": {
      "text/html": [
       "<div>\n",
       "<style scoped>\n",
       "    .dataframe tbody tr th:only-of-type {\n",
       "        vertical-align: middle;\n",
       "    }\n",
       "\n",
       "    .dataframe tbody tr th {\n",
       "        vertical-align: top;\n",
       "    }\n",
       "\n",
       "    .dataframe thead th {\n",
       "        text-align: right;\n",
       "    }\n",
       "</style>\n",
       "<table border=\"1\" class=\"dataframe\">\n",
       "  <thead>\n",
       "    <tr style=\"text-align: right;\">\n",
       "      <th></th>\n",
       "      <th>Address</th>\n",
       "    </tr>\n",
       "  </thead>\n",
       "  <tbody>\n",
       "    <tr>\n",
       "      <th>0</th>\n",
       "      <td>город Москва, улица Арбат, дом 55/32</td>\n",
       "    </tr>\n",
       "  </tbody>\n",
       "</table>\n",
       "</div>"
      ],
      "text/plain": [
       "                                Address\n",
       "0  город Москва, улица Арбат, дом 55/32"
      ]
     },
     "execution_count": 7,
     "metadata": {},
     "output_type": "execute_result"
    }
   ],
   "source": [
    "adresses = pd.read_excel('6_Список_адресов.xlsx', sheet_name='Sheet1', header=0)\n",
    "adresses = adresses.rename(columns={'Список адресов по которым будет выполнена проверка юридическим отделом': 'Address'})\n",
    "adresses.head(1)"
   ]
  },
  {
   "cell_type": "code",
   "execution_count": 8,
   "id": "d8c163f7-770b-429c-ba17-71c5e0863ed1",
   "metadata": {},
   "outputs": [
    {
     "data": {
      "text/plain": [
       "(20, 1)"
      ]
     },
     "execution_count": 8,
     "metadata": {},
     "output_type": "execute_result"
    }
   ],
   "source": [
    "adresses.shape"
   ]
  },
  {
   "cell_type": "code",
   "execution_count": null,
   "id": "20bb7d76-0611-490f-b042-1e584d49409e",
   "metadata": {},
   "outputs": [],
   "source": []
  },
  {
   "cell_type": "code",
   "execution_count": 14,
   "id": "072d6684-f920-4c06-be4c-a1397f3136ff",
   "metadata": {},
   "outputs": [],
   "source": [
    "df1 = adresses.merge(df_main, how='inner', left_on='Address', right_on='Address')\n",
    "df2 = ids.merge(df_main, how='inner', right_on='ID', left_index=True)"
   ]
  },
  {
   "cell_type": "code",
   "execution_count": 19,
   "id": "7a54c136-c67b-4ca8-9a07-d5ff2fd161f3",
   "metadata": {},
   "outputs": [
    {
     "data": {
      "text/html": [
       "<div>\n",
       "<style scoped>\n",
       "    .dataframe tbody tr th:only-of-type {\n",
       "        vertical-align: middle;\n",
       "    }\n",
       "\n",
       "    .dataframe tbody tr th {\n",
       "        vertical-align: top;\n",
       "    }\n",
       "\n",
       "    .dataframe thead th {\n",
       "        text-align: right;\n",
       "    }\n",
       "</style>\n",
       "<table border=\"1\" class=\"dataframe\">\n",
       "  <thead>\n",
       "    <tr style=\"text-align: right;\">\n",
       "      <th></th>\n",
       "      <th>Address</th>\n",
       "      <th>ID</th>\n",
       "      <th>Name</th>\n",
       "    </tr>\n",
       "  </thead>\n",
       "  <tbody>\n",
       "    <tr>\n",
       "      <th>0</th>\n",
       "      <td>город Москва, улица Арбат, дом 55/32</td>\n",
       "      <td>127987</td>\n",
       "      <td>Белый</td>\n",
       "    </tr>\n",
       "  </tbody>\n",
       "</table>\n",
       "</div>"
      ],
      "text/plain": [
       "                                Address      ID   Name\n",
       "0  город Москва, улица Арбат, дом 55/32  127987  Белый"
      ]
     },
     "execution_count": 19,
     "metadata": {},
     "output_type": "execute_result"
    }
   ],
   "source": [
    "df1.head(1)"
   ]
  },
  {
   "cell_type": "code",
   "execution_count": 20,
   "id": "d5f965b2-02ee-43da-a0ef-a5978675b714",
   "metadata": {},
   "outputs": [
    {
     "data": {
      "text/html": [
       "<div>\n",
       "<style scoped>\n",
       "    .dataframe tbody tr th:only-of-type {\n",
       "        vertical-align: middle;\n",
       "    }\n",
       "\n",
       "    .dataframe tbody tr th {\n",
       "        vertical-align: top;\n",
       "    }\n",
       "\n",
       "    .dataframe thead th {\n",
       "        text-align: right;\n",
       "    }\n",
       "</style>\n",
       "<table border=\"1\" class=\"dataframe\">\n",
       "  <thead>\n",
       "    <tr style=\"text-align: right;\">\n",
       "      <th></th>\n",
       "      <th>ID</th>\n",
       "      <th>Name</th>\n",
       "      <th>Address</th>\n",
       "    </tr>\n",
       "  </thead>\n",
       "  <tbody>\n",
       "    <tr>\n",
       "      <th>524</th>\n",
       "      <td>20821</td>\n",
       "      <td>Теремок</td>\n",
       "      <td>город Москва, Ладожская улица, дом 5</td>\n",
       "    </tr>\n",
       "    <tr>\n",
       "      <th>2390</th>\n",
       "      <td>172247</td>\n",
       "      <td>Кафетерий AB Daily</td>\n",
       "      <td>город Москва, Большая Садовая улица, дом 5, ко...</td>\n",
       "    </tr>\n",
       "  </tbody>\n",
       "</table>\n",
       "</div>"
      ],
      "text/plain": [
       "          ID                Name  \\\n",
       "524    20821             Теремок   \n",
       "2390  172247  Кафетерий AB Daily   \n",
       "\n",
       "                                                Address  \n",
       "524                город Москва, Ладожская улица, дом 5  \n",
       "2390  город Москва, Большая Садовая улица, дом 5, ко...  "
      ]
     },
     "execution_count": 20,
     "metadata": {},
     "output_type": "execute_result"
    }
   ],
   "source": [
    "df2.head(2)"
   ]
  },
  {
   "cell_type": "code",
   "execution_count": 21,
   "id": "1ea0afcc-cd71-4d67-b0df-a0c92540cde3",
   "metadata": {},
   "outputs": [
    {
     "data": {
      "text/html": [
       "<div>\n",
       "<style scoped>\n",
       "    .dataframe tbody tr th:only-of-type {\n",
       "        vertical-align: middle;\n",
       "    }\n",
       "\n",
       "    .dataframe tbody tr th {\n",
       "        vertical-align: top;\n",
       "    }\n",
       "\n",
       "    .dataframe thead th {\n",
       "        text-align: right;\n",
       "    }\n",
       "</style>\n",
       "<table border=\"1\" class=\"dataframe\">\n",
       "  <thead>\n",
       "    <tr style=\"text-align: right;\">\n",
       "      <th></th>\n",
       "      <th>Address</th>\n",
       "      <th>Name</th>\n",
       "    </tr>\n",
       "    <tr>\n",
       "      <th>ID</th>\n",
       "      <th></th>\n",
       "      <th></th>\n",
       "    </tr>\n",
       "  </thead>\n",
       "  <tbody>\n",
       "    <tr>\n",
       "      <th>127987</th>\n",
       "      <td>город Москва, улица Арбат, дом 55/32</td>\n",
       "      <td>Белый</td>\n",
       "    </tr>\n",
       "  </tbody>\n",
       "</table>\n",
       "</div>"
      ],
      "text/plain": [
       "                                     Address   Name\n",
       "ID                                                 \n",
       "127987  город Москва, улица Арбат, дом 55/32  Белый"
      ]
     },
     "execution_count": 21,
     "metadata": {},
     "output_type": "execute_result"
    }
   ],
   "source": [
    "df = pd.concat([df1, df2])\n",
    "df = df.drop_duplicates()\n",
    "df = df.set_index('ID')\n",
    "df.head(1)"
   ]
  },
  {
   "cell_type": "code",
   "execution_count": null,
   "id": "92cde96f-3f15-4823-b29d-b03ac3869909",
   "metadata": {},
   "outputs": [],
   "source": []
  },
  {
   "cell_type": "code",
   "execution_count": 25,
   "id": "44349661-3f13-40a1-8a55-0ebba1a08ebc",
   "metadata": {
    "tags": []
   },
   "outputs": [],
   "source": [
    "df = df.join([df_net_property, df_type_property, df_seats_property], how='left')"
   ]
  },
  {
   "cell_type": "code",
   "execution_count": 26,
   "id": "3e0dd7a1-c86d-479a-8273-297f3aff91b4",
   "metadata": {},
   "outputs": [],
   "source": [
    "df = df.reset_index()"
   ]
  },
  {
   "cell_type": "code",
   "execution_count": 27,
   "id": "e31926a2-bd1b-4187-b94a-5ec904c92446",
   "metadata": {},
   "outputs": [
    {
     "data": {
      "text/html": [
       "<div>\n",
       "<style scoped>\n",
       "    .dataframe tbody tr th:only-of-type {\n",
       "        vertical-align: middle;\n",
       "    }\n",
       "\n",
       "    .dataframe tbody tr th {\n",
       "        vertical-align: top;\n",
       "    }\n",
       "\n",
       "    .dataframe thead th {\n",
       "        text-align: right;\n",
       "    }\n",
       "</style>\n",
       "<table border=\"1\" class=\"dataframe\">\n",
       "  <thead>\n",
       "    <tr style=\"text-align: right;\">\n",
       "      <th></th>\n",
       "      <th>ID</th>\n",
       "      <th>Name</th>\n",
       "      <th>Address</th>\n",
       "      <th>IsNetObject</th>\n",
       "      <th>TypeObject</th>\n",
       "      <th>SeatsCount</th>\n",
       "    </tr>\n",
       "  </thead>\n",
       "  <tbody>\n",
       "    <tr>\n",
       "      <th>0</th>\n",
       "      <td>20123</td>\n",
       "      <td>Кафе «Дарума суши»</td>\n",
       "      <td>город Москва, проспект Вернадского, дом 53</td>\n",
       "      <td>нет</td>\n",
       "      <td>кафе</td>\n",
       "      <td>37.0</td>\n",
       "    </tr>\n",
       "  </tbody>\n",
       "</table>\n",
       "</div>"
      ],
      "text/plain": [
       "      ID                Name                                     Address  \\\n",
       "0  20123  Кафе «Дарума суши»  город Москва, проспект Вернадского, дом 53   \n",
       "\n",
       "  IsNetObject TypeObject  SeatsCount  \n",
       "0         нет       кафе        37.0  "
      ]
     },
     "execution_count": 27,
     "metadata": {},
     "output_type": "execute_result"
    }
   ],
   "source": [
    "df = df[['ID', 'Name', 'Address', 'IsNetObject', 'TypeObject', 'SeatsCount']]\n",
    "df.head(1)"
   ]
  },
  {
   "cell_type": "code",
   "execution_count": 28,
   "id": "81dc9d29-1391-48eb-aa82-2db57a29ce2f",
   "metadata": {},
   "outputs": [
    {
     "data": {
      "text/html": [
       "<div>\n",
       "<style scoped>\n",
       "    .dataframe tbody tr th:only-of-type {\n",
       "        vertical-align: middle;\n",
       "    }\n",
       "\n",
       "    .dataframe tbody tr th {\n",
       "        vertical-align: top;\n",
       "    }\n",
       "\n",
       "    .dataframe thead th {\n",
       "        text-align: right;\n",
       "    }\n",
       "</style>\n",
       "<table border=\"1\" class=\"dataframe\">\n",
       "  <thead>\n",
       "    <tr style=\"text-align: right;\">\n",
       "      <th></th>\n",
       "      <th>ID</th>\n",
       "      <th>Name</th>\n",
       "      <th>Address</th>\n",
       "      <th>IsNetObject</th>\n",
       "      <th>TypeObject</th>\n",
       "      <th>SeatsCount</th>\n",
       "    </tr>\n",
       "  </thead>\n",
       "  <tbody>\n",
       "    <tr>\n",
       "      <th>0</th>\n",
       "      <td>20123</td>\n",
       "      <td>Кафе «Дарума суши»</td>\n",
       "      <td>город Москва, проспект Вернадского, дом 53</td>\n",
       "      <td>нет</td>\n",
       "      <td>кафе</td>\n",
       "      <td>37.0</td>\n",
       "    </tr>\n",
       "    <tr>\n",
       "      <th>1</th>\n",
       "      <td>20821</td>\n",
       "      <td>Теремок</td>\n",
       "      <td>город Москва, Ладожская улица, дом 5</td>\n",
       "      <td>да</td>\n",
       "      <td>NaN</td>\n",
       "      <td>NaN</td>\n",
       "    </tr>\n",
       "    <tr>\n",
       "      <th>2</th>\n",
       "      <td>24219</td>\n",
       "      <td>Кафе «Чашки»</td>\n",
       "      <td>Российская Федерация, город Москва, внутригоро...</td>\n",
       "      <td>NaN</td>\n",
       "      <td>NaN</td>\n",
       "      <td>NaN</td>\n",
       "    </tr>\n",
       "    <tr>\n",
       "      <th>3</th>\n",
       "      <td>25007</td>\n",
       "      <td>Шоколадница</td>\n",
       "      <td>Российская Федерация, город Москва, внутригоро...</td>\n",
       "      <td>да</td>\n",
       "      <td>NaN</td>\n",
       "      <td>NaN</td>\n",
       "    </tr>\n",
       "    <tr>\n",
       "      <th>4</th>\n",
       "      <td>27010</td>\n",
       "      <td>Премьер</td>\n",
       "      <td>город Москва, Ленинградский проспект, дом 31А,...</td>\n",
       "      <td>нет</td>\n",
       "      <td>ресторан</td>\n",
       "      <td>83.0</td>\n",
       "    </tr>\n",
       "    <tr>\n",
       "      <th>...</th>\n",
       "      <td>...</td>\n",
       "      <td>...</td>\n",
       "      <td>...</td>\n",
       "      <td>...</td>\n",
       "      <td>...</td>\n",
       "      <td>...</td>\n",
       "    </tr>\n",
       "    <tr>\n",
       "      <th>78</th>\n",
       "      <td>365834</td>\n",
       "      <td>Кофестанция</td>\n",
       "      <td>Российская Федерация, город Москва, внутригоро...</td>\n",
       "      <td>нет</td>\n",
       "      <td>NaN</td>\n",
       "      <td>9.0</td>\n",
       "    </tr>\n",
       "    <tr>\n",
       "      <th>79</th>\n",
       "      <td>367328</td>\n",
       "      <td>Чебурешная</td>\n",
       "      <td>город Москва, Пресненская набережная, дом 2, п...</td>\n",
       "      <td>NaN</td>\n",
       "      <td>кафе</td>\n",
       "      <td>NaN</td>\n",
       "    </tr>\n",
       "    <tr>\n",
       "      <th>80</th>\n",
       "      <td>367457</td>\n",
       "      <td>Stars Coffee</td>\n",
       "      <td>город Москва, Пресненская набережная, дом 2, п...</td>\n",
       "      <td>NaN</td>\n",
       "      <td>NaN</td>\n",
       "      <td>NaN</td>\n",
       "    </tr>\n",
       "    <tr>\n",
       "      <th>81</th>\n",
       "      <td>369518</td>\n",
       "      <td>Чайхана УМИД</td>\n",
       "      <td>город Москва, Ярцевская улица, дом 34, корпус 2</td>\n",
       "      <td>нет</td>\n",
       "      <td>NaN</td>\n",
       "      <td>NaN</td>\n",
       "    </tr>\n",
       "    <tr>\n",
       "      <th>82</th>\n",
       "      <td>372752</td>\n",
       "      <td>ШАУРМА</td>\n",
       "      <td>Российская Федерация, город Москва, внутригоро...</td>\n",
       "      <td>нет</td>\n",
       "      <td>NaN</td>\n",
       "      <td>NaN</td>\n",
       "    </tr>\n",
       "  </tbody>\n",
       "</table>\n",
       "<p>83 rows × 6 columns</p>\n",
       "</div>"
      ],
      "text/plain": [
       "        ID                Name  \\\n",
       "0    20123  Кафе «Дарума суши»   \n",
       "1    20821             Теремок   \n",
       "2    24219        Кафе «Чашки»   \n",
       "3    25007         Шоколадница   \n",
       "4    27010             Премьер   \n",
       "..     ...                 ...   \n",
       "78  365834         Кофестанция   \n",
       "79  367328          Чебурешная   \n",
       "80  367457        Stars Coffee   \n",
       "81  369518        Чайхана УМИД   \n",
       "82  372752              ШАУРМА   \n",
       "\n",
       "                                              Address IsNetObject TypeObject  \\\n",
       "0          город Москва, проспект Вернадского, дом 53         нет       кафе   \n",
       "1                город Москва, Ладожская улица, дом 5          да        NaN   \n",
       "2   Российская Федерация, город Москва, внутригоро...         NaN        NaN   \n",
       "3   Российская Федерация, город Москва, внутригоро...          да        NaN   \n",
       "4   город Москва, Ленинградский проспект, дом 31А,...         нет   ресторан   \n",
       "..                                                ...         ...        ...   \n",
       "78  Российская Федерация, город Москва, внутригоро...         нет        NaN   \n",
       "79  город Москва, Пресненская набережная, дом 2, п...         NaN       кафе   \n",
       "80  город Москва, Пресненская набережная, дом 2, п...         NaN        NaN   \n",
       "81    город Москва, Ярцевская улица, дом 34, корпус 2         нет        NaN   \n",
       "82  Российская Федерация, город Москва, внутригоро...         нет        NaN   \n",
       "\n",
       "    SeatsCount  \n",
       "0         37.0  \n",
       "1          NaN  \n",
       "2          NaN  \n",
       "3          NaN  \n",
       "4         83.0  \n",
       "..         ...  \n",
       "78         9.0  \n",
       "79         NaN  \n",
       "80         NaN  \n",
       "81         NaN  \n",
       "82         NaN  \n",
       "\n",
       "[83 rows x 6 columns]"
      ]
     },
     "execution_count": 28,
     "metadata": {},
     "output_type": "execute_result"
    }
   ],
   "source": [
    "df"
   ]
  },
  {
   "cell_type": "code",
   "execution_count": 29,
   "id": "6304fd43-475f-43f2-88c1-3af0d2b66802",
   "metadata": {
    "tags": []
   },
   "outputs": [],
   "source": [
    "df.TypeObject = df.TypeObject.fillna('отсутствует')"
   ]
  },
  {
   "cell_type": "code",
   "execution_count": 30,
   "id": "a2a0babc-68af-446d-b184-0b075eb422d9",
   "metadata": {},
   "outputs": [],
   "source": [
    "df.SeatsCount = df.SeatsCount.fillna(0)"
   ]
  },
  {
   "cell_type": "code",
   "execution_count": 31,
   "id": "d8bb8cd0-5f10-4318-a60c-dd4c9f945652",
   "metadata": {},
   "outputs": [],
   "source": [
    "df = df.sort_values('ID', ascending=False)"
   ]
  },
  {
   "cell_type": "code",
   "execution_count": 32,
   "id": "69409c30-25b1-4d0d-9dd0-e685cdfbd87b",
   "metadata": {},
   "outputs": [],
   "source": [
    "df.columns = ['Ид','Наименование', 'Адрес', 'Сетевой?', 'Специализация', 'КоличМест']"
   ]
  },
  {
   "cell_type": "code",
   "execution_count": 33,
   "id": "e8dcdc22-f69d-41d7-8874-e2986791a7bc",
   "metadata": {},
   "outputs": [
    {
     "data": {
      "text/html": [
       "<div>\n",
       "<style scoped>\n",
       "    .dataframe tbody tr th:only-of-type {\n",
       "        vertical-align: middle;\n",
       "    }\n",
       "\n",
       "    .dataframe tbody tr th {\n",
       "        vertical-align: top;\n",
       "    }\n",
       "\n",
       "    .dataframe thead th {\n",
       "        text-align: right;\n",
       "    }\n",
       "</style>\n",
       "<table border=\"1\" class=\"dataframe\">\n",
       "  <thead>\n",
       "    <tr style=\"text-align: right;\">\n",
       "      <th></th>\n",
       "      <th>Ид</th>\n",
       "      <th>Наименование</th>\n",
       "      <th>Адрес</th>\n",
       "      <th>Сетевой?</th>\n",
       "      <th>Специализация</th>\n",
       "      <th>КоличМест</th>\n",
       "    </tr>\n",
       "  </thead>\n",
       "  <tbody>\n",
       "    <tr>\n",
       "      <th>82</th>\n",
       "      <td>372752</td>\n",
       "      <td>ШАУРМА</td>\n",
       "      <td>Российская Федерация, город Москва, внутригоро...</td>\n",
       "      <td>нет</td>\n",
       "      <td>отсутствует</td>\n",
       "      <td>0.0</td>\n",
       "    </tr>\n",
       "    <tr>\n",
       "      <th>81</th>\n",
       "      <td>369518</td>\n",
       "      <td>Чайхана УМИД</td>\n",
       "      <td>город Москва, Ярцевская улица, дом 34, корпус 2</td>\n",
       "      <td>нет</td>\n",
       "      <td>отсутствует</td>\n",
       "      <td>0.0</td>\n",
       "    </tr>\n",
       "    <tr>\n",
       "      <th>80</th>\n",
       "      <td>367457</td>\n",
       "      <td>Stars Coffee</td>\n",
       "      <td>город Москва, Пресненская набережная, дом 2, п...</td>\n",
       "      <td>NaN</td>\n",
       "      <td>отсутствует</td>\n",
       "      <td>0.0</td>\n",
       "    </tr>\n",
       "    <tr>\n",
       "      <th>79</th>\n",
       "      <td>367328</td>\n",
       "      <td>Чебурешная</td>\n",
       "      <td>город Москва, Пресненская набережная, дом 2, п...</td>\n",
       "      <td>NaN</td>\n",
       "      <td>кафе</td>\n",
       "      <td>0.0</td>\n",
       "    </tr>\n",
       "    <tr>\n",
       "      <th>78</th>\n",
       "      <td>365834</td>\n",
       "      <td>Кофестанция</td>\n",
       "      <td>Российская Федерация, город Москва, внутригоро...</td>\n",
       "      <td>нет</td>\n",
       "      <td>отсутствует</td>\n",
       "      <td>9.0</td>\n",
       "    </tr>\n",
       "    <tr>\n",
       "      <th>...</th>\n",
       "      <td>...</td>\n",
       "      <td>...</td>\n",
       "      <td>...</td>\n",
       "      <td>...</td>\n",
       "      <td>...</td>\n",
       "      <td>...</td>\n",
       "    </tr>\n",
       "    <tr>\n",
       "      <th>4</th>\n",
       "      <td>27010</td>\n",
       "      <td>Премьер</td>\n",
       "      <td>город Москва, Ленинградский проспект, дом 31А,...</td>\n",
       "      <td>нет</td>\n",
       "      <td>ресторан</td>\n",
       "      <td>83.0</td>\n",
       "    </tr>\n",
       "    <tr>\n",
       "      <th>3</th>\n",
       "      <td>25007</td>\n",
       "      <td>Шоколадница</td>\n",
       "      <td>Российская Федерация, город Москва, внутригоро...</td>\n",
       "      <td>да</td>\n",
       "      <td>отсутствует</td>\n",
       "      <td>0.0</td>\n",
       "    </tr>\n",
       "    <tr>\n",
       "      <th>2</th>\n",
       "      <td>24219</td>\n",
       "      <td>Кафе «Чашки»</td>\n",
       "      <td>Российская Федерация, город Москва, внутригоро...</td>\n",
       "      <td>NaN</td>\n",
       "      <td>отсутствует</td>\n",
       "      <td>0.0</td>\n",
       "    </tr>\n",
       "    <tr>\n",
       "      <th>1</th>\n",
       "      <td>20821</td>\n",
       "      <td>Теремок</td>\n",
       "      <td>город Москва, Ладожская улица, дом 5</td>\n",
       "      <td>да</td>\n",
       "      <td>отсутствует</td>\n",
       "      <td>0.0</td>\n",
       "    </tr>\n",
       "    <tr>\n",
       "      <th>0</th>\n",
       "      <td>20123</td>\n",
       "      <td>Кафе «Дарума суши»</td>\n",
       "      <td>город Москва, проспект Вернадского, дом 53</td>\n",
       "      <td>нет</td>\n",
       "      <td>кафе</td>\n",
       "      <td>37.0</td>\n",
       "    </tr>\n",
       "  </tbody>\n",
       "</table>\n",
       "<p>83 rows × 6 columns</p>\n",
       "</div>"
      ],
      "text/plain": [
       "        Ид        Наименование  \\\n",
       "82  372752              ШАУРМА   \n",
       "81  369518        Чайхана УМИД   \n",
       "80  367457        Stars Coffee   \n",
       "79  367328          Чебурешная   \n",
       "78  365834         Кофестанция   \n",
       "..     ...                 ...   \n",
       "4    27010             Премьер   \n",
       "3    25007         Шоколадница   \n",
       "2    24219        Кафе «Чашки»   \n",
       "1    20821             Теремок   \n",
       "0    20123  Кафе «Дарума суши»   \n",
       "\n",
       "                                                Адрес Сетевой? Специализация  \\\n",
       "82  Российская Федерация, город Москва, внутригоро...      нет   отсутствует   \n",
       "81    город Москва, Ярцевская улица, дом 34, корпус 2      нет   отсутствует   \n",
       "80  город Москва, Пресненская набережная, дом 2, п...      NaN   отсутствует   \n",
       "79  город Москва, Пресненская набережная, дом 2, п...      NaN          кафе   \n",
       "78  Российская Федерация, город Москва, внутригоро...      нет   отсутствует   \n",
       "..                                                ...      ...           ...   \n",
       "4   город Москва, Ленинградский проспект, дом 31А,...      нет      ресторан   \n",
       "3   Российская Федерация, город Москва, внутригоро...       да   отсутствует   \n",
       "2   Российская Федерация, город Москва, внутригоро...      NaN   отсутствует   \n",
       "1                город Москва, Ладожская улица, дом 5       да   отсутствует   \n",
       "0          город Москва, проспект Вернадского, дом 53      нет          кафе   \n",
       "\n",
       "    КоличМест  \n",
       "82        0.0  \n",
       "81        0.0  \n",
       "80        0.0  \n",
       "79        0.0  \n",
       "78        9.0  \n",
       "..        ...  \n",
       "4        83.0  \n",
       "3         0.0  \n",
       "2         0.0  \n",
       "1         0.0  \n",
       "0        37.0  \n",
       "\n",
       "[83 rows x 6 columns]"
      ]
     },
     "execution_count": 33,
     "metadata": {},
     "output_type": "execute_result"
    }
   ],
   "source": [
    "df"
   ]
  },
  {
   "cell_type": "code",
   "execution_count": 34,
   "id": "ee506067-5896-4ac9-9ae7-b36fbb1b8d20",
   "metadata": {
    "tags": []
   },
   "outputs": [],
   "source": [
    "df.to_csv('C:\\\\Users\\\\Борис\\\\AnacondaProjects\\\\basics_of_pandas\\\\6_4_6.csv', index=False, sep=',')"
   ]
  },
  {
   "cell_type": "code",
   "execution_count": 36,
   "id": "3286063a-7f40-4597-b7b0-81b9ff3f67e2",
   "metadata": {},
   "outputs": [
    {
     "data": {
      "text/html": [
       "<div>\n",
       "<style scoped>\n",
       "    .dataframe tbody tr th:only-of-type {\n",
       "        vertical-align: middle;\n",
       "    }\n",
       "\n",
       "    .dataframe tbody tr th {\n",
       "        vertical-align: top;\n",
       "    }\n",
       "\n",
       "    .dataframe thead th {\n",
       "        text-align: right;\n",
       "    }\n",
       "</style>\n",
       "<table border=\"1\" class=\"dataframe\">\n",
       "  <thead>\n",
       "    <tr style=\"text-align: right;\">\n",
       "      <th></th>\n",
       "      <th>Ид</th>\n",
       "      <th>Наименование</th>\n",
       "      <th>Адрес</th>\n",
       "      <th>Сетевой?</th>\n",
       "      <th>Специализация</th>\n",
       "      <th>КоличМест</th>\n",
       "    </tr>\n",
       "  </thead>\n",
       "  <tbody>\n",
       "    <tr>\n",
       "      <th>0</th>\n",
       "      <td>372752</td>\n",
       "      <td>ШАУРМА</td>\n",
       "      <td>Российская Федерация, город Москва, внутригоро...</td>\n",
       "      <td>нет</td>\n",
       "      <td>отсутствует</td>\n",
       "      <td>0.0</td>\n",
       "    </tr>\n",
       "    <tr>\n",
       "      <th>1</th>\n",
       "      <td>369518</td>\n",
       "      <td>Чайхана УМИД</td>\n",
       "      <td>город Москва, Ярцевская улица, дом 34, корпус 2</td>\n",
       "      <td>нет</td>\n",
       "      <td>отсутствует</td>\n",
       "      <td>0.0</td>\n",
       "    </tr>\n",
       "    <tr>\n",
       "      <th>2</th>\n",
       "      <td>367457</td>\n",
       "      <td>Stars Coffee</td>\n",
       "      <td>город Москва, Пресненская набережная, дом 2, п...</td>\n",
       "      <td>NaN</td>\n",
       "      <td>отсутствует</td>\n",
       "      <td>0.0</td>\n",
       "    </tr>\n",
       "    <tr>\n",
       "      <th>3</th>\n",
       "      <td>367328</td>\n",
       "      <td>Чебурешная</td>\n",
       "      <td>город Москва, Пресненская набережная, дом 2, п...</td>\n",
       "      <td>NaN</td>\n",
       "      <td>кафе</td>\n",
       "      <td>0.0</td>\n",
       "    </tr>\n",
       "    <tr>\n",
       "      <th>4</th>\n",
       "      <td>365834</td>\n",
       "      <td>Кофестанция</td>\n",
       "      <td>Российская Федерация, город Москва, внутригоро...</td>\n",
       "      <td>нет</td>\n",
       "      <td>отсутствует</td>\n",
       "      <td>9.0</td>\n",
       "    </tr>\n",
       "    <tr>\n",
       "      <th>...</th>\n",
       "      <td>...</td>\n",
       "      <td>...</td>\n",
       "      <td>...</td>\n",
       "      <td>...</td>\n",
       "      <td>...</td>\n",
       "      <td>...</td>\n",
       "    </tr>\n",
       "    <tr>\n",
       "      <th>78</th>\n",
       "      <td>27010</td>\n",
       "      <td>Премьер</td>\n",
       "      <td>город Москва, Ленинградский проспект, дом 31А,...</td>\n",
       "      <td>нет</td>\n",
       "      <td>ресторан</td>\n",
       "      <td>83.0</td>\n",
       "    </tr>\n",
       "    <tr>\n",
       "      <th>79</th>\n",
       "      <td>25007</td>\n",
       "      <td>Шоколадница</td>\n",
       "      <td>Российская Федерация, город Москва, внутригоро...</td>\n",
       "      <td>да</td>\n",
       "      <td>отсутствует</td>\n",
       "      <td>0.0</td>\n",
       "    </tr>\n",
       "    <tr>\n",
       "      <th>80</th>\n",
       "      <td>24219</td>\n",
       "      <td>Кафе «Чашки»</td>\n",
       "      <td>Российская Федерация, город Москва, внутригоро...</td>\n",
       "      <td>NaN</td>\n",
       "      <td>отсутствует</td>\n",
       "      <td>0.0</td>\n",
       "    </tr>\n",
       "    <tr>\n",
       "      <th>81</th>\n",
       "      <td>20821</td>\n",
       "      <td>Теремок</td>\n",
       "      <td>город Москва, Ладожская улица, дом 5</td>\n",
       "      <td>да</td>\n",
       "      <td>отсутствует</td>\n",
       "      <td>0.0</td>\n",
       "    </tr>\n",
       "    <tr>\n",
       "      <th>82</th>\n",
       "      <td>20123</td>\n",
       "      <td>Кафе «Дарума суши»</td>\n",
       "      <td>город Москва, проспект Вернадского, дом 53</td>\n",
       "      <td>нет</td>\n",
       "      <td>кафе</td>\n",
       "      <td>37.0</td>\n",
       "    </tr>\n",
       "  </tbody>\n",
       "</table>\n",
       "<p>83 rows × 6 columns</p>\n",
       "</div>"
      ],
      "text/plain": [
       "        Ид        Наименование  \\\n",
       "0   372752              ШАУРМА   \n",
       "1   369518        Чайхана УМИД   \n",
       "2   367457        Stars Coffee   \n",
       "3   367328          Чебурешная   \n",
       "4   365834         Кофестанция   \n",
       "..     ...                 ...   \n",
       "78   27010             Премьер   \n",
       "79   25007         Шоколадница   \n",
       "80   24219        Кафе «Чашки»   \n",
       "81   20821             Теремок   \n",
       "82   20123  Кафе «Дарума суши»   \n",
       "\n",
       "                                                Адрес Сетевой? Специализация  \\\n",
       "0   Российская Федерация, город Москва, внутригоро...      нет   отсутствует   \n",
       "1     город Москва, Ярцевская улица, дом 34, корпус 2      нет   отсутствует   \n",
       "2   город Москва, Пресненская набережная, дом 2, п...      NaN   отсутствует   \n",
       "3   город Москва, Пресненская набережная, дом 2, п...      NaN          кафе   \n",
       "4   Российская Федерация, город Москва, внутригоро...      нет   отсутствует   \n",
       "..                                                ...      ...           ...   \n",
       "78  город Москва, Ленинградский проспект, дом 31А,...      нет      ресторан   \n",
       "79  Российская Федерация, город Москва, внутригоро...       да   отсутствует   \n",
       "80  Российская Федерация, город Москва, внутригоро...      NaN   отсутствует   \n",
       "81               город Москва, Ладожская улица, дом 5       да   отсутствует   \n",
       "82         город Москва, проспект Вернадского, дом 53      нет          кафе   \n",
       "\n",
       "    КоличМест  \n",
       "0         0.0  \n",
       "1         0.0  \n",
       "2         0.0  \n",
       "3         0.0  \n",
       "4         9.0  \n",
       "..        ...  \n",
       "78       83.0  \n",
       "79        0.0  \n",
       "80        0.0  \n",
       "81        0.0  \n",
       "82       37.0  \n",
       "\n",
       "[83 rows x 6 columns]"
      ]
     },
     "execution_count": 36,
     "metadata": {},
     "output_type": "execute_result"
    }
   ],
   "source": [
    "pd.read_csv('6_4_6.csv', sep=',')"
   ]
  },
  {
   "cell_type": "code",
   "execution_count": null,
   "id": "e742c426-6a04-4304-8b4a-19e227f3efd0",
   "metadata": {},
   "outputs": [],
   "source": []
  },
  {
   "cell_type": "markdown",
   "id": "fa1b9a4d-d75b-41a6-b4a5-1a3d2ce99890",
   "metadata": {},
   "source": [
    "### Задание 7\n",
    "Срочно посмотри сколько всего мест у общепита по адресу просп. Вернадского 86А"
   ]
  },
  {
   "cell_type": "code",
   "execution_count": 3,
   "id": "fe08f848-885a-4c40-8a4d-e2d2ca8fb75a",
   "metadata": {
    "tags": []
   },
   "outputs": [
    {
     "data": {
      "text/html": [
       "<div>\n",
       "<style scoped>\n",
       "    .dataframe tbody tr th:only-of-type {\n",
       "        vertical-align: middle;\n",
       "    }\n",
       "\n",
       "    .dataframe tbody tr th {\n",
       "        vertical-align: top;\n",
       "    }\n",
       "\n",
       "    .dataframe thead th {\n",
       "        text-align: right;\n",
       "    }\n",
       "</style>\n",
       "<table border=\"1\" class=\"dataframe\">\n",
       "  <thead>\n",
       "    <tr style=\"text-align: right;\">\n",
       "      <th></th>\n",
       "      <th>ID</th>\n",
       "      <th>Name</th>\n",
       "      <th>Address</th>\n",
       "    </tr>\n",
       "  </thead>\n",
       "  <tbody>\n",
       "    <tr>\n",
       "      <th>0</th>\n",
       "      <td>20988</td>\n",
       "      <td>ГУЗ</td>\n",
       "      <td>город Москва, улица Казакова, дом 15</td>\n",
       "    </tr>\n",
       "  </tbody>\n",
       "</table>\n",
       "</div>"
      ],
      "text/plain": [
       "      ID Name                               Address\n",
       "0  20988  ГУЗ  город Москва, улица Казакова, дом 15"
      ]
     },
     "execution_count": 3,
     "metadata": {},
     "output_type": "execute_result"
    }
   ],
   "source": [
    "df_main = pd.read_csv('6_main.csv')\n",
    "df_main.head(1)"
   ]
  },
  {
   "cell_type": "code",
   "execution_count": 26,
   "id": "aef93875-1534-4ff8-ab85-8e6ff9328d60",
   "metadata": {
    "tags": []
   },
   "outputs": [
    {
     "data": {
      "text/html": [
       "<div>\n",
       "<style scoped>\n",
       "    .dataframe tbody tr th:only-of-type {\n",
       "        vertical-align: middle;\n",
       "    }\n",
       "\n",
       "    .dataframe tbody tr th {\n",
       "        vertical-align: top;\n",
       "    }\n",
       "\n",
       "    .dataframe thead th {\n",
       "        text-align: right;\n",
       "    }\n",
       "</style>\n",
       "<table border=\"1\" class=\"dataframe\">\n",
       "  <thead>\n",
       "    <tr style=\"text-align: right;\">\n",
       "      <th></th>\n",
       "      <th>SeatsCount</th>\n",
       "      <th>ver_ID</th>\n",
       "    </tr>\n",
       "    <tr>\n",
       "      <th>ID</th>\n",
       "      <th></th>\n",
       "      <th></th>\n",
       "    </tr>\n",
       "  </thead>\n",
       "  <tbody>\n",
       "    <tr>\n",
       "      <th>345181</th>\n",
       "      <td>0</td>\n",
       "      <td>1</td>\n",
       "    </tr>\n",
       "  </tbody>\n",
       "</table>\n",
       "</div>"
      ],
      "text/plain": [
       "        SeatsCount  ver_ID\n",
       "ID                        \n",
       "345181           0       1"
      ]
     },
     "execution_count": 26,
     "metadata": {},
     "output_type": "execute_result"
    }
   ],
   "source": [
    "df_seats_property = pd.read_csv('6_seats_property.csv', index_col='ID')\n",
    "df_seats_property.head(1)"
   ]
  },
  {
   "cell_type": "code",
   "execution_count": 27,
   "id": "e4cf5382-66ec-4d41-b0b9-945daff82b68",
   "metadata": {},
   "outputs": [
    {
     "data": {
      "text/html": [
       "<div>\n",
       "<style scoped>\n",
       "    .dataframe tbody tr th:only-of-type {\n",
       "        vertical-align: middle;\n",
       "    }\n",
       "\n",
       "    .dataframe tbody tr th {\n",
       "        vertical-align: top;\n",
       "    }\n",
       "\n",
       "    .dataframe thead th {\n",
       "        text-align: right;\n",
       "    }\n",
       "</style>\n",
       "<table border=\"1\" class=\"dataframe\">\n",
       "  <thead>\n",
       "    <tr style=\"text-align: right;\">\n",
       "      <th></th>\n",
       "      <th>ID</th>\n",
       "      <th>SeatsCount</th>\n",
       "      <th>ver_ID</th>\n",
       "    </tr>\n",
       "  </thead>\n",
       "  <tbody>\n",
       "    <tr>\n",
       "      <th>0</th>\n",
       "      <td>5882</td>\n",
       "      <td>75</td>\n",
       "      <td>2</td>\n",
       "    </tr>\n",
       "    <tr>\n",
       "      <th>1</th>\n",
       "      <td>19627</td>\n",
       "      <td>20</td>\n",
       "      <td>2</td>\n",
       "    </tr>\n",
       "    <tr>\n",
       "      <th>2</th>\n",
       "      <td>19657</td>\n",
       "      <td>85</td>\n",
       "      <td>2</td>\n",
       "    </tr>\n",
       "    <tr>\n",
       "      <th>3</th>\n",
       "      <td>19678</td>\n",
       "      <td>46</td>\n",
       "      <td>1</td>\n",
       "    </tr>\n",
       "    <tr>\n",
       "      <th>4</th>\n",
       "      <td>19681</td>\n",
       "      <td>24</td>\n",
       "      <td>1</td>\n",
       "    </tr>\n",
       "    <tr>\n",
       "      <th>...</th>\n",
       "      <td>...</td>\n",
       "      <td>...</td>\n",
       "      <td>...</td>\n",
       "    </tr>\n",
       "    <tr>\n",
       "      <th>8427</th>\n",
       "      <td>375905</td>\n",
       "      <td>34</td>\n",
       "      <td>1</td>\n",
       "    </tr>\n",
       "    <tr>\n",
       "      <th>8428</th>\n",
       "      <td>375933</td>\n",
       "      <td>5</td>\n",
       "      <td>2</td>\n",
       "    </tr>\n",
       "    <tr>\n",
       "      <th>8429</th>\n",
       "      <td>375940</td>\n",
       "      <td>10</td>\n",
       "      <td>2</td>\n",
       "    </tr>\n",
       "    <tr>\n",
       "      <th>8430</th>\n",
       "      <td>375942</td>\n",
       "      <td>0</td>\n",
       "      <td>1</td>\n",
       "    </tr>\n",
       "    <tr>\n",
       "      <th>8431</th>\n",
       "      <td>375956</td>\n",
       "      <td>0</td>\n",
       "      <td>1</td>\n",
       "    </tr>\n",
       "  </tbody>\n",
       "</table>\n",
       "<p>8432 rows × 3 columns</p>\n",
       "</div>"
      ],
      "text/plain": [
       "          ID  SeatsCount  ver_ID\n",
       "0       5882          75       2\n",
       "1      19627          20       2\n",
       "2      19657          85       2\n",
       "3      19678          46       1\n",
       "4      19681          24       1\n",
       "...      ...         ...     ...\n",
       "8427  375905          34       1\n",
       "8428  375933           5       2\n",
       "8429  375940          10       2\n",
       "8430  375942           0       1\n",
       "8431  375956           0       1\n",
       "\n",
       "[8432 rows x 3 columns]"
      ]
     },
     "execution_count": 27,
     "metadata": {},
     "output_type": "execute_result"
    }
   ],
   "source": [
    "df_seats_property = df_seats_property.groupby('ID').max('ver_ID').reset_index()\n",
    "df_seats_property"
   ]
  },
  {
   "cell_type": "code",
   "execution_count": 29,
   "id": "dc000e94-e9be-4459-8296-3ac7a4124340",
   "metadata": {},
   "outputs": [
    {
     "data": {
      "text/html": [
       "<div>\n",
       "<style scoped>\n",
       "    .dataframe tbody tr th:only-of-type {\n",
       "        vertical-align: middle;\n",
       "    }\n",
       "\n",
       "    .dataframe tbody tr th {\n",
       "        vertical-align: top;\n",
       "    }\n",
       "\n",
       "    .dataframe thead th {\n",
       "        text-align: right;\n",
       "    }\n",
       "</style>\n",
       "<table border=\"1\" class=\"dataframe\">\n",
       "  <thead>\n",
       "    <tr style=\"text-align: right;\">\n",
       "      <th></th>\n",
       "      <th>ID</th>\n",
       "      <th>Name</th>\n",
       "      <th>Address</th>\n",
       "      <th>SeatsCount</th>\n",
       "      <th>ver_ID</th>\n",
       "    </tr>\n",
       "  </thead>\n",
       "  <tbody>\n",
       "    <tr>\n",
       "      <th>0</th>\n",
       "      <td>151596</td>\n",
       "      <td>KVARTAL</td>\n",
       "      <td>город Москва, проспект Вернадского, дом 86А</td>\n",
       "      <td>105.0</td>\n",
       "      <td>2.0</td>\n",
       "    </tr>\n",
       "    <tr>\n",
       "      <th>1</th>\n",
       "      <td>365140</td>\n",
       "      <td>СИНЕМАСТАР</td>\n",
       "      <td>город Москва, проспект Вернадского, дом 86А</td>\n",
       "      <td>NaN</td>\n",
       "      <td>NaN</td>\n",
       "    </tr>\n",
       "    <tr>\n",
       "      <th>2</th>\n",
       "      <td>262639</td>\n",
       "      <td>Star Hit cafe</td>\n",
       "      <td>город Москва, проспект Вернадского, дом 86А</td>\n",
       "      <td>NaN</td>\n",
       "      <td>NaN</td>\n",
       "    </tr>\n",
       "    <tr>\n",
       "      <th>3</th>\n",
       "      <td>368180</td>\n",
       "      <td>One Price COFFEE</td>\n",
       "      <td>город Москва, проспект Вернадского, дом 86А</td>\n",
       "      <td>15.0</td>\n",
       "      <td>2.0</td>\n",
       "    </tr>\n",
       "    <tr>\n",
       "      <th>4</th>\n",
       "      <td>361504</td>\n",
       "      <td>Чистая линия</td>\n",
       "      <td>город Москва, проспект Вернадского, дом 86А</td>\n",
       "      <td>NaN</td>\n",
       "      <td>NaN</td>\n",
       "    </tr>\n",
       "    <tr>\n",
       "      <th>5</th>\n",
       "      <td>198194</td>\n",
       "      <td>Чайхона №1</td>\n",
       "      <td>город Москва, проспект Вернадского, дом 86А</td>\n",
       "      <td>NaN</td>\n",
       "      <td>NaN</td>\n",
       "    </tr>\n",
       "    <tr>\n",
       "      <th>6</th>\n",
       "      <td>353516</td>\n",
       "      <td>О ХОТДОГ Даниель кафе</td>\n",
       "      <td>город Москва, проспект Вернадского, дом 86А</td>\n",
       "      <td>10.0</td>\n",
       "      <td>1.0</td>\n",
       "    </tr>\n",
       "    <tr>\n",
       "      <th>7</th>\n",
       "      <td>134638</td>\n",
       "      <td>ПБО «Теремок»</td>\n",
       "      <td>город Москва, проспект Вернадского, дом 86А</td>\n",
       "      <td>NaN</td>\n",
       "      <td>NaN</td>\n",
       "    </tr>\n",
       "    <tr>\n",
       "      <th>8</th>\n",
       "      <td>354593</td>\n",
       "      <td>Bubbleology</td>\n",
       "      <td>Российская Федерация, город Москва, внутригоро...</td>\n",
       "      <td>5.0</td>\n",
       "      <td>2.0</td>\n",
       "    </tr>\n",
       "    <tr>\n",
       "      <th>9</th>\n",
       "      <td>352541</td>\n",
       "      <td>ХАВЧИК ТУТ</td>\n",
       "      <td>город Москва, проспект Вернадского, дом 86А</td>\n",
       "      <td>NaN</td>\n",
       "      <td>NaN</td>\n",
       "    </tr>\n",
       "    <tr>\n",
       "      <th>10</th>\n",
       "      <td>134633</td>\n",
       "      <td>ВОКМАНИЯ</td>\n",
       "      <td>город Москва, проспект Вернадского, дом 86А</td>\n",
       "      <td>65.0</td>\n",
       "      <td>2.0</td>\n",
       "    </tr>\n",
       "    <tr>\n",
       "      <th>11</th>\n",
       "      <td>218279</td>\n",
       "      <td>Sushi store Суши</td>\n",
       "      <td>город Москва, проспект Вернадского, дом 86А</td>\n",
       "      <td>9.0</td>\n",
       "      <td>2.0</td>\n",
       "    </tr>\n",
       "    <tr>\n",
       "      <th>12</th>\n",
       "      <td>298228</td>\n",
       "      <td>BB&amp;BURGERS</td>\n",
       "      <td>город Москва, проспект Вернадского, дом 86А</td>\n",
       "      <td>29.0</td>\n",
       "      <td>2.0</td>\n",
       "    </tr>\n",
       "    <tr>\n",
       "      <th>13</th>\n",
       "      <td>285291</td>\n",
       "      <td>SHAN SHAN Вьетнамская кухня</td>\n",
       "      <td>Российская Федерация, город Москва, внутригоро...</td>\n",
       "      <td>NaN</td>\n",
       "      <td>NaN</td>\n",
       "    </tr>\n",
       "  </tbody>\n",
       "</table>\n",
       "</div>"
      ],
      "text/plain": [
       "        ID                         Name  \\\n",
       "0   151596                      KVARTAL   \n",
       "1   365140                   СИНЕМАСТАР   \n",
       "2   262639                Star Hit cafe   \n",
       "3   368180             One Price COFFEE   \n",
       "4   361504                 Чистая линия   \n",
       "5   198194                   Чайхона №1   \n",
       "6   353516        О ХОТДОГ Даниель кафе   \n",
       "7   134638                ПБО «Теремок»   \n",
       "8   354593                  Bubbleology   \n",
       "9   352541                   ХАВЧИК ТУТ   \n",
       "10  134633                     ВОКМАНИЯ   \n",
       "11  218279             Sushi store Суши   \n",
       "12  298228                   BB&BURGERS   \n",
       "13  285291  SHAN SHAN Вьетнамская кухня   \n",
       "\n",
       "                                              Address  SeatsCount  ver_ID  \n",
       "0         город Москва, проспект Вернадского, дом 86А       105.0     2.0  \n",
       "1         город Москва, проспект Вернадского, дом 86А         NaN     NaN  \n",
       "2         город Москва, проспект Вернадского, дом 86А         NaN     NaN  \n",
       "3         город Москва, проспект Вернадского, дом 86А        15.0     2.0  \n",
       "4         город Москва, проспект Вернадского, дом 86А         NaN     NaN  \n",
       "5         город Москва, проспект Вернадского, дом 86А         NaN     NaN  \n",
       "6         город Москва, проспект Вернадского, дом 86А        10.0     1.0  \n",
       "7         город Москва, проспект Вернадского, дом 86А         NaN     NaN  \n",
       "8   Российская Федерация, город Москва, внутригоро...         5.0     2.0  \n",
       "9         город Москва, проспект Вернадского, дом 86А         NaN     NaN  \n",
       "10        город Москва, проспект Вернадского, дом 86А        65.0     2.0  \n",
       "11        город Москва, проспект Вернадского, дом 86А         9.0     2.0  \n",
       "12        город Москва, проспект Вернадского, дом 86А        29.0     2.0  \n",
       "13  Российская Федерация, город Москва, внутригоро...         NaN     NaN  "
      ]
     },
     "execution_count": 29,
     "metadata": {},
     "output_type": "execute_result"
    }
   ],
   "source": [
    "df = df_main[df_main.Address.str.contains('86А')].merge(df_seats_property, how='left')\n",
    "df"
   ]
  },
  {
   "cell_type": "code",
   "execution_count": 30,
   "id": "05a8e288-58c3-4484-be72-1a07eb455420",
   "metadata": {},
   "outputs": [
    {
     "data": {
      "text/plain": [
       "238.0"
      ]
     },
     "execution_count": 30,
     "metadata": {},
     "output_type": "execute_result"
    }
   ],
   "source": [
    "df.SeatsCount.sum()"
   ]
  },
  {
   "cell_type": "code",
   "execution_count": null,
   "id": "cb702e90-7ef0-41d1-9bce-3d5341b9b8d7",
   "metadata": {},
   "outputs": [],
   "source": []
  },
  {
   "cell_type": "code",
   "execution_count": null,
   "id": "ca7fdc7e-09fc-4098-9f49-b06c21908ead",
   "metadata": {},
   "outputs": [],
   "source": []
  },
  {
   "cell_type": "code",
   "execution_count": null,
   "id": "03b74a0e-120a-4bf6-b8bf-98d1f58e93b0",
   "metadata": {},
   "outputs": [],
   "source": []
  }
 ],
 "metadata": {
  "kernelspec": {
   "display_name": "Python 3 (ipykernel)",
   "language": "python",
   "name": "python3"
  },
  "language_info": {
   "codemirror_mode": {
    "name": "ipython",
    "version": 3
   },
   "file_extension": ".py",
   "mimetype": "text/x-python",
   "name": "python",
   "nbconvert_exporter": "python",
   "pygments_lexer": "ipython3",
   "version": "3.7.16"
  }
 },
 "nbformat": 4,
 "nbformat_minor": 5
}
