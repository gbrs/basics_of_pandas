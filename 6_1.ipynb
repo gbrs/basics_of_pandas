{
 "cells": [
  {
   "cell_type": "markdown",
   "id": "5caec950",
   "metadata": {},
   "source": [
    "# Домашнее задание по мультииндексам"
   ]
  },
  {
   "cell_type": "markdown",
   "id": "e693ba18-b0df-4692-8b33-57de1d9bc923",
   "metadata": {},
   "source": [
    "https://stepik.org/lesson/832758/step/1?unit=836344"
   ]
  },
  {
   "cell_type": "code",
   "execution_count": 1,
   "id": "2139a7f9",
   "metadata": {},
   "outputs": [],
   "source": [
    "import pandas as pd\n",
    "import numpy as np"
   ]
  },
  {
   "cell_type": "markdown",
   "id": "63441a2f",
   "metadata": {},
   "source": [
    "## Задание 1\n",
    "Постройте датафрейм заполненный нулями так, как это показано в ячейке ниже. Первые две колонки являются мультииндексом. Для заполнения датафрейма нулями воспользуйтесь функцией zeros из библиотеки numpy"
   ]
  },
  {
   "cell_type": "raw",
   "id": "371dd699",
   "metadata": {},
   "source": [
    "                  0    1    2    3    4\n",
    "Группа 1 Альфа  0.0  0.0  0.0  0.0  0.0\n",
    "         Бета   0.0  0.0  0.0  0.0  0.0\n",
    "Группа 2 Альфа  0.0  0.0  0.0  0.0  0.0\n",
    "         Бета   0.0  0.0  0.0  0.0  0.0"
   ]
  },
  {
   "cell_type": "code",
   "execution_count": 6,
   "id": "36f5f293",
   "metadata": {},
   "outputs": [
    {
     "data": {
      "text/html": [
       "<div>\n",
       "<style scoped>\n",
       "    .dataframe tbody tr th:only-of-type {\n",
       "        vertical-align: middle;\n",
       "    }\n",
       "\n",
       "    .dataframe tbody tr th {\n",
       "        vertical-align: top;\n",
       "    }\n",
       "\n",
       "    .dataframe thead th {\n",
       "        text-align: right;\n",
       "    }\n",
       "</style>\n",
       "<table border=\"1\" class=\"dataframe\">\n",
       "  <thead>\n",
       "    <tr style=\"text-align: right;\">\n",
       "      <th></th>\n",
       "      <th></th>\n",
       "      <th>0</th>\n",
       "      <th>1</th>\n",
       "      <th>2</th>\n",
       "      <th>3</th>\n",
       "      <th>4</th>\n",
       "    </tr>\n",
       "  </thead>\n",
       "  <tbody>\n",
       "    <tr>\n",
       "      <th rowspan=\"2\" valign=\"top\">Группа 1</th>\n",
       "      <th>Альфа</th>\n",
       "      <td>0.0</td>\n",
       "      <td>0.0</td>\n",
       "      <td>0.0</td>\n",
       "      <td>0.0</td>\n",
       "      <td>0.0</td>\n",
       "    </tr>\n",
       "    <tr>\n",
       "      <th>Бета</th>\n",
       "      <td>0.0</td>\n",
       "      <td>0.0</td>\n",
       "      <td>0.0</td>\n",
       "      <td>0.0</td>\n",
       "      <td>0.0</td>\n",
       "    </tr>\n",
       "    <tr>\n",
       "      <th rowspan=\"2\" valign=\"top\">Группа 2</th>\n",
       "      <th>Альфа</th>\n",
       "      <td>0.0</td>\n",
       "      <td>0.0</td>\n",
       "      <td>0.0</td>\n",
       "      <td>0.0</td>\n",
       "      <td>0.0</td>\n",
       "    </tr>\n",
       "    <tr>\n",
       "      <th>Бета</th>\n",
       "      <td>0.0</td>\n",
       "      <td>0.0</td>\n",
       "      <td>0.0</td>\n",
       "      <td>0.0</td>\n",
       "      <td>0.0</td>\n",
       "    </tr>\n",
       "  </tbody>\n",
       "</table>\n",
       "</div>"
      ],
      "text/plain": [
       "                  0    1    2    3    4\n",
       "Группа 1 Альфа  0.0  0.0  0.0  0.0  0.0\n",
       "         Бета   0.0  0.0  0.0  0.0  0.0\n",
       "Группа 2 Альфа  0.0  0.0  0.0  0.0  0.0\n",
       "         Бета   0.0  0.0  0.0  0.0  0.0"
      ]
     },
     "execution_count": 6,
     "metadata": {},
     "output_type": "execute_result"
    }
   ],
   "source": [
    "task1_df = pd.DataFrame(np.zeros((4, 5)), index=[['Группа 1', 'Группа 1', 'Группа 2', 'Группа 2',], ['Альфа', 'Бета', 'Альфа', 'Бета',]])\n",
    "task1_df"
   ]
  },
  {
   "cell_type": "code",
   "execution_count": 7,
   "id": "d02d72b7",
   "metadata": {},
   "outputs": [],
   "source": [
    "task1_df.to_csv('answer_6_1.csv')"
   ]
  },
  {
   "cell_type": "markdown",
   "id": "731017ce",
   "metadata": {},
   "source": [
    "Получившися датафрейм сохраните в csv файл и загрузите на степик"
   ]
  },
  {
   "cell_type": "code",
   "execution_count": null,
   "id": "1cc342ea",
   "metadata": {},
   "outputs": [],
   "source": [
    "task1_df.to_csv('result_task1_df.csv')"
   ]
  },
  {
   "cell_type": "code",
   "execution_count": null,
   "id": "13b77c49-4b8b-42be-8e85-688688cde81f",
   "metadata": {},
   "outputs": [],
   "source": []
  },
  {
   "cell_type": "markdown",
   "id": "c63c3fea",
   "metadata": {},
   "source": [
    "## Задание 2\n",
    "Загрузите файл task2.csv в котором содержится сводная информация о велопарковках в Москве"
   ]
  },
  {
   "cell_type": "code",
   "execution_count": 2,
   "id": "ceea6600",
   "metadata": {},
   "outputs": [],
   "source": [
    "task2_df = pd.read_csv('task2.csv', index_col=[0, 1]) # не редактируйте"
   ]
  },
  {
   "cell_type": "markdown",
   "id": "c9a8477f",
   "metadata": {},
   "source": [
    "По каждому району (District) и типу (cost_type) содержится количество парковок (count) и суммарное количество мест на этих парковках (sum)"
   ]
  },
  {
   "cell_type": "code",
   "execution_count": 3,
   "id": "b951a8de",
   "metadata": {},
   "outputs": [
    {
     "data": {
      "text/html": [
       "<div>\n",
       "<style scoped>\n",
       "    .dataframe tbody tr th:only-of-type {\n",
       "        vertical-align: middle;\n",
       "    }\n",
       "\n",
       "    .dataframe tbody tr th {\n",
       "        vertical-align: top;\n",
       "    }\n",
       "\n",
       "    .dataframe thead th {\n",
       "        text-align: right;\n",
       "    }\n",
       "</style>\n",
       "<table border=\"1\" class=\"dataframe\">\n",
       "  <thead>\n",
       "    <tr style=\"text-align: right;\">\n",
       "      <th></th>\n",
       "      <th></th>\n",
       "      <th>count</th>\n",
       "      <th>sum</th>\n",
       "    </tr>\n",
       "    <tr>\n",
       "      <th>District</th>\n",
       "      <th>cost_type</th>\n",
       "      <th></th>\n",
       "      <th></th>\n",
       "    </tr>\n",
       "  </thead>\n",
       "  <tbody>\n",
       "    <tr>\n",
       "      <th rowspan=\"2\" valign=\"top\">Академический район</th>\n",
       "      <th>Бесплатная</th>\n",
       "      <td>3</td>\n",
       "      <td>19</td>\n",
       "    </tr>\n",
       "    <tr>\n",
       "      <th>Платная</th>\n",
       "      <td>1</td>\n",
       "      <td>8</td>\n",
       "    </tr>\n",
       "    <tr>\n",
       "      <th rowspan=\"2\" valign=\"top\">Алексеевский район</th>\n",
       "      <th>Бесплатная</th>\n",
       "      <td>9</td>\n",
       "      <td>88</td>\n",
       "    </tr>\n",
       "    <tr>\n",
       "      <th>Платная</th>\n",
       "      <td>7</td>\n",
       "      <td>64</td>\n",
       "    </tr>\n",
       "    <tr>\n",
       "      <th>Алтуфьевский район</th>\n",
       "      <th>Бесплатная</th>\n",
       "      <td>2</td>\n",
       "      <td>20</td>\n",
       "    </tr>\n",
       "    <tr>\n",
       "      <th>...</th>\n",
       "      <th>...</th>\n",
       "      <td>...</td>\n",
       "      <td>...</td>\n",
       "    </tr>\n",
       "    <tr>\n",
       "      <th>район Южное Тушино</th>\n",
       "      <th>Платная</th>\n",
       "      <td>5</td>\n",
       "      <td>44</td>\n",
       "    </tr>\n",
       "    <tr>\n",
       "      <th rowspan=\"2\" valign=\"top\">район Якиманка</th>\n",
       "      <th>Бесплатная</th>\n",
       "      <td>6</td>\n",
       "      <td>18</td>\n",
       "    </tr>\n",
       "    <tr>\n",
       "      <th>Платная</th>\n",
       "      <td>4</td>\n",
       "      <td>16</td>\n",
       "    </tr>\n",
       "    <tr>\n",
       "      <th rowspan=\"2\" valign=\"top\">район Ясенево</th>\n",
       "      <th>Бесплатная</th>\n",
       "      <td>9</td>\n",
       "      <td>66</td>\n",
       "    </tr>\n",
       "    <tr>\n",
       "      <th>Платная</th>\n",
       "      <td>4</td>\n",
       "      <td>38</td>\n",
       "    </tr>\n",
       "  </tbody>\n",
       "</table>\n",
       "<p>235 rows × 2 columns</p>\n",
       "</div>"
      ],
      "text/plain": [
       "                                count  sum\n",
       "District            cost_type             \n",
       "Академический район Бесплатная      3   19\n",
       "                    Платная         1    8\n",
       "Алексеевский район  Бесплатная      9   88\n",
       "                    Платная         7   64\n",
       "Алтуфьевский район  Бесплатная      2   20\n",
       "...                               ...  ...\n",
       "район Южное Тушино  Платная         5   44\n",
       "район Якиманка      Бесплатная      6   18\n",
       "                    Платная         4   16\n",
       "район Ясенево       Бесплатная      9   66\n",
       "                    Платная         4   38\n",
       "\n",
       "[235 rows x 2 columns]"
      ]
     },
     "execution_count": 3,
     "metadata": {},
     "output_type": "execute_result"
    }
   ],
   "source": [
    "task2_df"
   ]
  },
  {
   "cell_type": "markdown",
   "id": "1ed3cb89",
   "metadata": {},
   "source": [
    "Выполните преобразование таким образом чтобы получился новый датафрейм, где строки будут всё так же районы, а по колонкам будет идти суммарное количество мест на парковке в разбивке платные/бесплатные "
   ]
  },
  {
   "cell_type": "raw",
   "id": "20115f6c",
   "metadata": {},
   "source": [
    "cost_type               Бесплатная  Платная\n",
    "District                                   \n",
    "Академический район           19.0      8.0\n",
    "Алексеевский район            88.0     64.0\n",
    "Алтуфьевский район            20.0     30.0\n",
    "Бабушкинский район            62.0     77.0\n",
    "Басманный район              116.0    109.0\n",
    "...                            ...      ...\n",
    "район Южное Бутово            36.0     92.0\n",
    "район Южное Медведково        60.0     18.0\n",
    "район Южное Тушино            12.0     44.0\n",
    "район Якиманка                18.0     16.0\n",
    "район Ясенево                 66.0     38.0"
   ]
  },
  {
   "cell_type": "code",
   "execution_count": 9,
   "id": "cb8fcb2d",
   "metadata": {},
   "outputs": [],
   "source": [
    "task2_df = task2_df['sum'].unstack()"
   ]
  },
  {
   "cell_type": "markdown",
   "id": "d1de2b1d",
   "metadata": {},
   "source": [
    "Cохраните в csv файл и загрузите на Stepik"
   ]
  },
  {
   "cell_type": "code",
   "execution_count": 10,
   "id": "9c6b8487",
   "metadata": {},
   "outputs": [],
   "source": [
    "task2_df.to_csv('result_task2_df.csv')"
   ]
  },
  {
   "cell_type": "code",
   "execution_count": null,
   "id": "9f42d545",
   "metadata": {},
   "outputs": [],
   "source": []
  },
  {
   "cell_type": "markdown",
   "id": "22124e17",
   "metadata": {},
   "source": [
    "## Задание 3\n",
    "### Снова загружаем датафрейм с прошлого степа"
   ]
  },
  {
   "cell_type": "code",
   "execution_count": 2,
   "id": "365205fe",
   "metadata": {},
   "outputs": [],
   "source": [
    "task3_df = pd.read_csv('task2.csv', index_col=[0, 1]) # не редактируйте"
   ]
  },
  {
   "cell_type": "code",
   "execution_count": 3,
   "id": "c622b017",
   "metadata": {},
   "outputs": [
    {
     "data": {
      "text/html": [
       "<div>\n",
       "<style scoped>\n",
       "    .dataframe tbody tr th:only-of-type {\n",
       "        vertical-align: middle;\n",
       "    }\n",
       "\n",
       "    .dataframe tbody tr th {\n",
       "        vertical-align: top;\n",
       "    }\n",
       "\n",
       "    .dataframe thead th {\n",
       "        text-align: right;\n",
       "    }\n",
       "</style>\n",
       "<table border=\"1\" class=\"dataframe\">\n",
       "  <thead>\n",
       "    <tr style=\"text-align: right;\">\n",
       "      <th></th>\n",
       "      <th></th>\n",
       "      <th>count</th>\n",
       "      <th>sum</th>\n",
       "    </tr>\n",
       "    <tr>\n",
       "      <th>District</th>\n",
       "      <th>cost_type</th>\n",
       "      <th></th>\n",
       "      <th></th>\n",
       "    </tr>\n",
       "  </thead>\n",
       "  <tbody>\n",
       "    <tr>\n",
       "      <th rowspan=\"2\" valign=\"top\">Академический район</th>\n",
       "      <th>Бесплатная</th>\n",
       "      <td>3</td>\n",
       "      <td>19</td>\n",
       "    </tr>\n",
       "    <tr>\n",
       "      <th>Платная</th>\n",
       "      <td>1</td>\n",
       "      <td>8</td>\n",
       "    </tr>\n",
       "    <tr>\n",
       "      <th rowspan=\"2\" valign=\"top\">Алексеевский район</th>\n",
       "      <th>Бесплатная</th>\n",
       "      <td>9</td>\n",
       "      <td>88</td>\n",
       "    </tr>\n",
       "    <tr>\n",
       "      <th>Платная</th>\n",
       "      <td>7</td>\n",
       "      <td>64</td>\n",
       "    </tr>\n",
       "    <tr>\n",
       "      <th>Алтуфьевский район</th>\n",
       "      <th>Бесплатная</th>\n",
       "      <td>2</td>\n",
       "      <td>20</td>\n",
       "    </tr>\n",
       "    <tr>\n",
       "      <th>...</th>\n",
       "      <th>...</th>\n",
       "      <td>...</td>\n",
       "      <td>...</td>\n",
       "    </tr>\n",
       "    <tr>\n",
       "      <th>район Южное Тушино</th>\n",
       "      <th>Платная</th>\n",
       "      <td>5</td>\n",
       "      <td>44</td>\n",
       "    </tr>\n",
       "    <tr>\n",
       "      <th rowspan=\"2\" valign=\"top\">район Якиманка</th>\n",
       "      <th>Бесплатная</th>\n",
       "      <td>6</td>\n",
       "      <td>18</td>\n",
       "    </tr>\n",
       "    <tr>\n",
       "      <th>Платная</th>\n",
       "      <td>4</td>\n",
       "      <td>16</td>\n",
       "    </tr>\n",
       "    <tr>\n",
       "      <th rowspan=\"2\" valign=\"top\">район Ясенево</th>\n",
       "      <th>Бесплатная</th>\n",
       "      <td>9</td>\n",
       "      <td>66</td>\n",
       "    </tr>\n",
       "    <tr>\n",
       "      <th>Платная</th>\n",
       "      <td>4</td>\n",
       "      <td>38</td>\n",
       "    </tr>\n",
       "  </tbody>\n",
       "</table>\n",
       "<p>235 rows × 2 columns</p>\n",
       "</div>"
      ],
      "text/plain": [
       "                                count  sum\n",
       "District            cost_type             \n",
       "Академический район Бесплатная      3   19\n",
       "                    Платная         1    8\n",
       "Алексеевский район  Бесплатная      9   88\n",
       "                    Платная         7   64\n",
       "Алтуфьевский район  Бесплатная      2   20\n",
       "...                               ...  ...\n",
       "район Южное Тушино  Платная         5   44\n",
       "район Якиманка      Бесплатная      6   18\n",
       "                    Платная         4   16\n",
       "район Ясенево       Бесплатная      9   66\n",
       "                    Платная         4   38\n",
       "\n",
       "[235 rows x 2 columns]"
      ]
     },
     "execution_count": 3,
     "metadata": {},
     "output_type": "execute_result"
    }
   ],
   "source": [
    "task3_df"
   ]
  },
  {
   "cell_type": "markdown",
   "id": "00dd98ea",
   "metadata": {},
   "source": [
    "Отберите информацию о велопарковках в районах: \n",
    "- Алексеевский район\n",
    "- район Южное Тушино\n",
    "- район Ясенево"
   ]
  },
  {
   "cell_type": "markdown",
   "id": "bc784de0",
   "metadata": {},
   "source": [
    "Посчитайте суммарное количество парковок в разрезе по платным и бесплатным\n",
    "Для начала выполните преобразование как в прошлом задании, а потом вспомните, что мы проходили функцию суммирования по строкам и колонкам. Попробуй применить ее. На степик в поле с ответом введите 2 числа через пробел: количество по бесплатным и количество по платным\n",
    "Например: 10 15"
   ]
  },
  {
   "cell_type": "code",
   "execution_count": 12,
   "id": "f4a47171-ed0f-4ae1-b352-7249d03c4cf0",
   "metadata": {},
   "outputs": [
    {
     "data": {
      "text/plain": [
       "cost_type\n",
       "Бесплатная    20.0\n",
       "Платная       16.0\n",
       "dtype: float64"
      ]
     },
     "execution_count": 12,
     "metadata": {},
     "output_type": "execute_result"
    }
   ],
   "source": [
    "task3_df['count'].unstack().loc[['Алексеевский район', 'район Южное Тушино', 'район Ясенево'], :].sum()"
   ]
  },
  {
   "cell_type": "code",
   "execution_count": null,
   "id": "3aa43bef-d257-498a-8e6b-fa731722eaf2",
   "metadata": {},
   "outputs": [],
   "source": []
  },
  {
   "cell_type": "code",
   "execution_count": null,
   "id": "b8603039-71ef-4d29-83fb-793048c72bbd",
   "metadata": {},
   "outputs": [],
   "source": []
  },
  {
   "cell_type": "code",
   "execution_count": null,
   "id": "feef278a",
   "metadata": {},
   "outputs": [],
   "source": []
  },
  {
   "cell_type": "markdown",
   "id": "9aa320ba",
   "metadata": {},
   "source": [
    "## Задание 4. \n",
    "### Загрузите файл task4.csv в котором содержится сводная информация о велопарковках в Москве"
   ]
  },
  {
   "cell_type": "code",
   "execution_count": 26,
   "id": "34f64982",
   "metadata": {},
   "outputs": [],
   "source": [
    "task4_df = pd.read_csv('task4.csv', index_col=[0, 1, 2]) # не редактируйте"
   ]
  },
  {
   "cell_type": "markdown",
   "id": "9fd74bbe",
   "metadata": {},
   "source": [
    "### По каждому административному округу (AdmArea), району (District) и типу (cost_type) содержится количество парковок (count) и суммарное количество мест на этих парковках (sum)"
   ]
  },
  {
   "cell_type": "code",
   "execution_count": null,
   "id": "3393bd40",
   "metadata": {},
   "outputs": [],
   "source": [
    "task4_df"
   ]
  },
  {
   "cell_type": "markdown",
   "id": "d7aff86c",
   "metadata": {},
   "source": [
    "### Посчитайте среднее количество бесплатных парковок в Южном административном округе. Ответ округлите вниз до целого числа. Ответ загрузите на степик."
   ]
  },
  {
   "cell_type": "markdown",
   "id": "60fb2927",
   "metadata": {},
   "source": [
    "## Задание 5. \n",
    "### Загрузите файл task4.csv в котором содержится сводная информация о велопарковках в Москве"
   ]
  },
  {
   "cell_type": "code",
   "execution_count": 42,
   "id": "01409c6a",
   "metadata": {},
   "outputs": [],
   "source": [
    "task5_df = pd.read_csv('task4.csv', index_col=[0, 1, 2]) # не редактируйте"
   ]
  },
  {
   "cell_type": "markdown",
   "id": "0a696a3f",
   "metadata": {},
   "source": [
    "### По каждому административному округу (AdmArea), району (District) и типу (cost_type) содержится количество парковок (count) и суммарное количество мест на этих парковках (sum)"
   ]
  },
  {
   "cell_type": "code",
   "execution_count": null,
   "id": "9e0ac530",
   "metadata": {},
   "outputs": [],
   "source": [
    "task5_df"
   ]
  },
  {
   "cell_type": "markdown",
   "id": "1b110329",
   "metadata": {},
   "source": [
    "### Найдите в каком районе восточного административного округа больше всего мест на бесплатных парковках. Правильный район выберите из списка на степике."
   ]
  },
  {
   "cell_type": "code",
   "execution_count": null,
   "id": "c616c3dc",
   "metadata": {},
   "outputs": [],
   "source": []
  },
  {
   "cell_type": "code",
   "execution_count": null,
   "id": "13028d55",
   "metadata": {},
   "outputs": [],
   "source": []
  },
  {
   "cell_type": "code",
   "execution_count": null,
   "id": "ff39148e",
   "metadata": {},
   "outputs": [],
   "source": []
  }
 ],
 "metadata": {
  "kernelspec": {
   "display_name": "Python 3 (ipykernel)",
   "language": "python",
   "name": "python3"
  },
  "language_info": {
   "codemirror_mode": {
    "name": "ipython",
    "version": 3
   },
   "file_extension": ".py",
   "mimetype": "text/x-python",
   "name": "python",
   "nbconvert_exporter": "python",
   "pygments_lexer": "ipython3",
   "version": "3.7.16"
  }
 },
 "nbformat": 4,
 "nbformat_minor": 5
}
