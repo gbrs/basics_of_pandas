{
 "cells": [
  {
   "cell_type": "markdown",
   "id": "5caec950",
   "metadata": {},
   "source": [
    "# Домашнее задание по мультииндексам"
   ]
  },
  {
   "cell_type": "markdown",
   "id": "e693ba18-b0df-4692-8b33-57de1d9bc923",
   "metadata": {},
   "source": [
    "https://stepik.org/lesson/832758/step/1?unit=836344"
   ]
  },
  {
   "cell_type": "code",
   "execution_count": 1,
   "id": "2139a7f9",
   "metadata": {},
   "outputs": [],
   "source": [
    "import pandas as pd\n",
    "import numpy as np"
   ]
  },
  {
   "cell_type": "markdown",
   "id": "63441a2f",
   "metadata": {},
   "source": [
    "## Задание 1\n",
    "Постройте датафрейм заполненный нулями так, как это показано в ячейке ниже. Первые две колонки являются мультииндексом. Для заполнения датафрейма нулями воспользуйтесь функцией zeros из библиотеки numpy"
   ]
  },
  {
   "cell_type": "raw",
   "id": "371dd699",
   "metadata": {},
   "source": [
    "                  0    1    2    3    4\n",
    "Группа 1 Альфа  0.0  0.0  0.0  0.0  0.0\n",
    "         Бета   0.0  0.0  0.0  0.0  0.0\n",
    "Группа 2 Альфа  0.0  0.0  0.0  0.0  0.0\n",
    "         Бета   0.0  0.0  0.0  0.0  0.0"
   ]
  },
  {
   "cell_type": "code",
   "execution_count": 6,
   "id": "36f5f293",
   "metadata": {},
   "outputs": [
    {
     "data": {
      "text/html": [
       "<div>\n",
       "<style scoped>\n",
       "    .dataframe tbody tr th:only-of-type {\n",
       "        vertical-align: middle;\n",
       "    }\n",
       "\n",
       "    .dataframe tbody tr th {\n",
       "        vertical-align: top;\n",
       "    }\n",
       "\n",
       "    .dataframe thead th {\n",
       "        text-align: right;\n",
       "    }\n",
       "</style>\n",
       "<table border=\"1\" class=\"dataframe\">\n",
       "  <thead>\n",
       "    <tr style=\"text-align: right;\">\n",
       "      <th></th>\n",
       "      <th></th>\n",
       "      <th>0</th>\n",
       "      <th>1</th>\n",
       "      <th>2</th>\n",
       "      <th>3</th>\n",
       "      <th>4</th>\n",
       "    </tr>\n",
       "  </thead>\n",
       "  <tbody>\n",
       "    <tr>\n",
       "      <th rowspan=\"2\" valign=\"top\">Группа 1</th>\n",
       "      <th>Альфа</th>\n",
       "      <td>0.0</td>\n",
       "      <td>0.0</td>\n",
       "      <td>0.0</td>\n",
       "      <td>0.0</td>\n",
       "      <td>0.0</td>\n",
       "    </tr>\n",
       "    <tr>\n",
       "      <th>Бета</th>\n",
       "      <td>0.0</td>\n",
       "      <td>0.0</td>\n",
       "      <td>0.0</td>\n",
       "      <td>0.0</td>\n",
       "      <td>0.0</td>\n",
       "    </tr>\n",
       "    <tr>\n",
       "      <th rowspan=\"2\" valign=\"top\">Группа 2</th>\n",
       "      <th>Альфа</th>\n",
       "      <td>0.0</td>\n",
       "      <td>0.0</td>\n",
       "      <td>0.0</td>\n",
       "      <td>0.0</td>\n",
       "      <td>0.0</td>\n",
       "    </tr>\n",
       "    <tr>\n",
       "      <th>Бета</th>\n",
       "      <td>0.0</td>\n",
       "      <td>0.0</td>\n",
       "      <td>0.0</td>\n",
       "      <td>0.0</td>\n",
       "      <td>0.0</td>\n",
       "    </tr>\n",
       "  </tbody>\n",
       "</table>\n",
       "</div>"
      ],
      "text/plain": [
       "                  0    1    2    3    4\n",
       "Группа 1 Альфа  0.0  0.0  0.0  0.0  0.0\n",
       "         Бета   0.0  0.0  0.0  0.0  0.0\n",
       "Группа 2 Альфа  0.0  0.0  0.0  0.0  0.0\n",
       "         Бета   0.0  0.0  0.0  0.0  0.0"
      ]
     },
     "execution_count": 6,
     "metadata": {},
     "output_type": "execute_result"
    }
   ],
   "source": [
    "task1_df = pd.DataFrame(np.zeros((4, 5)), index=[['Группа 1', 'Группа 1', 'Группа 2', 'Группа 2',], ['Альфа', 'Бета', 'Альфа', 'Бета',]])\n",
    "task1_df"
   ]
  },
  {
   "cell_type": "code",
   "execution_count": 7,
   "id": "d02d72b7",
   "metadata": {},
   "outputs": [],
   "source": [
    "task1_df.to_csv('answer_6_1.csv')"
   ]
  },
  {
   "cell_type": "markdown",
   "id": "731017ce",
   "metadata": {},
   "source": [
    "Получившися датафрейм сохраните в csv файл и загрузите на степик"
   ]
  },
  {
   "cell_type": "code",
   "execution_count": null,
   "id": "1cc342ea",
   "metadata": {},
   "outputs": [],
   "source": [
    "task1_df.to_csv('result_task1_df.csv')"
   ]
  },
  {
   "cell_type": "code",
   "execution_count": null,
   "id": "13b77c49-4b8b-42be-8e85-688688cde81f",
   "metadata": {},
   "outputs": [],
   "source": []
  },
  {
   "cell_type": "markdown",
   "id": "c63c3fea",
   "metadata": {},
   "source": [
    "## Задание 2\n",
    "Загрузите файл task2.csv в котором содержится сводная информация о велопарковках в Москве"
   ]
  },
  {
   "cell_type": "code",
   "execution_count": 2,
   "id": "ceea6600",
   "metadata": {},
   "outputs": [],
   "source": [
    "task2_df = pd.read_csv('task2.csv', index_col=[0, 1]) # не редактируйте"
   ]
  },
  {
   "cell_type": "markdown",
   "id": "c9a8477f",
   "metadata": {},
   "source": [
    "По каждому району (District) и типу (cost_type) содержится количество парковок (count) и суммарное количество мест на этих парковках (sum)"
   ]
  },
  {
   "cell_type": "code",
   "execution_count": 3,
   "id": "b951a8de",
   "metadata": {},
   "outputs": [
    {
     "data": {
      "text/html": [
       "<div>\n",
       "<style scoped>\n",
       "    .dataframe tbody tr th:only-of-type {\n",
       "        vertical-align: middle;\n",
       "    }\n",
       "\n",
       "    .dataframe tbody tr th {\n",
       "        vertical-align: top;\n",
       "    }\n",
       "\n",
       "    .dataframe thead th {\n",
       "        text-align: right;\n",
       "    }\n",
       "</style>\n",
       "<table border=\"1\" class=\"dataframe\">\n",
       "  <thead>\n",
       "    <tr style=\"text-align: right;\">\n",
       "      <th></th>\n",
       "      <th></th>\n",
       "      <th>count</th>\n",
       "      <th>sum</th>\n",
       "    </tr>\n",
       "    <tr>\n",
       "      <th>District</th>\n",
       "      <th>cost_type</th>\n",
       "      <th></th>\n",
       "      <th></th>\n",
       "    </tr>\n",
       "  </thead>\n",
       "  <tbody>\n",
       "    <tr>\n",
       "      <th rowspan=\"2\" valign=\"top\">Академический район</th>\n",
       "      <th>Бесплатная</th>\n",
       "      <td>3</td>\n",
       "      <td>19</td>\n",
       "    </tr>\n",
       "    <tr>\n",
       "      <th>Платная</th>\n",
       "      <td>1</td>\n",
       "      <td>8</td>\n",
       "    </tr>\n",
       "    <tr>\n",
       "      <th rowspan=\"2\" valign=\"top\">Алексеевский район</th>\n",
       "      <th>Бесплатная</th>\n",
       "      <td>9</td>\n",
       "      <td>88</td>\n",
       "    </tr>\n",
       "    <tr>\n",
       "      <th>Платная</th>\n",
       "      <td>7</td>\n",
       "      <td>64</td>\n",
       "    </tr>\n",
       "    <tr>\n",
       "      <th>Алтуфьевский район</th>\n",
       "      <th>Бесплатная</th>\n",
       "      <td>2</td>\n",
       "      <td>20</td>\n",
       "    </tr>\n",
       "    <tr>\n",
       "      <th>...</th>\n",
       "      <th>...</th>\n",
       "      <td>...</td>\n",
       "      <td>...</td>\n",
       "    </tr>\n",
       "    <tr>\n",
       "      <th>район Южное Тушино</th>\n",
       "      <th>Платная</th>\n",
       "      <td>5</td>\n",
       "      <td>44</td>\n",
       "    </tr>\n",
       "    <tr>\n",
       "      <th rowspan=\"2\" valign=\"top\">район Якиманка</th>\n",
       "      <th>Бесплатная</th>\n",
       "      <td>6</td>\n",
       "      <td>18</td>\n",
       "    </tr>\n",
       "    <tr>\n",
       "      <th>Платная</th>\n",
       "      <td>4</td>\n",
       "      <td>16</td>\n",
       "    </tr>\n",
       "    <tr>\n",
       "      <th rowspan=\"2\" valign=\"top\">район Ясенево</th>\n",
       "      <th>Бесплатная</th>\n",
       "      <td>9</td>\n",
       "      <td>66</td>\n",
       "    </tr>\n",
       "    <tr>\n",
       "      <th>Платная</th>\n",
       "      <td>4</td>\n",
       "      <td>38</td>\n",
       "    </tr>\n",
       "  </tbody>\n",
       "</table>\n",
       "<p>235 rows × 2 columns</p>\n",
       "</div>"
      ],
      "text/plain": [
       "                                count  sum\n",
       "District            cost_type             \n",
       "Академический район Бесплатная      3   19\n",
       "                    Платная         1    8\n",
       "Алексеевский район  Бесплатная      9   88\n",
       "                    Платная         7   64\n",
       "Алтуфьевский район  Бесплатная      2   20\n",
       "...                               ...  ...\n",
       "район Южное Тушино  Платная         5   44\n",
       "район Якиманка      Бесплатная      6   18\n",
       "                    Платная         4   16\n",
       "район Ясенево       Бесплатная      9   66\n",
       "                    Платная         4   38\n",
       "\n",
       "[235 rows x 2 columns]"
      ]
     },
     "execution_count": 3,
     "metadata": {},
     "output_type": "execute_result"
    }
   ],
   "source": [
    "task2_df"
   ]
  },
  {
   "cell_type": "markdown",
   "id": "1ed3cb89",
   "metadata": {},
   "source": [
    "Выполните преобразование таким образом чтобы получился новый датафрейм, где строки будут всё так же районы, а по колонкам будет идти суммарное количество мест на парковке в разбивке платные/бесплатные "
   ]
  },
  {
   "cell_type": "raw",
   "id": "20115f6c",
   "metadata": {},
   "source": [
    "cost_type               Бесплатная  Платная\n",
    "District                                   \n",
    "Академический район           19.0      8.0\n",
    "Алексеевский район            88.0     64.0\n",
    "Алтуфьевский район            20.0     30.0\n",
    "Бабушкинский район            62.0     77.0\n",
    "Басманный район              116.0    109.0\n",
    "...                            ...      ...\n",
    "район Южное Бутово            36.0     92.0\n",
    "район Южное Медведково        60.0     18.0\n",
    "район Южное Тушино            12.0     44.0\n",
    "район Якиманка                18.0     16.0\n",
    "район Ясенево                 66.0     38.0"
   ]
  },
  {
   "cell_type": "code",
   "execution_count": 9,
   "id": "cb8fcb2d",
   "metadata": {},
   "outputs": [],
   "source": [
    "task2_df = task2_df['sum'].unstack()"
   ]
  },
  {
   "cell_type": "markdown",
   "id": "d1de2b1d",
   "metadata": {},
   "source": [
    "Cохраните в csv файл и загрузите на Stepik"
   ]
  },
  {
   "cell_type": "code",
   "execution_count": 10,
   "id": "9c6b8487",
   "metadata": {},
   "outputs": [],
   "source": [
    "task2_df.to_csv('result_task2_df.csv')"
   ]
  },
  {
   "cell_type": "code",
   "execution_count": null,
   "id": "9f42d545",
   "metadata": {},
   "outputs": [],
   "source": []
  },
  {
   "cell_type": "markdown",
   "id": "22124e17",
   "metadata": {},
   "source": [
    "## Задание 3\n",
    "### Снова загружаем датафрейм с прошлого степа"
   ]
  },
  {
   "cell_type": "code",
   "execution_count": 2,
   "id": "365205fe",
   "metadata": {},
   "outputs": [],
   "source": [
    "task3_df = pd.read_csv('task2.csv', index_col=[0, 1]) # не редактируйте"
   ]
  },
  {
   "cell_type": "code",
   "execution_count": 3,
   "id": "c622b017",
   "metadata": {},
   "outputs": [
    {
     "data": {
      "text/html": [
       "<div>\n",
       "<style scoped>\n",
       "    .dataframe tbody tr th:only-of-type {\n",
       "        vertical-align: middle;\n",
       "    }\n",
       "\n",
       "    .dataframe tbody tr th {\n",
       "        vertical-align: top;\n",
       "    }\n",
       "\n",
       "    .dataframe thead th {\n",
       "        text-align: right;\n",
       "    }\n",
       "</style>\n",
       "<table border=\"1\" class=\"dataframe\">\n",
       "  <thead>\n",
       "    <tr style=\"text-align: right;\">\n",
       "      <th></th>\n",
       "      <th></th>\n",
       "      <th>count</th>\n",
       "      <th>sum</th>\n",
       "    </tr>\n",
       "    <tr>\n",
       "      <th>District</th>\n",
       "      <th>cost_type</th>\n",
       "      <th></th>\n",
       "      <th></th>\n",
       "    </tr>\n",
       "  </thead>\n",
       "  <tbody>\n",
       "    <tr>\n",
       "      <th rowspan=\"2\" valign=\"top\">Академический район</th>\n",
       "      <th>Бесплатная</th>\n",
       "      <td>3</td>\n",
       "      <td>19</td>\n",
       "    </tr>\n",
       "    <tr>\n",
       "      <th>Платная</th>\n",
       "      <td>1</td>\n",
       "      <td>8</td>\n",
       "    </tr>\n",
       "    <tr>\n",
       "      <th rowspan=\"2\" valign=\"top\">Алексеевский район</th>\n",
       "      <th>Бесплатная</th>\n",
       "      <td>9</td>\n",
       "      <td>88</td>\n",
       "    </tr>\n",
       "    <tr>\n",
       "      <th>Платная</th>\n",
       "      <td>7</td>\n",
       "      <td>64</td>\n",
       "    </tr>\n",
       "    <tr>\n",
       "      <th>Алтуфьевский район</th>\n",
       "      <th>Бесплатная</th>\n",
       "      <td>2</td>\n",
       "      <td>20</td>\n",
       "    </tr>\n",
       "    <tr>\n",
       "      <th>...</th>\n",
       "      <th>...</th>\n",
       "      <td>...</td>\n",
       "      <td>...</td>\n",
       "    </tr>\n",
       "    <tr>\n",
       "      <th>район Южное Тушино</th>\n",
       "      <th>Платная</th>\n",
       "      <td>5</td>\n",
       "      <td>44</td>\n",
       "    </tr>\n",
       "    <tr>\n",
       "      <th rowspan=\"2\" valign=\"top\">район Якиманка</th>\n",
       "      <th>Бесплатная</th>\n",
       "      <td>6</td>\n",
       "      <td>18</td>\n",
       "    </tr>\n",
       "    <tr>\n",
       "      <th>Платная</th>\n",
       "      <td>4</td>\n",
       "      <td>16</td>\n",
       "    </tr>\n",
       "    <tr>\n",
       "      <th rowspan=\"2\" valign=\"top\">район Ясенево</th>\n",
       "      <th>Бесплатная</th>\n",
       "      <td>9</td>\n",
       "      <td>66</td>\n",
       "    </tr>\n",
       "    <tr>\n",
       "      <th>Платная</th>\n",
       "      <td>4</td>\n",
       "      <td>38</td>\n",
       "    </tr>\n",
       "  </tbody>\n",
       "</table>\n",
       "<p>235 rows × 2 columns</p>\n",
       "</div>"
      ],
      "text/plain": [
       "                                count  sum\n",
       "District            cost_type             \n",
       "Академический район Бесплатная      3   19\n",
       "                    Платная         1    8\n",
       "Алексеевский район  Бесплатная      9   88\n",
       "                    Платная         7   64\n",
       "Алтуфьевский район  Бесплатная      2   20\n",
       "...                               ...  ...\n",
       "район Южное Тушино  Платная         5   44\n",
       "район Якиманка      Бесплатная      6   18\n",
       "                    Платная         4   16\n",
       "район Ясенево       Бесплатная      9   66\n",
       "                    Платная         4   38\n",
       "\n",
       "[235 rows x 2 columns]"
      ]
     },
     "execution_count": 3,
     "metadata": {},
     "output_type": "execute_result"
    }
   ],
   "source": [
    "task3_df"
   ]
  },
  {
   "cell_type": "markdown",
   "id": "00dd98ea",
   "metadata": {},
   "source": [
    "Отберите информацию о велопарковках в районах: \n",
    "- Алексеевский район\n",
    "- район Южное Тушино\n",
    "- район Ясенево"
   ]
  },
  {
   "cell_type": "markdown",
   "id": "bc784de0",
   "metadata": {},
   "source": [
    "Посчитайте суммарное количество парковок в разрезе по платным и бесплатным\n",
    "Для начала выполните преобразование как в прошлом задании, а потом вспомните, что мы проходили функцию суммирования по строкам и колонкам. Попробуй применить ее. На степик в поле с ответом введите 2 числа через пробел: количество по бесплатным и количество по платным\n",
    "Например: 10 15"
   ]
  },
  {
   "cell_type": "code",
   "execution_count": 12,
   "id": "f4a47171-ed0f-4ae1-b352-7249d03c4cf0",
   "metadata": {},
   "outputs": [
    {
     "data": {
      "text/plain": [
       "cost_type\n",
       "Бесплатная    20.0\n",
       "Платная       16.0\n",
       "dtype: float64"
      ]
     },
     "execution_count": 12,
     "metadata": {},
     "output_type": "execute_result"
    }
   ],
   "source": [
    "task3_df['count'].unstack().loc[['Алексеевский район', 'район Южное Тушино', 'район Ясенево'], :].sum()"
   ]
  },
  {
   "cell_type": "code",
   "execution_count": null,
   "id": "3aa43bef-d257-498a-8e6b-fa731722eaf2",
   "metadata": {},
   "outputs": [],
   "source": []
  },
  {
   "cell_type": "markdown",
   "id": "9aa320ba",
   "metadata": {},
   "source": [
    "## Задание 4. \n",
    "Загрузите файл task4.csv в котором содержится сводная информация о велопарковках в Москве"
   ]
  },
  {
   "cell_type": "code",
   "execution_count": 2,
   "id": "34f64982",
   "metadata": {},
   "outputs": [],
   "source": [
    "task4_df = pd.read_csv('task4.csv', index_col=[0, 1, 2]) # не редактируйте"
   ]
  },
  {
   "cell_type": "markdown",
   "id": "9fd74bbe",
   "metadata": {},
   "source": [
    "По каждому административному округу (AdmArea), району (District) и типу (cost_type) содержится количество парковок (count) и суммарное количество мест на этих парковках (sum)"
   ]
  },
  {
   "cell_type": "code",
   "execution_count": 3,
   "id": "3393bd40",
   "metadata": {},
   "outputs": [
    {
     "data": {
      "text/html": [
       "<div>\n",
       "<style scoped>\n",
       "    .dataframe tbody tr th:only-of-type {\n",
       "        vertical-align: middle;\n",
       "    }\n",
       "\n",
       "    .dataframe tbody tr th {\n",
       "        vertical-align: top;\n",
       "    }\n",
       "\n",
       "    .dataframe thead th {\n",
       "        text-align: right;\n",
       "    }\n",
       "</style>\n",
       "<table border=\"1\" class=\"dataframe\">\n",
       "  <thead>\n",
       "    <tr style=\"text-align: right;\">\n",
       "      <th></th>\n",
       "      <th></th>\n",
       "      <th></th>\n",
       "      <th>count</th>\n",
       "      <th>sum</th>\n",
       "    </tr>\n",
       "    <tr>\n",
       "      <th>AdmArea</th>\n",
       "      <th>District</th>\n",
       "      <th>cost_type</th>\n",
       "      <th></th>\n",
       "      <th></th>\n",
       "    </tr>\n",
       "  </thead>\n",
       "  <tbody>\n",
       "    <tr>\n",
       "      <th rowspan=\"5\" valign=\"top\">Восточный административный округ</th>\n",
       "      <th>Нижегородский район</th>\n",
       "      <th>Бесплатная</th>\n",
       "      <td>1</td>\n",
       "      <td>6</td>\n",
       "    </tr>\n",
       "    <tr>\n",
       "      <th rowspan=\"2\" valign=\"top\">район Богородское</th>\n",
       "      <th>Бесплатная</th>\n",
       "      <td>2</td>\n",
       "      <td>14</td>\n",
       "    </tr>\n",
       "    <tr>\n",
       "      <th>Платная</th>\n",
       "      <td>1</td>\n",
       "      <td>8</td>\n",
       "    </tr>\n",
       "    <tr>\n",
       "      <th rowspan=\"2\" valign=\"top\">район Вешняки</th>\n",
       "      <th>Бесплатная</th>\n",
       "      <td>5</td>\n",
       "      <td>35</td>\n",
       "    </tr>\n",
       "    <tr>\n",
       "      <th>Платная</th>\n",
       "      <td>3</td>\n",
       "      <td>17</td>\n",
       "    </tr>\n",
       "    <tr>\n",
       "      <th>...</th>\n",
       "      <th>...</th>\n",
       "      <th>...</th>\n",
       "      <td>...</td>\n",
       "      <td>...</td>\n",
       "    </tr>\n",
       "    <tr>\n",
       "      <th rowspan=\"5\" valign=\"top\">Южный административный округ</th>\n",
       "      <th>район Чертаново Северное</th>\n",
       "      <th>Платная</th>\n",
       "      <td>2</td>\n",
       "      <td>20</td>\n",
       "    </tr>\n",
       "    <tr>\n",
       "      <th rowspan=\"2\" valign=\"top\">район Чертаново Центральное</th>\n",
       "      <th>Бесплатная</th>\n",
       "      <td>7</td>\n",
       "      <td>68</td>\n",
       "    </tr>\n",
       "    <tr>\n",
       "      <th>Платная</th>\n",
       "      <td>3</td>\n",
       "      <td>21</td>\n",
       "    </tr>\n",
       "    <tr>\n",
       "      <th rowspan=\"2\" valign=\"top\">район Чертаново Южное</th>\n",
       "      <th>Бесплатная</th>\n",
       "      <td>9</td>\n",
       "      <td>86</td>\n",
       "    </tr>\n",
       "    <tr>\n",
       "      <th>Платная</th>\n",
       "      <td>4</td>\n",
       "      <td>36</td>\n",
       "    </tr>\n",
       "  </tbody>\n",
       "</table>\n",
       "<p>247 rows × 2 columns</p>\n",
       "</div>"
      ],
      "text/plain": [
       "                                                                         count  \\\n",
       "AdmArea                          District                    cost_type           \n",
       "Восточный административный округ Нижегородский район         Бесплатная      1   \n",
       "                                 район Богородское           Бесплатная      2   \n",
       "                                                             Платная         1   \n",
       "                                 район Вешняки               Бесплатная      5   \n",
       "                                                             Платная         3   \n",
       "...                                                                        ...   \n",
       "Южный административный округ     район Чертаново Северное    Платная         2   \n",
       "                                 район Чертаново Центральное Бесплатная      7   \n",
       "                                                             Платная         3   \n",
       "                                 район Чертаново Южное       Бесплатная      9   \n",
       "                                                             Платная         4   \n",
       "\n",
       "                                                                         sum  \n",
       "AdmArea                          District                    cost_type        \n",
       "Восточный административный округ Нижегородский район         Бесплатная    6  \n",
       "                                 район Богородское           Бесплатная   14  \n",
       "                                                             Платная       8  \n",
       "                                 район Вешняки               Бесплатная   35  \n",
       "                                                             Платная      17  \n",
       "...                                                                      ...  \n",
       "Южный административный округ     район Чертаново Северное    Платная      20  \n",
       "                                 район Чертаново Центральное Бесплатная   68  \n",
       "                                                             Платная      21  \n",
       "                                 район Чертаново Южное       Бесплатная   86  \n",
       "                                                             Платная      36  \n",
       "\n",
       "[247 rows x 2 columns]"
      ]
     },
     "execution_count": 3,
     "metadata": {},
     "output_type": "execute_result"
    }
   ],
   "source": [
    "task4_df"
   ]
  },
  {
   "cell_type": "markdown",
   "id": "d7aff86c",
   "metadata": {},
   "source": [
    "Посчитайте среднее количество бесплатных парковок в Южном административном округе. Ответ округлите вниз до целого числа. Ответ загрузите на степик."
   ]
  },
  {
   "cell_type": "code",
   "execution_count": 20,
   "id": "f650d57c-f42d-4524-b36b-4b61d8abbc39",
   "metadata": {},
   "outputs": [
    {
     "name": "stderr",
     "output_type": "stream",
     "text": [
      "C:\\ProgramData\\Anaconda3\\lib\\site-packages\\ipykernel_launcher.py:1: FutureWarning: Using the level keyword in DataFrame and Series aggregations is deprecated and will be removed in a future version. Use groupby instead. df.median(level=1) should use df.groupby(level=1).median().\n",
      "  \"\"\"Entry point for launching an IPython kernel.\n"
     ]
    },
    {
     "data": {
      "text/plain": [
       "4.1875"
      ]
     },
     "execution_count": 20,
     "metadata": {},
     "output_type": "execute_result"
    }
   ],
   "source": [
    "task4_df.loc['Южный административный округ']['count'].mean(level=1)['Бесплатная']"
   ]
  },
  {
   "cell_type": "code",
   "execution_count": null,
   "id": "afb2d9f6-a800-47ae-ab3c-f430f3181e3f",
   "metadata": {},
   "outputs": [],
   "source": []
  },
  {
   "cell_type": "markdown",
   "id": "60fb2927",
   "metadata": {},
   "source": [
    "## Задание 5. \n",
    "Загрузите файл task4.csv в котором содержится сводная информация о велопарковках в Москве"
   ]
  },
  {
   "cell_type": "code",
   "execution_count": 23,
   "id": "01409c6a",
   "metadata": {},
   "outputs": [],
   "source": [
    "task5_df = pd.read_csv('task4.csv', index_col=[0, 1, 2]) # не редактируйте"
   ]
  },
  {
   "cell_type": "markdown",
   "id": "0a696a3f",
   "metadata": {},
   "source": [
    "По каждому административному округу (AdmArea), району (District) и типу (cost_type) содержится количество парковок (count) и суммарное количество мест на этих парковках (sum)"
   ]
  },
  {
   "cell_type": "code",
   "execution_count": 24,
   "id": "9e0ac530",
   "metadata": {},
   "outputs": [
    {
     "data": {
      "text/html": [
       "<div>\n",
       "<style scoped>\n",
       "    .dataframe tbody tr th:only-of-type {\n",
       "        vertical-align: middle;\n",
       "    }\n",
       "\n",
       "    .dataframe tbody tr th {\n",
       "        vertical-align: top;\n",
       "    }\n",
       "\n",
       "    .dataframe thead th {\n",
       "        text-align: right;\n",
       "    }\n",
       "</style>\n",
       "<table border=\"1\" class=\"dataframe\">\n",
       "  <thead>\n",
       "    <tr style=\"text-align: right;\">\n",
       "      <th></th>\n",
       "      <th></th>\n",
       "      <th></th>\n",
       "      <th>count</th>\n",
       "      <th>sum</th>\n",
       "    </tr>\n",
       "    <tr>\n",
       "      <th>AdmArea</th>\n",
       "      <th>District</th>\n",
       "      <th>cost_type</th>\n",
       "      <th></th>\n",
       "      <th></th>\n",
       "    </tr>\n",
       "  </thead>\n",
       "  <tbody>\n",
       "    <tr>\n",
       "      <th rowspan=\"5\" valign=\"top\">Восточный административный округ</th>\n",
       "      <th>Нижегородский район</th>\n",
       "      <th>Бесплатная</th>\n",
       "      <td>1</td>\n",
       "      <td>6</td>\n",
       "    </tr>\n",
       "    <tr>\n",
       "      <th rowspan=\"2\" valign=\"top\">район Богородское</th>\n",
       "      <th>Бесплатная</th>\n",
       "      <td>2</td>\n",
       "      <td>14</td>\n",
       "    </tr>\n",
       "    <tr>\n",
       "      <th>Платная</th>\n",
       "      <td>1</td>\n",
       "      <td>8</td>\n",
       "    </tr>\n",
       "    <tr>\n",
       "      <th rowspan=\"2\" valign=\"top\">район Вешняки</th>\n",
       "      <th>Бесплатная</th>\n",
       "      <td>5</td>\n",
       "      <td>35</td>\n",
       "    </tr>\n",
       "    <tr>\n",
       "      <th>Платная</th>\n",
       "      <td>3</td>\n",
       "      <td>17</td>\n",
       "    </tr>\n",
       "    <tr>\n",
       "      <th>...</th>\n",
       "      <th>...</th>\n",
       "      <th>...</th>\n",
       "      <td>...</td>\n",
       "      <td>...</td>\n",
       "    </tr>\n",
       "    <tr>\n",
       "      <th rowspan=\"5\" valign=\"top\">Южный административный округ</th>\n",
       "      <th>район Чертаново Северное</th>\n",
       "      <th>Платная</th>\n",
       "      <td>2</td>\n",
       "      <td>20</td>\n",
       "    </tr>\n",
       "    <tr>\n",
       "      <th rowspan=\"2\" valign=\"top\">район Чертаново Центральное</th>\n",
       "      <th>Бесплатная</th>\n",
       "      <td>7</td>\n",
       "      <td>68</td>\n",
       "    </tr>\n",
       "    <tr>\n",
       "      <th>Платная</th>\n",
       "      <td>3</td>\n",
       "      <td>21</td>\n",
       "    </tr>\n",
       "    <tr>\n",
       "      <th rowspan=\"2\" valign=\"top\">район Чертаново Южное</th>\n",
       "      <th>Бесплатная</th>\n",
       "      <td>9</td>\n",
       "      <td>86</td>\n",
       "    </tr>\n",
       "    <tr>\n",
       "      <th>Платная</th>\n",
       "      <td>4</td>\n",
       "      <td>36</td>\n",
       "    </tr>\n",
       "  </tbody>\n",
       "</table>\n",
       "<p>247 rows × 2 columns</p>\n",
       "</div>"
      ],
      "text/plain": [
       "                                                                         count  \\\n",
       "AdmArea                          District                    cost_type           \n",
       "Восточный административный округ Нижегородский район         Бесплатная      1   \n",
       "                                 район Богородское           Бесплатная      2   \n",
       "                                                             Платная         1   \n",
       "                                 район Вешняки               Бесплатная      5   \n",
       "                                                             Платная         3   \n",
       "...                                                                        ...   \n",
       "Южный административный округ     район Чертаново Северное    Платная         2   \n",
       "                                 район Чертаново Центральное Бесплатная      7   \n",
       "                                                             Платная         3   \n",
       "                                 район Чертаново Южное       Бесплатная      9   \n",
       "                                                             Платная         4   \n",
       "\n",
       "                                                                         sum  \n",
       "AdmArea                          District                    cost_type        \n",
       "Восточный административный округ Нижегородский район         Бесплатная    6  \n",
       "                                 район Богородское           Бесплатная   14  \n",
       "                                                             Платная       8  \n",
       "                                 район Вешняки               Бесплатная   35  \n",
       "                                                             Платная      17  \n",
       "...                                                                      ...  \n",
       "Южный административный округ     район Чертаново Северное    Платная      20  \n",
       "                                 район Чертаново Центральное Бесплатная   68  \n",
       "                                                             Платная      21  \n",
       "                                 район Чертаново Южное       Бесплатная   86  \n",
       "                                                             Платная      36  \n",
       "\n",
       "[247 rows x 2 columns]"
      ]
     },
     "execution_count": 24,
     "metadata": {},
     "output_type": "execute_result"
    }
   ],
   "source": [
    "task5_df"
   ]
  },
  {
   "cell_type": "markdown",
   "id": "1b110329",
   "metadata": {},
   "source": [
    "Найдите в каком районе восточного административного округа больше всего мест на бесплатных парковках. Правильный район выберите из списка на степике."
   ]
  },
  {
   "cell_type": "code",
   "execution_count": 11,
   "id": "c616c3dc",
   "metadata": {},
   "outputs": [],
   "source": [
    "task5_df = task5_df.reset_index()"
   ]
  },
  {
   "cell_type": "code",
   "execution_count": 21,
   "id": "7676331d-dcf1-4f62-818a-70c295991dd1",
   "metadata": {},
   "outputs": [
    {
     "data": {
      "text/plain": [
       "District\n",
       "Нижегородский район           6\n",
       "район Богородское            14\n",
       "район Вешняки                35\n",
       "район Восточное Измайлово     8\n",
       "район Гольяново               9\n",
       "район Ивановское             16\n",
       "район Измайлово              11\n",
       "район Косино-Ухтомский       18\n",
       "район Метрогородок           18\n",
       "район Новогиреево            11\n",
       "район Новокосино              1\n",
       "район Перово                 35\n",
       "район Преображенское         21\n",
       "район Северное Измайлово      1\n",
       "район Соколиная Гора         16\n",
       "район Сокольники             28\n",
       "Name: sum, dtype: int64"
      ]
     },
     "execution_count": 21,
     "metadata": {},
     "output_type": "execute_result"
    }
   ],
   "source": [
    "task5_df.query(\"AdmArea == 'Восточный административный округ' and cost_type == 'Бесплатная'\").groupby('District').sum()['sum']"
   ]
  },
  {
   "cell_type": "code",
   "execution_count": null,
   "id": "db1cd857-c60e-4660-886e-4537faf27dde",
   "metadata": {},
   "outputs": [],
   "source": []
  },
  {
   "cell_type": "code",
   "execution_count": null,
   "id": "a589b57a-3f0a-47a1-91e9-34561a8107c3",
   "metadata": {},
   "outputs": [],
   "source": []
  },
  {
   "cell_type": "code",
   "execution_count": null,
   "id": "13028d55",
   "metadata": {},
   "outputs": [],
   "source": []
  },
  {
   "cell_type": "code",
   "execution_count": 4,
   "id": "6715c089-7f5f-4f0a-b183-f0c83d3dc61d",
   "metadata": {},
   "outputs": [],
   "source": [
    "## Мои эксперименты"
   ]
  },
  {
   "cell_type": "code",
   "execution_count": 36,
   "id": "10abbaee-4671-4368-83bd-0c5cb36b09ce",
   "metadata": {},
   "outputs": [
    {
     "name": "stderr",
     "output_type": "stream",
     "text": [
      "C:\\ProgramData\\Anaconda3\\lib\\site-packages\\ipykernel_launcher.py:1: FutureWarning: Using the level keyword in DataFrame and Series aggregations is deprecated and will be removed in a future version. Use groupby instead. df.sum(level=1) should use df.groupby(level=1).sum().\n",
      "  \"\"\"Entry point for launching an IPython kernel.\n"
     ]
    }
   ],
   "source": [
    "df = task4_df.sum(level=0)"
   ]
  },
  {
   "cell_type": "code",
   "execution_count": 37,
   "id": "4bf29233-5846-4033-a1e3-8e8232afd31d",
   "metadata": {},
   "outputs": [
    {
     "data": {
      "text/html": [
       "<div>\n",
       "<style scoped>\n",
       "    .dataframe tbody tr th:only-of-type {\n",
       "        vertical-align: middle;\n",
       "    }\n",
       "\n",
       "    .dataframe tbody tr th {\n",
       "        vertical-align: top;\n",
       "    }\n",
       "\n",
       "    .dataframe thead th {\n",
       "        text-align: right;\n",
       "    }\n",
       "</style>\n",
       "<table border=\"1\" class=\"dataframe\">\n",
       "  <thead>\n",
       "    <tr style=\"text-align: right;\">\n",
       "      <th></th>\n",
       "      <th>count</th>\n",
       "      <th>sum</th>\n",
       "    </tr>\n",
       "    <tr>\n",
       "      <th>AdmArea</th>\n",
       "      <th></th>\n",
       "      <th></th>\n",
       "    </tr>\n",
       "  </thead>\n",
       "  <tbody>\n",
       "    <tr>\n",
       "      <th>Восточный административный округ</th>\n",
       "      <td>79</td>\n",
       "      <td>504</td>\n",
       "    </tr>\n",
       "    <tr>\n",
       "      <th>Западный административный округ</th>\n",
       "      <td>48</td>\n",
       "      <td>358</td>\n",
       "    </tr>\n",
       "    <tr>\n",
       "      <th>Зеленоградский административный округ</th>\n",
       "      <td>20</td>\n",
       "      <td>148</td>\n",
       "    </tr>\n",
       "    <tr>\n",
       "      <th>Новомосковский административный округ</th>\n",
       "      <td>12</td>\n",
       "      <td>148</td>\n",
       "    </tr>\n",
       "    <tr>\n",
       "      <th>Северный административный округ</th>\n",
       "      <td>81</td>\n",
       "      <td>630</td>\n",
       "    </tr>\n",
       "    <tr>\n",
       "      <th>Северо-Восточный административный округ</th>\n",
       "      <td>175</td>\n",
       "      <td>1554</td>\n",
       "    </tr>\n",
       "    <tr>\n",
       "      <th>Северо-Западный административный округ</th>\n",
       "      <td>41</td>\n",
       "      <td>332</td>\n",
       "    </tr>\n",
       "    <tr>\n",
       "      <th>Центральный административный округ</th>\n",
       "      <td>272</td>\n",
       "      <td>784</td>\n",
       "    </tr>\n",
       "    <tr>\n",
       "      <th>Юго-Восточный административный округ</th>\n",
       "      <td>72</td>\n",
       "      <td>506</td>\n",
       "    </tr>\n",
       "    <tr>\n",
       "      <th>Юго-Западный административный округ</th>\n",
       "      <td>97</td>\n",
       "      <td>809</td>\n",
       "    </tr>\n",
       "    <tr>\n",
       "      <th>Южный административный округ</th>\n",
       "      <td>150</td>\n",
       "      <td>1324</td>\n",
       "    </tr>\n",
       "  </tbody>\n",
       "</table>\n",
       "</div>"
      ],
      "text/plain": [
       "                                         count   sum\n",
       "AdmArea                                             \n",
       "Восточный административный округ            79   504\n",
       "Западный административный округ             48   358\n",
       "Зеленоградский административный округ       20   148\n",
       "Новомосковский административный округ       12   148\n",
       "Северный административный округ             81   630\n",
       "Северо-Восточный административный округ    175  1554\n",
       "Северо-Западный административный округ      41   332\n",
       "Центральный административный округ         272   784\n",
       "Юго-Восточный административный округ        72   506\n",
       "Юго-Западный административный округ         97   809\n",
       "Южный административный округ               150  1324"
      ]
     },
     "execution_count": 37,
     "metadata": {},
     "output_type": "execute_result"
    }
   ],
   "source": [
    "df"
   ]
  },
  {
   "cell_type": "code",
   "execution_count": 48,
   "id": "07517fda-fa4d-41e6-a8ce-f6cc9e874914",
   "metadata": {},
   "outputs": [],
   "source": [
    "def foo(x, y):\n",
    "    return x + y"
   ]
  },
  {
   "cell_type": "code",
   "execution_count": 50,
   "id": "c1f6004f-e652-44e9-804c-8c21f3913a3d",
   "metadata": {},
   "outputs": [],
   "source": [
    "df['new_col'] = df.apply(lambda x: foo(x['count'], x['sum']), axis=1)"
   ]
  },
  {
   "cell_type": "code",
   "execution_count": 51,
   "id": "673c3b70-2a7b-463d-b1c8-c38371ab671c",
   "metadata": {},
   "outputs": [
    {
     "data": {
      "text/html": [
       "<div>\n",
       "<style scoped>\n",
       "    .dataframe tbody tr th:only-of-type {\n",
       "        vertical-align: middle;\n",
       "    }\n",
       "\n",
       "    .dataframe tbody tr th {\n",
       "        vertical-align: top;\n",
       "    }\n",
       "\n",
       "    .dataframe thead th {\n",
       "        text-align: right;\n",
       "    }\n",
       "</style>\n",
       "<table border=\"1\" class=\"dataframe\">\n",
       "  <thead>\n",
       "    <tr style=\"text-align: right;\">\n",
       "      <th></th>\n",
       "      <th>count</th>\n",
       "      <th>sum</th>\n",
       "      <th>new_col</th>\n",
       "    </tr>\n",
       "    <tr>\n",
       "      <th>AdmArea</th>\n",
       "      <th></th>\n",
       "      <th></th>\n",
       "      <th></th>\n",
       "    </tr>\n",
       "  </thead>\n",
       "  <tbody>\n",
       "    <tr>\n",
       "      <th>Восточный административный округ</th>\n",
       "      <td>79</td>\n",
       "      <td>504</td>\n",
       "      <td>583</td>\n",
       "    </tr>\n",
       "    <tr>\n",
       "      <th>Западный административный округ</th>\n",
       "      <td>48</td>\n",
       "      <td>358</td>\n",
       "      <td>406</td>\n",
       "    </tr>\n",
       "    <tr>\n",
       "      <th>Зеленоградский административный округ</th>\n",
       "      <td>20</td>\n",
       "      <td>148</td>\n",
       "      <td>168</td>\n",
       "    </tr>\n",
       "    <tr>\n",
       "      <th>Новомосковский административный округ</th>\n",
       "      <td>12</td>\n",
       "      <td>148</td>\n",
       "      <td>160</td>\n",
       "    </tr>\n",
       "    <tr>\n",
       "      <th>Северный административный округ</th>\n",
       "      <td>81</td>\n",
       "      <td>630</td>\n",
       "      <td>711</td>\n",
       "    </tr>\n",
       "    <tr>\n",
       "      <th>Северо-Восточный административный округ</th>\n",
       "      <td>175</td>\n",
       "      <td>1554</td>\n",
       "      <td>1729</td>\n",
       "    </tr>\n",
       "    <tr>\n",
       "      <th>Северо-Западный административный округ</th>\n",
       "      <td>41</td>\n",
       "      <td>332</td>\n",
       "      <td>373</td>\n",
       "    </tr>\n",
       "    <tr>\n",
       "      <th>Центральный административный округ</th>\n",
       "      <td>272</td>\n",
       "      <td>784</td>\n",
       "      <td>1056</td>\n",
       "    </tr>\n",
       "    <tr>\n",
       "      <th>Юго-Восточный административный округ</th>\n",
       "      <td>72</td>\n",
       "      <td>506</td>\n",
       "      <td>578</td>\n",
       "    </tr>\n",
       "    <tr>\n",
       "      <th>Юго-Западный административный округ</th>\n",
       "      <td>97</td>\n",
       "      <td>809</td>\n",
       "      <td>906</td>\n",
       "    </tr>\n",
       "    <tr>\n",
       "      <th>Южный административный округ</th>\n",
       "      <td>150</td>\n",
       "      <td>1324</td>\n",
       "      <td>1474</td>\n",
       "    </tr>\n",
       "  </tbody>\n",
       "</table>\n",
       "</div>"
      ],
      "text/plain": [
       "                                         count   sum  new_col\n",
       "AdmArea                                                      \n",
       "Восточный административный округ            79   504      583\n",
       "Западный административный округ             48   358      406\n",
       "Зеленоградский административный округ       20   148      168\n",
       "Новомосковский административный округ       12   148      160\n",
       "Северный административный округ             81   630      711\n",
       "Северо-Восточный административный округ    175  1554     1729\n",
       "Северо-Западный административный округ      41   332      373\n",
       "Центральный административный округ         272   784     1056\n",
       "Юго-Восточный административный округ        72   506      578\n",
       "Юго-Западный административный округ         97   809      906\n",
       "Южный административный округ               150  1324     1474"
      ]
     },
     "execution_count": 51,
     "metadata": {},
     "output_type": "execute_result"
    }
   ],
   "source": [
    "df"
   ]
  },
  {
   "cell_type": "code",
   "execution_count": 55,
   "id": "1cc4d019-6cdc-441f-b073-6daa569dc1ec",
   "metadata": {},
   "outputs": [
    {
     "data": {
      "text/plain": [
       "count      1047\n",
       "sum        7097\n",
       "new_col    8144\n",
       "dtype: int64"
      ]
     },
     "execution_count": 55,
     "metadata": {},
     "output_type": "execute_result"
    }
   ],
   "source": [
    "df.apply(lambda x: x.sum())"
   ]
  },
  {
   "cell_type": "code",
   "execution_count": null,
   "id": "5c24b078-c699-4a6c-8a43-82d1cb87566d",
   "metadata": {},
   "outputs": [],
   "source": []
  },
  {
   "cell_type": "code",
   "execution_count": null,
   "id": "d50bba3e-3477-45e2-bd43-fef05a32d1c8",
   "metadata": {},
   "outputs": [],
   "source": []
  },
  {
   "cell_type": "code",
   "execution_count": null,
   "id": "ff39148e",
   "metadata": {},
   "outputs": [],
   "source": []
  }
 ],
 "metadata": {
  "kernelspec": {
   "display_name": "Python 3",
   "language": "python",
   "name": "python3"
  },
  "language_info": {
   "codemirror_mode": {
    "name": "ipython",
    "version": 3
   },
   "file_extension": ".py",
   "mimetype": "text/x-python",
   "name": "python",
   "nbconvert_exporter": "python",
   "pygments_lexer": "ipython3",
   "version": "3.8.8"
  }
 },
 "nbformat": 4,
 "nbformat_minor": 5
}
